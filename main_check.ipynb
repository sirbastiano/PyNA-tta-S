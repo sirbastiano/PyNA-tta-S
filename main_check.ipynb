{
 "cells": [
  {
   "cell_type": "code",
   "execution_count": null,
   "metadata": {},
   "outputs": [],
   "source": [
    "%load_ext autoreload\n",
    "%autoreload 2\n",
    "\n",
    "##################################\n",
    "##################################\n",
    "import os\n",
    "os.environ[\"PYTORCH_CUDA_ALLOC_CONF\"] = \"max_split_size_mb:128\"\n",
    "\n",
    "# Imports\n",
    "from pynattas.builder.netBuilder import GenericNetwork \n",
    "from pynattas.utils import layerCoder\n",
    "\n",
    "import configparser\n",
    "import pynattas as pnas\n",
    "from datetime import datetime\n",
    "import time\n",
    "\n",
    "config = configparser.ConfigParser()\n",
    "config.read('config.ini')\n",
    "\n",
    "\n",
    "nas_check = config.getboolean(section='Mode', option='network_architecture_search')\n",
    "ht_check = config.getboolean(section='Mode', option='hyperparameter_tuning')\n",
    "\n",
    "\n",
    "task = config['Mode']['task']\n",
    "if task not in ['C','D']:\n",
    "    print(f\"Error: Selected Task {task} is not available. Check config_optimizer.ini for verification.\")\n",
    "    exit()\n",
    "else:\n",
    "    print(f\"Task: {task}\")\n",
    "# Define NAS parameters and run GA\n",
    "max_layers = config.getint('GeneralNetwork', 'max_layers')\n",
    "max_iterations = int(config['GA']['max_iterations'])\n",
    "population_size = int(config['GA']['population_size'])\n",
    "log_path = str(config['GA']['logs_dir_GA'])\n",
    "mating_pool_cutoff = float(config['GA']['mating_pool_cutoff'])\n",
    "mutation_probability = float(config['GA']['mutation_probability'])\n",
    "############################################\n",
    "print(f\"Max Layers: {max_layers}\")\n",
    "print(f\"Max Iterations: {max_iterations}\")\n",
    "print(f\"Population Size: {population_size}\")\n",
    "print(f\"Log Path: {log_path}\")\n",
    "print(f\"Mating Pool Cutoff: {mating_pool_cutoff}\")\n",
    "print(f\"Mutation Probability: {mutation_probability}\")"
   ]
  },
  {
   "cell_type": "code",
   "execution_count": null,
   "metadata": {},
   "outputs": [],
   "source": [
    "# Define population\n",
    "from pynattas.builder.population import Population\n",
    "import torch \n",
    "\n",
    "\n",
    "pop = Population(n_individuals=3)\n",
    "print(f\"Initial Population: {len(pop.population)}\")\n",
    "print(f\"Current Generation: {pop.iteration}\")\n",
    "\n",
    "idx = 0\n",
    "input_channels = 3\n",
    "input_height = 224\n",
    "input_width = 224\n",
    "num_classes = 2\n"
   ]
  },
  {
   "cell_type": "code",
   "execution_count": null,
   "metadata": {},
   "outputs": [],
   "source": [
    "\n",
    "config = configparser.ConfigParser()\n",
    "config.read('config.ini')\n",
    "\n",
    "config['GeneralNetwork']"
   ]
  },
  {
   "cell_type": "code",
   "execution_count": 1,
   "metadata": {},
   "outputs": [],
   "source": [
    "from pynattas.builder.individual import Individual"
   ]
  },
  {
   "cell_type": "code",
   "execution_count": null,
   "metadata": {},
   "outputs": [
    {
     "name": "stderr",
     "output_type": "stream",
     "text": [
      "Building layer 25/35: ConvAct:  71%|███████▏  | 25/35 [00:00<00:00, 228.35layer/s]       \n",
      "Building layer 13/37: ConvBnAct:  35%|███▌      | 13/37 [00:00<00:00, 249.01layer/s]   \n",
      "Building layer 21/51: ConvSE:  41%|████      | 21/51 [00:00<00:00, 127.66layer/s]       \n",
      "Building layer 22/45: AvgPool:  49%|████▉     | 22/45 [00:00<00:00, 155.38layer/s]       \n",
      "Building layer 9/49: ConvBnAct:  18%|█▊        | 9/49 [00:00<00:00, 52.42layer/s]   \n",
      "Building layer 29/47: CSPMBConvBlock:  62%|██████▏   | 29/47 [00:00<00:00, 195.69layer/s]\n",
      "Building layer 16/35: AvgPool:  46%|████▌     | 16/35 [00:00<00:00, 331.97layer/s]     \n",
      "Building layer 30/35: Identity:  86%|████████▌ | 30/35 [00:01<00:00, 27.23layer/s]      \n",
      "Building layer 13/47: ConvSE:  28%|██▊       | 13/47 [00:00<00:00, 331.77layer/s]     \n",
      "Building layer 23/49: ConvSE:  47%|████▋     | 23/49 [00:08<00:09,  2.85layer/s]         \n",
      "Building layer 27/41: MBConv:  66%|██████▌   | 27/41 [00:00<00:00, 316.68layer/s]        \n",
      "Building layer 30/43: MaxPool:  70%|██████▉   | 30/43 [00:00<00:00, 401.45layer/s]       \n",
      "Building layer 16/51: AvgPool:  31%|███▏      | 16/51 [00:00<00:00, 311.50layer/s]       \n",
      "Building layer 30/49: Identity:  59%|█████▉    | 29/49 [00:21<00:22,  1.14s/layer]       "
     ]
    }
   ],
   "source": [
    "for _ in range(1):\n",
    "    i = Individual()"
   ]
  },
  {
   "cell_type": "code",
   "execution_count": 3,
   "metadata": {},
   "outputs": [
    {
     "data": {
      "text/plain": [
       "'LOaln1|PM|LPe4aln1|Pa|Lme4agn1|PI|Lne6aln1|PM|Lco4k4s2p1aln1|PI|LRr4arn1|PI|Leo4k4s2p2arn1|PI|Lne3agn1|Pa|HC||'"
      ]
     },
     "execution_count": 3,
     "metadata": {},
     "output_type": "execute_result"
    }
   ],
   "source": [
    "i.architecture"
   ]
  },
  {
   "cell_type": "code",
   "execution_count": 3,
   "metadata": {},
   "outputs": [],
   "source": [
    "from pynattas.builder.population import Population\n",
    "import torch \n",
    "\n",
    "max_layers = 5\n",
    "population_size = 10\n",
    "\n",
    "pop = Population(max_layers=max_layers, n_individuals=population_size)"
   ]
  },
  {
   "cell_type": "code",
   "execution_count": null,
   "metadata": {},
   "outputs": [],
   "source": [
    "pop.population[0].architecture"
   ]
  },
  {
   "cell_type": "code",
   "execution_count": null,
   "metadata": {},
   "outputs": [],
   "source": []
  },
  {
   "cell_type": "code",
   "execution_count": null,
   "metadata": {},
   "outputs": [],
   "source": []
  },
  {
   "cell_type": "code",
   "execution_count": 6,
   "metadata": {},
   "outputs": [],
   "source": [
    "# from pynattas.optimizers import ga"
   ]
  },
  {
   "cell_type": "code",
   "execution_count": null,
   "metadata": {},
   "outputs": [],
   "source": [
    "# nas_result = pnas.optimizers.ga.ga_optimizer(\n",
    "#     max_layers=max_layers,\n",
    "#     max_iter=max_iterations,\n",
    "#     n_individuals=population_size,\n",
    "#     mating_pool_cutoff=mating_pool_cutoff,\n",
    "#     mutation_probability=mutation_probability,\n",
    "#     logs_directory=log_path,\n",
    "#     task=task,\n",
    "# )"
   ]
  },
  {
   "cell_type": "code",
   "execution_count": null,
   "metadata": {},
   "outputs": [],
   "source": []
  }
 ],
 "metadata": {
  "kernelspec": {
   "display_name": "pynatas",
   "language": "python",
   "name": "python3"
  },
  "language_info": {
   "codemirror_mode": {
    "name": "ipython",
    "version": 3
   },
   "file_extension": ".py",
   "mimetype": "text/x-python",
   "name": "python",
   "nbconvert_exporter": "python",
   "pygments_lexer": "ipython3",
   "version": "3.10.15"
  }
 },
 "nbformat": 4,
 "nbformat_minor": 2
}
