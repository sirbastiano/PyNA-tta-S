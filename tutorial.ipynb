{
 "cells": [
  {
   "cell_type": "markdown",
   "metadata": {},
   "source": [
    "# Guide to Pynattas (old version)"
   ]
  },
  {
   "cell_type": "markdown",
   "metadata": {},
   "source": [
    "NOTE: assuming dependencies already in place. A guide for dependencies will be created on a later date. For now, make sure to have the latest compatible versions of:\n",
    "- pytorch and pytorch lightning, torchmetrics and torchvision, cuda\n",
    "- tensorflow and tensorboard\n",
    "- tqdm\n",
    "- datetime\n",
    "- matplotlib and nump\n",
    "\n",
    "Solve any further incompatibilities as they are raised."
   ]
  },
  {
   "cell_type": "markdown",
   "metadata": {},
   "source": [
    "## Run the code with current configuration"
   ]
  },
  {
   "cell_type": "markdown",
   "metadata": {},
   "source": [
    "NOTE: There are possible combinations of blocks that will crash the run. A saner block selection logic will be added in the future."
   ]
  },
  {
   "cell_type": "code",
   "execution_count": null,
   "metadata": {},
   "outputs": [],
   "source": [
    "import pynattas as pnas"
   ]
  },
  {
   "cell_type": "code",
   "execution_count": null,
   "metadata": {},
   "outputs": [],
   "source": [
    "%run main.py"
   ]
  },
  {
   "cell_type": "markdown",
   "metadata": {},
   "source": [
    "## GUIDE TO CONFIG.INI"
   ]
  },
  {
   "cell_type": "markdown",
   "metadata": {},
   "source": [
    "NOTE: most sanity checks are still missing. Be careful please."
   ]
  },
  {
   "cell_type": "markdown",
   "metadata": {},
   "source": [
    "- In the [Mode] section, select the desired mode for pynattas. If both are true, nas will be done first, then ht will be done on the winning architecture of nas. If only ht is true, then tuning will be done on the architecture written in architecture_code under the [NAS] section.\n",
    "- max_layers in [NAS] section refers to the maximum size of the chromosomes (aka, maximum number of convolutions-type layers).\n",
    "- In the [GA] section, change the parameters for NAS search.\n",
    "- In the [Computation] section, be careful about the num_workers value. Currently set to 1 for safety when testing parallelization. In computation, also change the accellerator to either \"cpu\" or \"gpu\".\n"
   ]
  },
  {
   "cell_type": "markdown",
   "metadata": {},
   "source": [
    "## GUIDE TO PARALLELIZATION (currently broken)"
   ]
  },
  {
   "cell_type": "markdown",
   "metadata": {},
   "source": [
    "NOTE: Mostly untested.\n",
    "- In main.py, change line 54 (\"nas_result = pnas.optimizers.ga.ga_optimizer(\") to:\n",
    "    - nas_result = pnas.optimizers.ga_concurrent.ga_optimizer(\" for nas parallelization using a ThreadPoolExecutor\n",
    "    - nas_result = pnas.optimizers.ga_concurrent_pp.ga_optimizer(\" for nas parallelization using a ProcessPoolExecutor\n",
    "\n",
    "Currently, it looks like there are issues with ProcessPoolExecutor. Regardless, be careful when selecting num_workers in the config.ini when testing these."
   ]
  },
  {
   "cell_type": "markdown",
   "metadata": {},
   "source": [
    "## TO ADD NEW BLOCKS"
   ]
  },
  {
   "cell_type": "markdown",
   "metadata": {},
   "source": [
    "- in pynattas.blocks add the new block to the related .py file depending on type.\n",
    "- in config.ini add the new block as a section with all related parameters. Use \"default_\" for default values that are used during NAS, and \"min_\" and \"max_\" for range values to be used during tuning. Also, update the commented vocabulary at the start for clarity purposes.\n",
    "- in pynattas.configuration.vocabulary, update relative vocabularies.\n",
    "- in pynattas.classes.generic_network, add the layer construction to the list making sure that the current_layers, current_height, and current_width is calculated correctly.\n",
    "    "
   ]
  },
  {
   "cell_type": "markdown",
   "metadata": {},
   "source": [
    "## TO WORK ON NEW DATASET"
   ]
  },
  {
   "cell_type": "markdown",
   "metadata": {},
   "source": [
    "- Add dataset to the \"data\" folder\n",
    "- Add compatible datamodule to the \"datasets\" folder\n",
    "- in pynattas.functions.fitness, import the desired datamodule. Also, around line 59, update the datahandling to be compatible with your datamodule. For the ClassificationHead, Make sure the data is resized to 256x256 sized HxW images, that the number of channels passed to the model is correct.\n",
    "- change config.ini in the [Dataset] section. \"data_path\" should point to the dataset, \"csv_path\" is for a .csv for labels if required. If it's not required, imput None"
   ]
  },
  {
   "cell_type": "markdown",
   "metadata": {},
   "source": [
    "## GUIDE TO LOGS"
   ]
  },
  {
   "cell_type": "markdown",
   "metadata": {},
   "source": [
    "Logs are stored in the \"logs\" folder and in the \"lightning_logs\" folder. In \"logs\", you will find:\n",
    "- logs about NAS iterations and results in the GA_logs subfolder\n",
    "- logs about HT iterations and results in either the GWO_logs or PSO_logs subfolder depending on the selected HT algorithm\n",
    "- logs about the final run comprised of the saved checkpoint .ckpt file in the \"tb_logs\" subfolder, together with all the confusion matrixes generated."
   ]
  },
  {
   "cell_type": "markdown",
   "metadata": {},
   "source": [
    "## INFERENCE (Coming soon...)"
   ]
  }
 ],
 "metadata": {
  "kernelspec": {
   "display_name": "deeplearning",
   "language": "python",
   "name": "python3"
  },
  "language_info": {
   "codemirror_mode": {
    "name": "ipython",
    "version": 3
   },
   "file_extension": ".py",
   "mimetype": "text/x-python",
   "name": "python",
   "nbconvert_exporter": "python",
   "pygments_lexer": "ipython3",
   "version": "3.11.5"
  }
 },
 "nbformat": 4,
 "nbformat_minor": 2
}
