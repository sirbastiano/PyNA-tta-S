{
 "cells": [
  {
   "cell_type": "code",
   "execution_count": 2,
   "metadata": {},
   "outputs": [
    {
     "name": "stdout",
     "output_type": "stream",
     "text": [
      "Task: C\n"
     ]
    }
   ],
   "source": [
    "import os\n",
    "os.environ[\"PYTORCH_CUDA_ALLOC_CONF\"] = \"max_split_size_mb:128\"\n",
    "\n",
    "# Imports\n",
    "import configparser\n",
    "import pynattas as pnas\n",
    "from datetime import datetime\n",
    "import time\n",
    "\n",
    "config = configparser.ConfigParser()\n",
    "config.read('config.ini')\n",
    "\n",
    "\n",
    "nas_check = config.getboolean(section='Mode', option='network_architecture_search')\n",
    "ht_check = config.getboolean(section='Mode', option='hyperparameter_tuning')\n",
    "\n",
    "\n",
    "task = config['Mode']['task']\n",
    "if task not in ['C','D']:\n",
    "    print(f\"Error: Selected Task {task} is not available. Check config_optimizer.ini for verification.\")\n",
    "    exit()\n",
    "else:\n",
    "    print(f\"Task: {task}\")"
   ]
  },
  {
   "cell_type": "code",
   "execution_count": 3,
   "metadata": {},
   "outputs": [
    {
     "name": "stdout",
     "output_type": "stream",
     "text": [
      "Max Layers: 10\n",
      "Max Iterations: 4\n",
      "Population Size: 8\n",
      "Log Path: ./logs/GA_logs\n",
      "Mating Pool Cutoff: 0.8\n",
      "Mutation Probability: 0.1\n"
     ]
    }
   ],
   "source": [
    "# Define NAS parameters and run GA\n",
    "max_layers = config.getint('NAS', 'max_layers')\n",
    "max_iterations = int(config['GA']['max_iterations'])\n",
    "population_size = int(config['GA']['population_size'])\n",
    "log_path = str(config['GA']['logs_dir_GA'])\n",
    "mating_pool_cutoff = float(config['GA']['mating_pool_cutoff'])\n",
    "mutation_probability = float(config['GA']['mutation_probability'])\n",
    "############################################\n",
    "print(f\"Max Layers: {max_layers}\")\n",
    "print(f\"Max Iterations: {max_iterations}\")\n",
    "print(f\"Population Size: {population_size}\")\n",
    "print(f\"Log Path: {log_path}\")\n",
    "print(f\"Mating Pool Cutoff: {mating_pool_cutoff}\")\n",
    "print(f\"Mutation Probability: {mutation_probability}\")"
   ]
  },
  {
   "cell_type": "code",
   "execution_count": 5,
   "metadata": {},
   "outputs": [
    {
     "name": "stdout",
     "output_type": "stream",
     "text": [
      "Initial Population: 8\n",
      "Current Generation: 0\n"
     ]
    },
    {
     "data": {
      "text/plain": [
       "['Lme4agn1|Pa|Ldo4agn1|PI|Ldo2aln1|Pa|LOaln1|Pa|LOarn1|PM|Lme5agn1|Pa|HC||',\n",
       " 'Lco3k4s1p2arn1|PI|HC||',\n",
       " 'LRr3arn1|PM|Lne4agn1|Pa|LPe5arn1|PI|Lbo4k5s2p1arn1|PI|HC||',\n",
       " 'Lbo3k4s2p1aln1|Pa|LPe5agn1|PM|HC||',\n",
       " 'LOagn1|PM|Lco3k3s1p2aln1|PM|LRr2aln1|PI|Ldo4agn1|PI|Ldo2agn1|PI|Lco3k4s2p1arn1|PM|Lme6arn1|PI|HC||',\n",
       " 'LRr4agn1|PM|Ldo2aln1|Pa|LPe6agn1|PM|HC||',\n",
       " 'Lco2k5s2p0agn1|Pa|Lco3k3s2p1agn1|PI|Leo2k4s1p2agn1|Pa|Lme4aln1|Pa|Leo2k4s2p2arn1|PM|LOarn1|Pa|Ldo3agn1|PI|HC||',\n",
       " 'Lbo3k4s1p1arn1|PI|LOarn1|PI|Lbo4k4s2p0aln1|PM|Lne3arn1|PI|HC||']"
      ]
     },
     "execution_count": 5,
     "metadata": {},
     "output_type": "execute_result"
    }
   ],
   "source": [
    "# Define population\n",
    "from pynattas.builder.population import Population\n",
    "\n",
    "pop = Population(max_layers=max_layers, n_individuals=population_size)\n",
    "print(f\"Initial Population: {len(pop.population)}\")\n",
    "print(f\"Current Generation: {pop.iteration}\")\n",
    "\n",
    "[x.architecture for x in pop.population]"
   ]
  },
  {
   "cell_type": "code",
   "execution_count": null,
   "metadata": {},
   "outputs": [],
   "source": []
  },
  {
   "cell_type": "code",
   "execution_count": null,
   "metadata": {},
   "outputs": [],
   "source": []
  },
  {
   "cell_type": "code",
   "execution_count": null,
   "metadata": {},
   "outputs": [],
   "source": []
  },
  {
   "cell_type": "code",
   "execution_count": null,
   "metadata": {},
   "outputs": [],
   "source": []
  },
  {
   "cell_type": "code",
   "execution_count": null,
   "metadata": {},
   "outputs": [],
   "source": []
  },
  {
   "cell_type": "code",
   "execution_count": 6,
   "metadata": {},
   "outputs": [],
   "source": [
    "# from pynattas.optimizers import ga"
   ]
  },
  {
   "cell_type": "code",
   "execution_count": 4,
   "metadata": {},
   "outputs": [
    {
     "ename": "AttributeError",
     "evalue": "module 'pynattas.optimizers' has no attribute 'ga'",
     "output_type": "error",
     "traceback": [
      "\u001b[0;31m---------------------------------------------------------------------------\u001b[0m",
      "\u001b[0;31mAttributeError\u001b[0m                            Traceback (most recent call last)",
      "Cell \u001b[0;32mIn[4], line 1\u001b[0m\n\u001b[0;32m----> 1\u001b[0m nas_result \u001b[38;5;241m=\u001b[39m \u001b[43mpnas\u001b[49m\u001b[38;5;241;43m.\u001b[39;49m\u001b[43moptimizers\u001b[49m\u001b[38;5;241;43m.\u001b[39;49m\u001b[43mga\u001b[49m\u001b[38;5;241m.\u001b[39mga_optimizer(\n\u001b[1;32m      2\u001b[0m     max_layers\u001b[38;5;241m=\u001b[39mmax_layers,\n\u001b[1;32m      3\u001b[0m     max_iter\u001b[38;5;241m=\u001b[39mmax_iterations,\n\u001b[1;32m      4\u001b[0m     n_individuals\u001b[38;5;241m=\u001b[39mpopulation_size,\n\u001b[1;32m      5\u001b[0m     mating_pool_cutoff\u001b[38;5;241m=\u001b[39mmating_pool_cutoff,\n\u001b[1;32m      6\u001b[0m     mutation_probability\u001b[38;5;241m=\u001b[39mmutation_probability,\n\u001b[1;32m      7\u001b[0m     logs_directory\u001b[38;5;241m=\u001b[39mlog_path,\n\u001b[1;32m      8\u001b[0m     task\u001b[38;5;241m=\u001b[39mtask,\n\u001b[1;32m      9\u001b[0m )\n",
      "\u001b[0;31mAttributeError\u001b[0m: module 'pynattas.optimizers' has no attribute 'ga'"
     ]
    }
   ],
   "source": [
    "# nas_result = pnas.optimizers.ga.ga_optimizer(\n",
    "#     max_layers=max_layers,\n",
    "#     max_iter=max_iterations,\n",
    "#     n_individuals=population_size,\n",
    "#     mating_pool_cutoff=mating_pool_cutoff,\n",
    "#     mutation_probability=mutation_probability,\n",
    "#     logs_directory=log_path,\n",
    "#     task=task,\n",
    "# )"
   ]
  },
  {
   "cell_type": "code",
   "execution_count": null,
   "metadata": {},
   "outputs": [],
   "source": []
  }
 ],
 "metadata": {
  "kernelspec": {
   "display_name": "pynatas",
   "language": "python",
   "name": "python3"
  },
  "language_info": {
   "codemirror_mode": {
    "name": "ipython",
    "version": 3
   },
   "file_extension": ".py",
   "mimetype": "text/x-python",
   "name": "python",
   "nbconvert_exporter": "python",
   "pygments_lexer": "ipython3",
   "version": "3.10.15"
  }
 },
 "nbformat": 4,
 "nbformat_minor": 2
}
