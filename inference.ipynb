{
 "cells": [
  {
   "cell_type": "code",
   "execution_count": 1,
   "metadata": {},
   "outputs": [],
   "source": [
    "import pynattas as pnas\n",
    "import configparser\n",
    "import torch\n",
    "import pytorch_lightning as pl\n",
    "from torchvision import transforms\n",
    "from datasets.L0_thraws_classifier.dataset_weighted import SentinelDataset, SentinelDataModule\n",
    "from datasets.wake_classifier.dataset import xAIWakesDataset_inf"
   ]
  },
  {
   "cell_type": "code",
   "execution_count": 2,
   "metadata": {},
   "outputs": [],
   "source": [
    "# Load configuration from config.ini\n",
    "config = configparser.ConfigParser()\n",
    "config.read('config.ini')\n",
    "\n",
    "# Torch stuff\n",
    "seed = config.getint(section='Computation', option='seed')\n",
    "#pl.seed_everything(seed=seed, workers=True)  # For reproducibility\n",
    "torch.set_float32_matmul_precision(\"medium\")  # to make lightning happy\n",
    "num_workers = config.getint(section='Computation', option='num_workers')\n",
    "accelerator = config.get(section='Computation', option='accelerator')\n",
    "\n",
    "# Other input\n",
    "csv_file = config['Dataset']['csv_path']\n",
    "root_dir = config['Dataset']['data_path']"
   ]
  },
  {
   "cell_type": "markdown",
   "metadata": {},
   "source": [
    "## IMAGE LOADER"
   ]
  },
  {
   "cell_type": "code",
   "execution_count": 3,
   "metadata": {},
   "outputs": [],
   "source": [
    "\"\"\" # Read the input image\n",
    "idx = -1\n",
    "while idx < 1 or idx > 269:\n",
    "    try:\n",
    "        print(\"Valid indexes for xAIWakes are from 1 to 269.\")\n",
    "        idx = int(input(\"Input index: \"))\n",
    "        if idx < 1 or idx > 269:\n",
    "            print(\"Invalid index. Please enter a value between 1 and 269.\")\n",
    "    except ValueError:\n",
    "        print(\"Invalid input. Please enter a valid integer.\") \"\"\"\n",
    "\n",
    "# Uncomment the line below, and comment the while loop, if you want to set a specific index (e.g., idx = 4)\n",
    "idx = 12"
   ]
  },
  {
   "cell_type": "code",
   "execution_count": 4,
   "metadata": {},
   "outputs": [],
   "source": [
    "composed_transform = transforms.Compose([\n",
    "    transforms.Resize((256, 256)),\n",
    "    transforms.ToTensor(),\n",
    "])\n",
    "#dataset = SentinelDataset(\n",
    "#    root_dir=root_dir,\n",
    "#    transform=composed_transform,\n",
    "#)\n",
    "\n",
    "dataset = xAIWakesDataset_inf(\n",
    "    root_dir=root_dir,\n",
    "    csv_dir=csv_file,\n",
    "    transform=None,\n",
    ")\n",
    "\n",
    "image, label = dataset[idx]  # Load one image from the dataset\n",
    "in_channels = image.shape[0]  # Obtain the number of in channels. Height and Width are 256 x 256 due to transform\n",
    "\n",
    "# Give the tensor to the right device\n",
    "input_tensor = image.to('cuda' if torch.cuda.is_available() else 'cpu')"
   ]
  },
  {
   "cell_type": "markdown",
   "metadata": {},
   "source": [
    "## MODELLO"
   ]
  },
  {
   "cell_type": "code",
   "execution_count": 5,
   "metadata": {},
   "outputs": [],
   "source": [
    "# Use NAS result if available, otherwise load from config\n",
    "architecture_code = config['NAS']['architecture_code']\n",
    "layers = pnas.functions.architecture_builder.parse_architecture_code(architecture_code)\n",
    "\n",
    "# Get model parameters\n",
    "model_parameters = {}\n",
    "log_lr = config.getfloat(section='Search Space', option='default_log_lr')\n",
    "bs = config.getint(section='Search Space', option='default_bs')\n",
    "lr = 10 ** log_lr"
   ]
  },
  {
   "cell_type": "code",
   "execution_count": 6,
   "metadata": {},
   "outputs": [],
   "source": [
    "parsed_layers = pnas.functions.architecture_builder.parse_architecture_code(architecture_code)"
   ]
  },
  {
   "cell_type": "code",
   "execution_count": 7,
   "metadata": {},
   "outputs": [],
   "source": [
    "in_channels = 4\n",
    "num_classes = 2\n",
    "model = pnas.classes.GenericLightningNetwork(\n",
    "    parsed_layers=parsed_layers,\n",
    "    input_channels=in_channels,\n",
    "    #input_height=256,\n",
    "    #input_width=256,\n",
    "    num_classes=num_classes,\n",
    "    learning_rate=lr,\n",
    ")"
   ]
  },
  {
   "cell_type": "code",
   "execution_count": 8,
   "metadata": {},
   "outputs": [
    {
     "data": {
      "text/plain": [
       "GenericLightningNetwork(\n",
       "  (model): GenericNetwork(\n",
       "    (layers): ModuleList(\n",
       "      (0): ConvBnAct(\n",
       "        (0): Conv2d(4, 16, kernel_size=(5, 5), stride=(2, 2), padding=(1, 1))\n",
       "        (1): BatchNorm2d(16, eps=1e-05, momentum=0.1, affine=True, track_running_stats=True)\n",
       "        (2): GELU()\n",
       "      )\n",
       "      (1): MaxPool(\n",
       "        (0): MaxPool2d(kernel_size=2, stride=2, padding=0, dilation=1, ceil_mode=False)\n",
       "      )\n",
       "      (2): CSPMBConvBlock(\n",
       "        (main_path): Sequential(\n",
       "          (0): MBConv(\n",
       "            (steps): Sequential(\n",
       "              (0): ConvBnAct(\n",
       "                (0): Conv2d(8, 40, kernel_size=(1, 1), stride=(1, 1))\n",
       "                (1): BatchNorm2d(40, eps=1e-05, momentum=0.1, affine=True, track_running_stats=True)\n",
       "                (2): ReLU()\n",
       "              )\n",
       "              (1): Conv2d(40, 40, kernel_size=(3, 3), stride=(1, 1), padding=(1, 1), groups=40)\n",
       "              (2): BatchNorm2d(40, eps=1e-05, momentum=0.1, affine=True, track_running_stats=True)\n",
       "              (3): ReLU()\n",
       "              (4): ConvBnAct(\n",
       "                (0): Conv2d(40, 8, kernel_size=(1, 1), stride=(1, 1))\n",
       "                (1): BatchNorm2d(8, eps=1e-05, momentum=0.1, affine=True, track_running_stats=True)\n",
       "                (2): ReLU()\n",
       "              )\n",
       "            )\n",
       "          )\n",
       "        )\n",
       "        (shortcut_path): Identity()\n",
       "        (final_transition): Sequential(\n",
       "          (0): Conv2d(16, 16, kernel_size=(1, 1), stride=(1, 1))\n",
       "          (1): BatchNorm2d(16, eps=1e-05, momentum=0.1, affine=True, track_running_stats=True)\n",
       "          (2): ReLU()\n",
       "        )\n",
       "      )\n",
       "      (3): MaxPool(\n",
       "        (0): MaxPool2d(kernel_size=2, stride=2, padding=0, dilation=1, ceil_mode=False)\n",
       "      )\n",
       "      (4): ClassificationHead(\n",
       "        (0): Linear(in_features=15376, out_features=512, bias=True)\n",
       "        (1): ReLU()\n",
       "        (2): Dropout(\n",
       "          (0): Dropout(p=0.4, inplace=False)\n",
       "        )\n",
       "        (3): Linear(in_features=512, out_features=2, bias=True)\n",
       "      )\n",
       "    )\n",
       "  )\n",
       "  (loss_fn): CrossEntropyLoss()\n",
       "  (accuracy): BinaryAccuracy()\n",
       "  (f1_score): BinaryF1Score()\n",
       "  (mcc): BinaryMatthewsCorrCoef()\n",
       "  (conf_matrix): BinaryConfusionMatrix()\n",
       "  (conf_matrix_pred): BinaryConfusionMatrix()\n",
       ")"
      ]
     },
     "execution_count": 8,
     "metadata": {},
     "output_type": "execute_result"
    }
   ],
   "source": [
    "#checkpoint = torch.load(rf\"/media/warmachine/DBDISK/Andrea/DicDic/logs/tb_logs/checkpoints/OptimizedModel_2024-03-18_13-57-25/version_0/checkpoints/epoch=10-step=12386.ckpt\")\n",
    "checkpoint = torch.load(rf\"/media/warmachine/DBDISK/Andrea/DicDic/logs/tb_logs/checkpoints/OptimizedModel_2024-04-24_11-53-18/version_0/checkpoints/epoch=5-step=246.ckpt\")\n",
    "model.load_state_dict(checkpoint[\"state_dict\"])\n",
    "model.eval()"
   ]
  },
  {
   "cell_type": "code",
   "execution_count": 9,
   "metadata": {},
   "outputs": [
    {
     "data": {
      "text/plain": [
       "GenericLightningNetwork(\n",
       "  (model): GenericNetwork(\n",
       "    (layers): ModuleList(\n",
       "      (0): ConvBnAct(\n",
       "        (0): Conv2d(4, 16, kernel_size=(5, 5), stride=(2, 2), padding=(1, 1))\n",
       "        (1): BatchNorm2d(16, eps=1e-05, momentum=0.1, affine=True, track_running_stats=True)\n",
       "        (2): GELU()\n",
       "      )\n",
       "      (1): MaxPool(\n",
       "        (0): MaxPool2d(kernel_size=2, stride=2, padding=0, dilation=1, ceil_mode=False)\n",
       "      )\n",
       "      (2): CSPMBConvBlock(\n",
       "        (main_path): Sequential(\n",
       "          (0): MBConv(\n",
       "            (steps): Sequential(\n",
       "              (0): ConvBnAct(\n",
       "                (0): Conv2d(8, 40, kernel_size=(1, 1), stride=(1, 1))\n",
       "                (1): BatchNorm2d(40, eps=1e-05, momentum=0.1, affine=True, track_running_stats=True)\n",
       "                (2): ReLU()\n",
       "              )\n",
       "              (1): Conv2d(40, 40, kernel_size=(3, 3), stride=(1, 1), padding=(1, 1), groups=40)\n",
       "              (2): BatchNorm2d(40, eps=1e-05, momentum=0.1, affine=True, track_running_stats=True)\n",
       "              (3): ReLU()\n",
       "              (4): ConvBnAct(\n",
       "                (0): Conv2d(40, 8, kernel_size=(1, 1), stride=(1, 1))\n",
       "                (1): BatchNorm2d(8, eps=1e-05, momentum=0.1, affine=True, track_running_stats=True)\n",
       "                (2): ReLU()\n",
       "              )\n",
       "            )\n",
       "          )\n",
       "        )\n",
       "        (shortcut_path): Identity()\n",
       "        (final_transition): Sequential(\n",
       "          (0): Conv2d(16, 16, kernel_size=(1, 1), stride=(1, 1))\n",
       "          (1): BatchNorm2d(16, eps=1e-05, momentum=0.1, affine=True, track_running_stats=True)\n",
       "          (2): ReLU()\n",
       "        )\n",
       "      )\n",
       "      (3): MaxPool(\n",
       "        (0): MaxPool2d(kernel_size=2, stride=2, padding=0, dilation=1, ceil_mode=False)\n",
       "      )\n",
       "      (4): ClassificationHead(\n",
       "        (0): Linear(in_features=15376, out_features=512, bias=True)\n",
       "        (1): ReLU()\n",
       "        (2): Dropout(\n",
       "          (0): Dropout(p=0.4, inplace=False)\n",
       "        )\n",
       "        (3): Linear(in_features=512, out_features=2, bias=True)\n",
       "      )\n",
       "    )\n",
       "  )\n",
       "  (loss_fn): CrossEntropyLoss()\n",
       "  (accuracy): BinaryAccuracy()\n",
       "  (f1_score): BinaryF1Score()\n",
       "  (mcc): BinaryMatthewsCorrCoef()\n",
       "  (conf_matrix): BinaryConfusionMatrix()\n",
       "  (conf_matrix_pred): BinaryConfusionMatrix()\n",
       ")"
      ]
     },
     "execution_count": 9,
     "metadata": {},
     "output_type": "execute_result"
    }
   ],
   "source": [
    "model.cuda()"
   ]
  },
  {
   "cell_type": "markdown",
   "metadata": {},
   "source": [
    "## INFERENCE"
   ]
  },
  {
   "cell_type": "code",
   "execution_count": 10,
   "metadata": {},
   "outputs": [
    {
     "data": {
      "text/plain": [
       "torch.Size([1, 256, 4, 256])"
      ]
     },
     "execution_count": 10,
     "metadata": {},
     "output_type": "execute_result"
    }
   ],
   "source": [
    "input_tensor = input_tensor[None, :, :, :]\n",
    "input_tensor.shape"
   ]
  },
  {
   "cell_type": "code",
   "execution_count": 11,
   "metadata": {},
   "outputs": [
    {
     "data": {
      "text/plain": [
       "torch.Size([1, 4, 256, 256])"
      ]
     },
     "execution_count": 11,
     "metadata": {},
     "output_type": "execute_result"
    }
   ],
   "source": [
    "input_tensor = input_tensor.permute(0, 2, 1, 3)\n",
    "input_tensor.shape"
   ]
  },
  {
   "cell_type": "code",
   "execution_count": 12,
   "metadata": {},
   "outputs": [
    {
     "data": {
      "text/plain": [
       "tensor([[ 4.4528, -1.8159]], device='cuda:0', grad_fn=<AddmmBackward0>)"
      ]
     },
     "execution_count": 12,
     "metadata": {},
     "output_type": "execute_result"
    }
   ],
   "source": [
    "inferred = model(input_tensor)\n",
    "inferred"
   ]
  }
 ],
 "metadata": {
  "kernelspec": {
   "display_name": "deeplearning",
   "language": "python",
   "name": "python3"
  },
  "language_info": {
   "codemirror_mode": {
    "name": "ipython",
    "version": 3
   },
   "file_extension": ".py",
   "mimetype": "text/x-python",
   "name": "python",
   "nbconvert_exporter": "python",
   "pygments_lexer": "ipython3",
   "version": "3.11.7"
  }
 },
 "nbformat": 4,
 "nbformat_minor": 2
}
