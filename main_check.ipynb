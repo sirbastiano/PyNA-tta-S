{
 "cells": [
  {
   "cell_type": "code",
   "execution_count": 2,
   "metadata": {},
   "outputs": [
    {
     "name": "stdout",
     "output_type": "stream",
     "text": [
      "The autoreload extension is already loaded. To reload it, use:\n",
      "  %reload_ext autoreload\n",
      "Task: C\n",
      "Max Layers: 12\n",
      "Max Iterations: 4\n",
      "Population Size: 8\n",
      "Log Path: ./logs/GA_logs\n",
      "Mating Pool Cutoff: 0.8\n",
      "Mutation Probability: 0.1\n"
     ]
    }
   ],
   "source": [
    "%load_ext autoreload\n",
    "%autoreload 2\n",
    "\n",
    "##################################\n",
    "##################################\n",
    "import os\n",
    "os.environ[\"PYTORCH_CUDA_ALLOC_CONF\"] = \"max_split_size_mb:128\"\n",
    "\n",
    "# Imports\n",
    "from pynattas.builder.netBuilder import GenericNetwork \n",
    "from pynattas.utils import layerCoder\n",
    "\n",
    "import configparser\n",
    "import pynattas as pnas\n",
    "from datetime import datetime\n",
    "import time\n",
    "\n",
    "config = configparser.ConfigParser()\n",
    "config.read('config.ini')\n",
    "\n",
    "\n",
    "nas_check = config.getboolean(section='Mode', option='network_architecture_search')\n",
    "ht_check = config.getboolean(section='Mode', option='hyperparameter_tuning')\n",
    "\n",
    "\n",
    "task = config['Mode']['task']\n",
    "if task not in ['C','D']:\n",
    "    print(f\"Error: Selected Task {task} is not available. Check config_optimizer.ini for verification.\")\n",
    "    exit()\n",
    "else:\n",
    "    print(f\"Task: {task}\")\n",
    "# Define NAS parameters and run GA\n",
    "max_layers = config.getint('GeneralNetwork', 'max_layers')\n",
    "max_iterations = int(config['GA']['max_iterations'])\n",
    "population_size = int(config['GA']['population_size'])\n",
    "log_path = str(config['GA']['logs_dir_GA'])\n",
    "mating_pool_cutoff = float(config['GA']['mating_pool_cutoff'])\n",
    "mutation_probability = float(config['GA']['mutation_probability'])\n",
    "############################################\n",
    "print(f\"Max Layers: {max_layers}\")\n",
    "print(f\"Max Iterations: {max_iterations}\")\n",
    "print(f\"Population Size: {population_size}\")\n",
    "print(f\"Log Path: {log_path}\")\n",
    "print(f\"Mating Pool Cutoff: {mating_pool_cutoff}\")\n",
    "print(f\"Mutation Probability: {mutation_probability}\")"
   ]
  },
  {
   "cell_type": "code",
   "execution_count": null,
   "metadata": {},
   "outputs": [
    {
     "name": "stdout",
     "output_type": "stream",
     "text": [
      "Initial Population: 8\n",
      "Current Generation: 0\n"
     ]
    },
    {
     "name": "stderr",
     "output_type": "stream",
     "text": [
      "Building layer 14/17: AvgPool:  82%|████████▏ | 14/17 [00:00<00:00, 238.77layer/s]       \n"
     ]
    },
    {
     "name": "stdout",
     "output_type": "stream",
     "text": [
      "Error: Kernel size is too large for the current dimensions: Heigt=(3), Width=(3)\n"
     ]
    },
    {
     "name": "stderr",
     "output_type": "stream",
     "text": [
      "Building layer 15/17: ConvSE:  88%|████████▊ | 15/17 [00:00<00:00, 154.41layer/s]        \n"
     ]
    },
    {
     "name": "stdout",
     "output_type": "stream",
     "text": [
      "Error: Kernel size 5 is too large for the current dimensions: Heigt=(3), Width=(3)\n"
     ]
    },
    {
     "name": "stderr",
     "output_type": "stream",
     "text": [
      "Building layer 15/15: ClassificationHead: 100%|██████████| 15/15 [00:00<00:00, 564.84layer/s]\n"
     ]
    },
    {
     "name": "stdout",
     "output_type": "stream",
     "text": [
      "7.15\n"
     ]
    },
    {
     "name": "stderr",
     "output_type": "stream",
     "text": [
      "Building layer 17/23: DenseNetBlock:  74%|███████▍  | 17/23 [00:04<00:01,  4.07layer/s] \n"
     ]
    },
    {
     "name": "stdout",
     "output_type": "stream",
     "text": [
      "Error: Kernel size is too large for the current dimensions: Heigt=(1), Width=(1)\n"
     ]
    },
    {
     "name": "stderr",
     "output_type": "stream",
     "text": [
      "Building layer 17/21: ConvBnAct:  81%|████████  | 17/21 [00:00<00:00, 465.45layer/s]     "
     ]
    },
    {
     "name": "stdout",
     "output_type": "stream",
     "text": [
      "Error: Kernel size 5 is too large for the current dimensions: Heigt=(3), Width=(3)\n"
     ]
    },
    {
     "name": "stderr",
     "output_type": "stream",
     "text": [
      "\n",
      "Building layer 13/13: ClassificationHead: 100%|██████████| 13/13 [00:00<00:00, 34.37layer/s]\n"
     ]
    },
    {
     "name": "stdout",
     "output_type": "stream",
     "text": [
      "361.067\n"
     ]
    },
    {
     "name": "stderr",
     "output_type": "stream",
     "text": [
      "Building layer 17/17: ClassificationHead: 100%|██████████| 17/17 [00:09<00:00,  1.83layer/s]\n"
     ]
    }
   ],
   "source": [
    "# Define population\n",
    "from pynattas.builder.population import Population\n",
    "import torch \n",
    "\n",
    "pop = Population(max_layers=max_layers, n_individuals=population_size)\n",
    "print(f\"Initial Population: {len(pop.population)}\")\n",
    "print(f\"Current Generation: {pop.iteration}\")\n",
    "\n",
    "idx = 0\n",
    "input_channels = 3\n",
    "input_height = 224\n",
    "input_width = 224\n",
    "num_classes = 2\n",
    "\n",
    "for individual in pop.population:\n",
    "    try:\n",
    "        Net = GenericNetwork(\n",
    "                individual.architecture, \n",
    "                input_channels,\n",
    "                input_height,\n",
    "                input_width,\n",
    "                num_classes,)\n",
    "\n",
    "        Net.build()\n",
    "\n",
    "        x = torch.randn(1, 3, 224, 224)\n",
    "        Net(x)\n",
    "        print(Net.get_param_size())\n",
    "    except Exception as e:\n",
    "        print(f\"Error: {e}\")\n",
    "    finally:\n",
    "        # Reset memory\n",
    "        torch.cuda.empty_cache()\n",
    "        del Net"
   ]
  },
  {
   "cell_type": "code",
   "execution_count": null,
   "metadata": {},
   "outputs": [],
   "source": []
  },
  {
   "cell_type": "code",
   "execution_count": null,
   "metadata": {},
   "outputs": [],
   "source": [
    "Net = GenericNetwork(\n",
    "        individual.architecture, \n",
    "        input_channels,\n",
    "        input_height,\n",
    "        input_width,\n",
    "        num_classes,)\n",
    "\n",
    "Net.build()\n",
    "\n",
    "\n",
    "x = torch.randn(1, 3, 224, 224)\n",
    "Net(x)\n",
    "print(Net.get_param_size())"
   ]
  },
  {
   "cell_type": "code",
   "execution_count": null,
   "metadata": {},
   "outputs": [],
   "source": []
  },
  {
   "cell_type": "code",
   "execution_count": null,
   "metadata": {},
   "outputs": [],
   "source": []
  },
  {
   "cell_type": "code",
   "execution_count": null,
   "metadata": {},
   "outputs": [],
   "source": []
  },
  {
   "cell_type": "code",
   "execution_count": null,
   "metadata": {},
   "outputs": [],
   "source": []
  },
  {
   "cell_type": "code",
   "execution_count": null,
   "metadata": {},
   "outputs": [],
   "source": []
  },
  {
   "cell_type": "code",
   "execution_count": null,
   "metadata": {},
   "outputs": [],
   "source": []
  },
  {
   "cell_type": "code",
   "execution_count": 6,
   "metadata": {},
   "outputs": [],
   "source": [
    "# from pynattas.optimizers import ga"
   ]
  },
  {
   "cell_type": "code",
   "execution_count": null,
   "metadata": {},
   "outputs": [],
   "source": [
    "# nas_result = pnas.optimizers.ga.ga_optimizer(\n",
    "#     max_layers=max_layers,\n",
    "#     max_iter=max_iterations,\n",
    "#     n_individuals=population_size,\n",
    "#     mating_pool_cutoff=mating_pool_cutoff,\n",
    "#     mutation_probability=mutation_probability,\n",
    "#     logs_directory=log_path,\n",
    "#     task=task,\n",
    "# )"
   ]
  },
  {
   "cell_type": "code",
   "execution_count": null,
   "metadata": {},
   "outputs": [],
   "source": []
  }
 ],
 "metadata": {
  "kernelspec": {
   "display_name": "pynatas",
   "language": "python",
   "name": "python3"
  },
  "language_info": {
   "codemirror_mode": {
    "name": "ipython",
    "version": 3
   },
   "file_extension": ".py",
   "mimetype": "text/x-python",
   "name": "python",
   "nbconvert_exporter": "python",
   "pygments_lexer": "ipython3",
   "version": "3.10.15"
  }
 },
 "nbformat": 4,
 "nbformat_minor": 2
}
