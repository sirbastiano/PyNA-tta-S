{
 "cells": [
  {
   "cell_type": "code",
   "execution_count": null,
   "metadata": {},
   "outputs": [],
   "source": [
    "import pynattas as pnas"
   ]
  },
  {
   "cell_type": "code",
   "execution_count": null,
   "metadata": {},
   "outputs": [],
   "source": [
    "code = pnas.functions.architecture_builder.generate_random_architecture_code(4)\n",
    "print(code)\n",
    "parsed_architecture = pnas.functions.architecture_builder.parse_architecture_code(code)\n",
    "print(parsed_architecture)\n",
    "print(pnas.functions.architecture_builder.generate_code_from_parsed_architecture(parsed_architecture))"
   ]
  },
  {
   "cell_type": "code",
   "execution_count": null,
   "metadata": {},
   "outputs": [],
   "source": [
    "layer_code = pnas.functions.architecture_builder.generate_layer_code()\n",
    "print(layer_code)\n",
    "parsed_layer = pnas.functions.architecture_builder.parse_architecture_code(layer_code)\n",
    "print(parsed_layer)\n",
    "print(pnas.functions.architecture_builder.generate_pooling_layer_code())\n",
    "print(pnas.functions.architecture_builder.generate_head_code())"
   ]
  },
  {
   "cell_type": "code",
   "execution_count": null,
   "metadata": {},
   "outputs": [],
   "source": [
    "ind = pnas.classes.individual.Individual(4)\n",
    "print(ind.architecture)\n",
    "print(ind.chromosome)\n",
    "print(ind.fitness)\n",
    "ind.architecture=ind.chromosome2architecture(ind.chromosome)\n",
    "print(ind.architecture)\n",
    "ind_copy = ind.copy()\n",
    "print(ind_copy.architecture)\n",
    "print(ind_copy.chromosome)"
   ]
  },
  {
   "cell_type": "code",
   "execution_count": null,
   "metadata": {},
   "outputs": [],
   "source": [
    "parsed_layers_test = [{'layer_type': 'MBConv', 'expansion_factor': 4, 'activation': 'ReLU', 'num_blocks': 1}, {'layer_type': 'AvgPool'}, {'layer_type': 'ConvAct', 'out_channels_coefficient': 2, 'kernel_size': 4, 'stride': 1, 'padding': 0, 'activation': 'ReLU', 'num_blocks': 1}, {'layer_type': 'AvgPool'}, {'layer_type': 'ConvBnAct', 'out_channels_coefficient': 3, 'kernel_size': 5, 'stride': 2, 'padding': 2, 'activation': 'GELU', 'num_blocks': 1}, {'layer_type': 'MaxPool'}, {'layer_type': 'ClassificationHead'}]\n",
    "architecture_code_test = pnas.functions.architecture_builder.generate_code_from_parsed_architecture(parsed_layers_test)\n",
    "print(architecture_code_test)"
   ]
  },
  {
   "cell_type": "markdown",
   "metadata": {},
   "source": [
    "# Main Test"
   ]
  },
  {
   "cell_type": "code",
   "execution_count": null,
   "metadata": {},
   "outputs": [],
   "source": [
    "%run main.py"
   ]
  },
  {
   "cell_type": "markdown",
   "metadata": {},
   "source": [
    "# Testing fitness"
   ]
  },
  {
   "cell_type": "code",
   "execution_count": null,
   "metadata": {},
   "outputs": [],
   "source": [
    "parsed_layers = pnas.functions.architecture_builder.parse_architecture_code(ind.architecture)\n",
    "fitness = pnas.functions.fitness.compute_fitness_value(parsed_layers=parsed_layers)\n",
    "print(fitness)"
   ]
  },
  {
   "cell_type": "markdown",
   "metadata": {},
   "source": [
    "# Genetic Algorithm Test"
   ]
  },
  {
   "cell_type": "code",
   "execution_count": null,
   "metadata": {},
   "outputs": [],
   "source": [
    "import configparser"
   ]
  },
  {
   "cell_type": "code",
   "execution_count": null,
   "metadata": {},
   "outputs": [],
   "source": [
    "config = configparser.ConfigParser()\n",
    "config.read('config.ini')"
   ]
  },
  {
   "cell_type": "code",
   "execution_count": null,
   "metadata": {},
   "outputs": [],
   "source": [
    "max_layers = config.getint('NAS', 'max_layers')\n",
    "#max_iterations = int(config['GA']['max_iterations'])\n",
    "max_iterations = 3\n",
    "#population_size = int(config['GA']['population_size'])\n",
    "population_size = 4\n",
    "log_path = str(config['GA']['logs_dir_GA'])\n",
    "mating_pool_cutoff = float(config['GA']['mating_pool_cutoff'])\n",
    "mutation_probability = float(config['GA']['mutation_probability'])\n",
    "nas_result = pnas.optimizers.ga.ga_optimizer(\n",
    "    max_layers=max_layers,\n",
    "    max_iter=max_iterations,\n",
    "    n_individuals=population_size,\n",
    "    mating_pool_cutoff=mating_pool_cutoff,\n",
    "    mutation_probability=mutation_probability,\n",
    "    logs_directory=log_path,\n",
    ")"
   ]
  },
  {
   "cell_type": "markdown",
   "metadata": {},
   "source": [
    "# HT TEST"
   ]
  },
  {
   "cell_type": "code",
   "execution_count": null,
   "metadata": {},
   "outputs": [],
   "source": [
    "import configparser\n",
    "import pynattas as pnas"
   ]
  },
  {
   "cell_type": "code",
   "execution_count": null,
   "metadata": {},
   "outputs": [],
   "source": [
    "config = configparser.ConfigParser()\n",
    "config.read('config.ini')\n",
    "\n",
    "# Use NAS result if available, otherwise load from config\n",
    "architecture_code = config['NAS']['architecture_code']\n",
    "layers = pnas.functions.architecture_builder.parse_architecture_code(architecture_code)\n",
    "print('HT Layers:', layers)\n",
    "best_position = []  # initialize final best position for final run\n",
    "\n",
    "print(\"\\n*** Hyperparameter Tuning ***\\n\")"
   ]
  },
  {
   "cell_type": "code",
   "execution_count": null,
   "metadata": {},
   "outputs": [],
   "source": [
    "# Define HT search space\n",
    "search_space = pnas.functions.utils.generate_layers_search_space(layers)\n",
    "search_space['log_learning_rate'] = (\n",
    "    float(config['Search Space']['log_lr_min']),\n",
    "    float(config['Search Space']['log_lr_max']),\n",
    ")\n",
    "search_space['batch_size'] = (\n",
    "    float(config['Search Space']['bs_min']),\n",
    "    float(config['Search Space']['bs_max']),\n",
    ")\n",
    "\n",
    "print('Search space:', search_space)"
   ]
  },
  {
   "cell_type": "code",
   "execution_count": 1,
   "metadata": {},
   "outputs": [
    {
     "name": "stderr",
     "output_type": "stream",
     "text": [
      "Seed set to 7\n"
     ]
    },
    {
     "name": "stdout",
     "output_type": "stream",
     "text": [
      "\n",
      "*** Network Architecture Search ***\n",
      "\n",
      "Starting chromosome pool:\n",
      "Architecture: Lme6arn1EPMELdo3arn1EPMELRr2agn1EPaELdo3agn1EPMEHCEE\n",
      "Chromosome: ['Lme6arn1', 'PM', 'Ldo3arn1', 'PM', 'LRr2agn1', 'Pa', 'Ldo3agn1', 'PM', 'HC']\n",
      "\n",
      "\n",
      "***\n",
      "\n",
      "[{'layer_type': 'MBConv', 'expansion_factor': 6, 'activation': 'ReLU', 'num_blocks': 1}, {'layer_type': 'MaxPool'}, {'layer_type': 'DenseNetBlock', 'out_channels_coefficient': 3, 'activation': 'ReLU', 'num_blocks': 1}, {'layer_type': 'MaxPool'}, {'layer_type': 'ResNetBlock', 'reduction_factor': 2, 'activation': 'GELU', 'num_blocks': 1}, {'layer_type': 'AvgPool'}, {'layer_type': 'DenseNetBlock', 'out_channels_coefficient': 3, 'activation': 'GELU', 'num_blocks': 1}, {'layer_type': 'MaxPool'}, {'layer_type': 'ClassificationHead'}]\n",
      "***\n",
      "\n",
      "\n"
     ]
    },
    {
     "name": "stderr",
     "output_type": "stream",
     "text": [
      "GPU available: True (cuda), used: True\n",
      "TPU available: False, using: 0 TPU cores\n",
      "IPU available: False, using: 0 IPUs\n",
      "HPU available: False, using: 0 HPUs\n"
     ]
    },
    {
     "name": "stdout",
     "output_type": "stream",
     "text": [
      "WARNING:tensorflow:From c:\\Users\\andre\\anaconda3\\envs\\deeplearning\\Lib\\site-packages\\keras\\src\\losses.py:2976: The name tf.losses.sparse_softmax_cross_entropy is deprecated. Please use tf.compat.v1.losses.sparse_softmax_cross_entropy instead.\n",
      "\n"
     ]
    },
    {
     "name": "stderr",
     "output_type": "stream",
     "text": [
      "LOCAL_RANK: 0 - CUDA_VISIBLE_DEVICES: [0]\n",
      "\n",
      "  | Name             | Type                   | Params\n",
      "------------------------------------------------------------\n",
      "0 | model            | GenericNetwork         | 6.3 M \n",
      "1 | loss_fn          | CrossEntropyLoss       | 0     \n",
      "2 | accuracy         | BinaryAccuracy         | 0     \n",
      "3 | f1_score         | BinaryF1Score          | 0     \n",
      "4 | mcc              | BinaryMatthewsCorrCoef | 0     \n",
      "5 | conf_matrix      | BinaryConfusionMatrix  | 0     \n",
      "6 | conf_matrix_pred | BinaryConfusionMatrix  | 0     \n",
      "------------------------------------------------------------\n",
      "6.3 M     Trainable params\n",
      "0         Non-trainable params\n",
      "6.3 M     Total params\n",
      "25.191    Total estimated model params size (MB)\n"
     ]
    },
    {
     "name": "stdout",
     "output_type": "stream",
     "text": [
      "Sanity Checking: |          | 0/? [00:00<?, ?it/s]"
     ]
    },
    {
     "name": "stderr",
     "output_type": "stream",
     "text": [
      "c:\\Users\\andre\\anaconda3\\envs\\deeplearning\\Lib\\site-packages\\pytorch_lightning\\trainer\\connectors\\data_connector.py:436: Consider setting `persistent_workers=True` in 'val_dataloader' to speed up the dataloader worker initialization.\n"
     ]
    },
    {
     "name": "stdout",
     "output_type": "stream",
     "text": [
      "                                                                           \r"
     ]
    },
    {
     "name": "stderr",
     "output_type": "stream",
     "text": [
      "c:\\Users\\andre\\anaconda3\\envs\\deeplearning\\Lib\\site-packages\\pytorch_lightning\\trainer\\connectors\\data_connector.py:436: Consider setting `persistent_workers=True` in 'train_dataloader' to speed up the dataloader worker initialization.\n"
     ]
    },
    {
     "name": "stdout",
     "output_type": "stream",
     "text": [
      "Epoch 8: 100%|██████████| 1126/1126 [00:29<00:00, 38.81it/s, v_num=10, train_loss=0.151, train_accuracy=0.945, train_f1_score=0.866, train_mcc=0.904]\n"
     ]
    },
    {
     "name": "stderr",
     "output_type": "stream",
     "text": [
      "LOCAL_RANK: 0 - CUDA_VISIBLE_DEVICES: [0]\n"
     ]
    },
    {
     "name": "stdout",
     "output_type": "stream",
     "text": [
      "Validation DataLoader 0: 100%|██████████| 1126/1126 [00:13<00:00, 80.88it/s]\n",
      "────────────────────────────────────────────────────────────────────────────────────────────────────────────────────────\n",
      "     Validate metric           DataLoader 0\n",
      "────────────────────────────────────────────────────────────────────────────────────────────────────────────────────────\n",
      "        val_loss            0.07182962447404861\n",
      "────────────────────────────────────────────────────────────────────────────────────────────────────────────────────────\n"
     ]
    },
    {
     "name": "stderr",
     "output_type": "stream",
     "text": [
      "LOCAL_RANK: 0 - CUDA_VISIBLE_DEVICES: [0]\n",
      "c:\\Users\\andre\\anaconda3\\envs\\deeplearning\\Lib\\site-packages\\pytorch_lightning\\trainer\\connectors\\data_connector.py:436: Consider setting `persistent_workers=True` in 'test_dataloader' to speed up the dataloader worker initialization.\n"
     ]
    },
    {
     "name": "stdout",
     "output_type": "stream",
     "text": [
      "Testing DataLoader 0: 100%|██████████| 133/133 [00:02<00:00, 62.73it/s]\n",
      "────────────────────────────────────────────────────────────────────────────────────────────────────────────────────────\n",
      "       Test metric             DataLoader 0\n",
      "────────────────────────────────────────────────────────────────────────────────────────────────────────────────────────\n",
      "      test_accuracy         0.8719397187232971\n",
      "      test_f1_score        0.011048336513340473\n",
      "        test_loss           0.5879626274108887\n",
      "        test_mcc            0.7584461569786072\n",
      "────────────────────────────────────────────────────────────────────────────────────────────────────────────────────────\n"
     ]
    },
    {
     "name": "stderr",
     "output_type": "stream",
     "text": [
      "Seed set to 7\n",
      "GPU available: True (cuda), used: True\n",
      "TPU available: False, using: 0 TPU cores\n",
      "IPU available: False, using: 0 IPUs\n",
      "HPU available: False, using: 0 HPUs\n",
      "LOCAL_RANK: 0 - CUDA_VISIBLE_DEVICES: [0]\n",
      "\n",
      "  | Name             | Type                   | Params\n",
      "------------------------------------------------------------\n",
      "0 | model            | GenericNetwork         | 4.7 M \n",
      "1 | loss_fn          | CrossEntropyLoss       | 0     \n",
      "2 | accuracy         | BinaryAccuracy         | 0     \n",
      "3 | f1_score         | BinaryF1Score          | 0     \n",
      "4 | mcc              | BinaryMatthewsCorrCoef | 0     \n",
      "5 | conf_matrix      | BinaryConfusionMatrix  | 0     \n",
      "6 | conf_matrix_pred | BinaryConfusionMatrix  | 0     \n",
      "------------------------------------------------------------\n",
      "4.7 M     Trainable params\n",
      "0         Non-trainable params\n",
      "4.7 M     Total params\n",
      "18.888    Total estimated model params size (MB)\n"
     ]
    },
    {
     "name": "stdout",
     "output_type": "stream",
     "text": [
      "Training time: 254.99543642997742\n",
      "Accuracy: 0.8719397187232971\n",
      "F1 score: 0.011048336513340473\n",
      "MCC: 0.7584461569786072\n",
      "Fitness: 0.5471447374050816\n",
      "********\n",
      "chromosome: ['Lme6arn1', 'PM', 'Ldo3arn1', 'PM', 'LRr2agn1', 'Pa', 'Ldo3agn1', 'PM', 'HC'], fitness: 0.5471447374050816\n",
      "\n",
      "Architecture: Lco3k3s2p1arn1EPMELne5arn1EPaEHCEE\n",
      "Chromosome: ['Lco3k3s2p1arn1', 'PM', 'Lne5arn1', 'Pa', 'HC']\n",
      "\n",
      "\n",
      "***\n",
      "\n",
      "[{'layer_type': 'ConvBnAct', 'out_channels_coefficient': 3, 'kernel_size': 3, 'stride': 2, 'padding': 1, 'activation': 'ReLU', 'num_blocks': 1}, {'layer_type': 'MaxPool'}, {'layer_type': 'MBConvNoRes', 'expansion_factor': 5, 'activation': 'ReLU', 'num_blocks': 1}, {'layer_type': 'AvgPool'}, {'layer_type': 'ClassificationHead'}]\n",
      "***\n",
      "\n",
      "\n",
      "Sanity Checking: |          | 0/? [00:00<?, ?it/s]"
     ]
    },
    {
     "name": "stderr",
     "output_type": "stream",
     "text": [
      "c:\\Users\\andre\\anaconda3\\envs\\deeplearning\\Lib\\site-packages\\pytorch_lightning\\trainer\\connectors\\data_connector.py:436: Consider setting `persistent_workers=True` in 'val_dataloader' to speed up the dataloader worker initialization.\n"
     ]
    },
    {
     "name": "stdout",
     "output_type": "stream",
     "text": [
      "                                                                           \r"
     ]
    },
    {
     "name": "stderr",
     "output_type": "stream",
     "text": [
      "c:\\Users\\andre\\anaconda3\\envs\\deeplearning\\Lib\\site-packages\\pytorch_lightning\\trainer\\connectors\\data_connector.py:436: Consider setting `persistent_workers=True` in 'train_dataloader' to speed up the dataloader worker initialization.\n"
     ]
    },
    {
     "name": "stdout",
     "output_type": "stream",
     "text": [
      "Epoch 14: 100%|██████████| 1126/1126 [00:23<00:00, 47.21it/s, v_num=11, train_loss=0.055, train_accuracy=0.980, train_f1_score=0.914, train_mcc=0.966] \n"
     ]
    },
    {
     "name": "stderr",
     "output_type": "stream",
     "text": [
      "LOCAL_RANK: 0 - CUDA_VISIBLE_DEVICES: [0]\n"
     ]
    },
    {
     "name": "stdout",
     "output_type": "stream",
     "text": [
      "Validation DataLoader 0: 100%|██████████| 1126/1126 [00:11<00:00, 94.27it/s]\n",
      "────────────────────────────────────────────────────────────────────────────────────────────────────────────────────────\n",
      "     Validate metric           DataLoader 0\n",
      "────────────────────────────────────────────────────────────────────────────────────────────────────────────────────────\n",
      "        val_loss            0.03776627406477928\n",
      "────────────────────────────────────────────────────────────────────────────────────────────────────────────────────────\n"
     ]
    },
    {
     "name": "stderr",
     "output_type": "stream",
     "text": [
      "LOCAL_RANK: 0 - CUDA_VISIBLE_DEVICES: [0]\n",
      "c:\\Users\\andre\\anaconda3\\envs\\deeplearning\\Lib\\site-packages\\pytorch_lightning\\trainer\\connectors\\data_connector.py:436: Consider setting `persistent_workers=True` in 'test_dataloader' to speed up the dataloader worker initialization.\n"
     ]
    },
    {
     "name": "stdout",
     "output_type": "stream",
     "text": [
      "Testing DataLoader 0: 100%|██████████| 133/133 [00:02<00:00, 65.21it/s]\n",
      "────────────────────────────────────────────────────────────────────────────────────────────────────────────────────────\n",
      "       Test metric             DataLoader 0\n",
      "────────────────────────────────────────────────────────────────────────────────────────────────────────────────────────\n",
      "      test_accuracy         0.8907721042633057\n",
      "      test_f1_score        0.005838041193783283\n",
      "        test_loss           1.1867523193359375\n",
      "        test_mcc             0.791608989238739\n",
      "────────────────────────────────────────────────────────────────────────────────────────────────────────────────────────\n"
     ]
    },
    {
     "name": "stderr",
     "output_type": "stream",
     "text": [
      "Seed set to 7\n",
      "GPU available: True (cuda), used: True\n",
      "TPU available: False, using: 0 TPU cores\n",
      "IPU available: False, using: 0 IPUs\n",
      "HPU available: False, using: 0 HPUs\n",
      "LOCAL_RANK: 0 - CUDA_VISIBLE_DEVICES: [0]\n",
      "\n",
      "  | Name             | Type                   | Params\n",
      "------------------------------------------------------------\n",
      "0 | model            | GenericNetwork         | 3.2 M \n",
      "1 | loss_fn          | CrossEntropyLoss       | 0     \n",
      "2 | accuracy         | BinaryAccuracy         | 0     \n",
      "3 | f1_score         | BinaryF1Score          | 0     \n",
      "4 | mcc              | BinaryMatthewsCorrCoef | 0     \n",
      "5 | conf_matrix      | BinaryConfusionMatrix  | 0     \n",
      "6 | conf_matrix_pred | BinaryConfusionMatrix  | 0     \n",
      "------------------------------------------------------------\n",
      "3.2 M     Trainable params\n",
      "0         Non-trainable params\n",
      "3.2 M     Total params\n",
      "12.602    Total estimated model params size (MB)\n"
     ]
    },
    {
     "name": "stdout",
     "output_type": "stream",
     "text": [
      "Training time: 367.4844059944153\n",
      "Accuracy: 0.8907721042633057\n",
      "F1 score: 0.005838041193783283\n",
      "MCC: 0.791608989238739\n",
      "Fitness: 0.562739711565276\n",
      "********\n",
      "chromosome: ['Lco3k3s2p1arn1', 'PM', 'Lne5arn1', 'Pa', 'HC'], fitness: 0.562739711565276\n",
      "\n",
      "Architecture: Lco2k4s2p1agn1EPMELne4arn1EPaELco4k4s1p2arn1EPaEHCEE\n",
      "Chromosome: ['Lco2k4s2p1agn1', 'PM', 'Lne4arn1', 'Pa', 'Lco4k4s1p2arn1', 'Pa', 'HC']\n",
      "\n",
      "\n",
      "***\n",
      "\n",
      "[{'layer_type': 'ConvBnAct', 'out_channels_coefficient': 2, 'kernel_size': 4, 'stride': 2, 'padding': 1, 'activation': 'GELU', 'num_blocks': 1}, {'layer_type': 'MaxPool'}, {'layer_type': 'MBConvNoRes', 'expansion_factor': 4, 'activation': 'ReLU', 'num_blocks': 1}, {'layer_type': 'AvgPool'}, {'layer_type': 'ConvBnAct', 'out_channels_coefficient': 4, 'kernel_size': 4, 'stride': 1, 'padding': 2, 'activation': 'ReLU', 'num_blocks': 1}, {'layer_type': 'AvgPool'}, {'layer_type': 'ClassificationHead'}]\n",
      "***\n",
      "\n",
      "\n",
      "Sanity Checking: |          | 0/? [00:00<?, ?it/s]"
     ]
    },
    {
     "name": "stderr",
     "output_type": "stream",
     "text": [
      "c:\\Users\\andre\\anaconda3\\envs\\deeplearning\\Lib\\site-packages\\pytorch_lightning\\trainer\\connectors\\data_connector.py:436: Consider setting `persistent_workers=True` in 'val_dataloader' to speed up the dataloader worker initialization.\n"
     ]
    },
    {
     "name": "stdout",
     "output_type": "stream",
     "text": [
      "                                                                           \r"
     ]
    },
    {
     "name": "stderr",
     "output_type": "stream",
     "text": [
      "c:\\Users\\andre\\anaconda3\\envs\\deeplearning\\Lib\\site-packages\\pytorch_lightning\\trainer\\connectors\\data_connector.py:436: Consider setting `persistent_workers=True` in 'train_dataloader' to speed up the dataloader worker initialization.\n"
     ]
    },
    {
     "name": "stdout",
     "output_type": "stream",
     "text": [
      "Epoch 15: 100%|██████████| 1126/1126 [00:37<00:00, 30.14it/s, v_num=12, train_loss=0.0497, train_accuracy=0.983, train_f1_score=0.906, train_mcc=0.971]\n"
     ]
    },
    {
     "name": "stderr",
     "output_type": "stream",
     "text": [
      "LOCAL_RANK: 0 - CUDA_VISIBLE_DEVICES: [0]\n"
     ]
    },
    {
     "name": "stdout",
     "output_type": "stream",
     "text": [
      "Validation DataLoader 0: 100%|██████████| 1126/1126 [00:35<00:00, 31.46it/s]\n",
      "────────────────────────────────────────────────────────────────────────────────────────────────────────────────────────\n",
      "     Validate metric           DataLoader 0\n",
      "────────────────────────────────────────────────────────────────────────────────────────────────────────────────────────\n",
      "        val_loss           0.027603881433606148\n",
      "────────────────────────────────────────────────────────────────────────────────────────────────────────────────────────\n"
     ]
    },
    {
     "name": "stderr",
     "output_type": "stream",
     "text": [
      "LOCAL_RANK: 0 - CUDA_VISIBLE_DEVICES: [0]\n",
      "c:\\Users\\andre\\anaconda3\\envs\\deeplearning\\Lib\\site-packages\\pytorch_lightning\\trainer\\connectors\\data_connector.py:436: Consider setting `persistent_workers=True` in 'test_dataloader' to speed up the dataloader worker initialization.\n"
     ]
    },
    {
     "name": "stdout",
     "output_type": "stream",
     "text": [
      "Testing DataLoader 0: 100%|██████████| 133/133 [00:06<00:00, 21.94it/s]\n",
      "────────────────────────────────────────────────────────────────────────────────────────────────────────────────────────\n",
      "       Test metric             DataLoader 0\n",
      "────────────────────────────────────────────────────────────────────────────────────────────────────────────────────────\n",
      "      test_accuracy         0.8662900328636169\n",
      "      test_f1_score        0.005838041193783283\n",
      "        test_loss           0.7482496500015259\n",
      "        test_mcc            0.7490541934967041\n",
      "────────────────────────────────────────────────────────────────────────────────────────────────────────────────────────\n"
     ]
    },
    {
     "name": "stderr",
     "output_type": "stream",
     "text": [
      "Seed set to 7\n"
     ]
    },
    {
     "name": "stdout",
     "output_type": "stream",
     "text": [
      "Training time: 605.4087564945221\n",
      "Accuracy: 0.8662900328636169\n",
      "F1 score: 0.005838041193783283\n",
      "MCC: 0.7490541934967041\n",
      "Fitness: 0.5403940891847014\n",
      "********\n",
      "chromosome: ['Lco2k4s2p1agn1', 'PM', 'Lne4arn1', 'Pa', 'Lco4k4s1p2arn1', 'Pa', 'HC'], fitness: 0.5403940891847014\n",
      "\n",
      "Architecture: Ldo2agn1EPaELme4agn1EPMELRr2agn1EPaEHCEE\n",
      "Chromosome: ['Ldo2agn1', 'Pa', 'Lme4agn1', 'PM', 'LRr2agn1', 'Pa', 'HC']\n",
      "\n",
      "\n",
      "***\n",
      "\n",
      "[{'layer_type': 'DenseNetBlock', 'out_channels_coefficient': 2, 'activation': 'GELU', 'num_blocks': 1}, {'layer_type': 'AvgPool'}, {'layer_type': 'MBConv', 'expansion_factor': 4, 'activation': 'GELU', 'num_blocks': 1}, {'layer_type': 'MaxPool'}, {'layer_type': 'ResNetBlock', 'reduction_factor': 2, 'activation': 'GELU', 'num_blocks': 1}, {'layer_type': 'AvgPool'}, {'layer_type': 'ClassificationHead'}]\n",
      "***\n",
      "\n",
      "\n"
     ]
    },
    {
     "name": "stderr",
     "output_type": "stream",
     "text": [
      "GPU available: True (cuda), used: True\n",
      "TPU available: False, using: 0 TPU cores\n",
      "IPU available: False, using: 0 IPUs\n",
      "HPU available: False, using: 0 HPUs\n",
      "LOCAL_RANK: 0 - CUDA_VISIBLE_DEVICES: [0]\n",
      "\n",
      "  | Name             | Type                   | Params\n",
      "------------------------------------------------------------\n",
      "0 | model            | GenericNetwork         | 4.7 M \n",
      "1 | loss_fn          | CrossEntropyLoss       | 0     \n",
      "2 | accuracy         | BinaryAccuracy         | 0     \n",
      "3 | f1_score         | BinaryF1Score          | 0     \n",
      "4 | mcc              | BinaryMatthewsCorrCoef | 0     \n",
      "5 | conf_matrix      | BinaryConfusionMatrix  | 0     \n",
      "6 | conf_matrix_pred | BinaryConfusionMatrix  | 0     \n",
      "------------------------------------------------------------\n",
      "4.7 M     Trainable params\n",
      "0         Non-trainable params\n",
      "4.7 M     Total params\n",
      "18.887    Total estimated model params size (MB)\n"
     ]
    },
    {
     "name": "stdout",
     "output_type": "stream",
     "text": [
      "Sanity Checking: |          | 0/? [00:00<?, ?it/s]"
     ]
    },
    {
     "name": "stderr",
     "output_type": "stream",
     "text": [
      "c:\\Users\\andre\\anaconda3\\envs\\deeplearning\\Lib\\site-packages\\pytorch_lightning\\trainer\\connectors\\data_connector.py:436: Consider setting `persistent_workers=True` in 'val_dataloader' to speed up the dataloader worker initialization.\n"
     ]
    },
    {
     "name": "stdout",
     "output_type": "stream",
     "text": [
      "                                                                           \r"
     ]
    },
    {
     "name": "stderr",
     "output_type": "stream",
     "text": [
      "c:\\Users\\andre\\anaconda3\\envs\\deeplearning\\Lib\\site-packages\\pytorch_lightning\\trainer\\connectors\\data_connector.py:436: Consider setting `persistent_workers=True` in 'train_dataloader' to speed up the dataloader worker initialization.\n"
     ]
    },
    {
     "name": "stdout",
     "output_type": "stream",
     "text": [
      "Epoch 10: 100%|██████████| 1126/1126 [00:26<00:00, 42.65it/s, v_num=13, train_loss=0.109, train_accuracy=0.964, train_f1_score=0.906, train_mcc=0.938]\n"
     ]
    },
    {
     "name": "stderr",
     "output_type": "stream",
     "text": [
      "LOCAL_RANK: 0 - CUDA_VISIBLE_DEVICES: [0]\n"
     ]
    },
    {
     "name": "stdout",
     "output_type": "stream",
     "text": [
      "Validation DataLoader 0: 100%|██████████| 1126/1126 [00:12<00:00, 87.55it/s]\n",
      "────────────────────────────────────────────────────────────────────────────────────────────────────────────────────────\n",
      "     Validate metric           DataLoader 0\n",
      "────────────────────────────────────────────────────────────────────────────────────────────────────────────────────────\n",
      "        val_loss           0.015796879306435585\n",
      "────────────────────────────────────────────────────────────────────────────────────────────────────────────────────────\n"
     ]
    },
    {
     "name": "stderr",
     "output_type": "stream",
     "text": [
      "LOCAL_RANK: 0 - CUDA_VISIBLE_DEVICES: [0]\n",
      "c:\\Users\\andre\\anaconda3\\envs\\deeplearning\\Lib\\site-packages\\pytorch_lightning\\trainer\\connectors\\data_connector.py:436: Consider setting `persistent_workers=True` in 'test_dataloader' to speed up the dataloader worker initialization.\n"
     ]
    },
    {
     "name": "stdout",
     "output_type": "stream",
     "text": [
      "Testing DataLoader 0: 100%|██████████| 133/133 [00:02<00:00, 55.18it/s]\n",
      "────────────────────────────────────────────────────────────────────────────────────────────────────────────────────────\n",
      "       Test metric             DataLoader 0\n",
      "────────────────────────────────────────────────────────────────────────────────────────────────────────────────────────\n",
      "      test_accuracy          0.909604549407959\n",
      "      test_f1_score        0.009792842902243137\n",
      "        test_loss           0.9711249470710754\n",
      "        test_mcc            0.8257986903190613\n",
      "────────────────────────────────────────────────────────────────────────────────────────────────────────────────────────\n"
     ]
    },
    {
     "name": "stderr",
     "output_type": "stream",
     "text": [
      "Seed set to 7\n"
     ]
    },
    {
     "name": "stdout",
     "output_type": "stream",
     "text": [
      "Training time: 378.26760601997375\n",
      "Accuracy: 0.909604549407959\n",
      "F1 score: 0.009792842902243137\n",
      "MCC: 0.8257986903190613\n",
      "Fitness: 0.5817320275430878\n",
      "********\n",
      "chromosome: ['Ldo2agn1', 'Pa', 'Lme4agn1', 'PM', 'LRr2agn1', 'Pa', 'HC'], fitness: 0.5817320275430878\n",
      "\n",
      "Text file saved: ./logs/GA_logs\\GA_generation_0.txt\n",
      "*** GENERATION 1 ***\n",
      "Architecture: Ldo2agn1EPaELeo3k4s1p2arn1EPaEHCEE\n",
      "Chromosome: ['Ldo2agn1', 'Pa', 'Leo3k4s1p2arn1', 'Pa', 'HC']\n",
      "\n",
      "\n",
      "***\n",
      "\n",
      "[{'layer_type': 'DenseNetBlock', 'out_channels_coefficient': 2, 'activation': 'GELU', 'num_blocks': 1}, {'layer_type': 'AvgPool'}, {'layer_type': 'ConvSE', 'out_channels_coefficient': 3, 'kernel_size': 4, 'stride': 1, 'padding': 2, 'activation': 'ReLU', 'num_blocks': 1}, {'layer_type': 'AvgPool'}, {'layer_type': 'ClassificationHead'}]\n",
      "***\n",
      "\n",
      "\n"
     ]
    },
    {
     "name": "stderr",
     "output_type": "stream",
     "text": [
      "GPU available: True (cuda), used: True\n",
      "TPU available: False, using: 0 TPU cores\n",
      "IPU available: False, using: 0 IPUs\n",
      "HPU available: False, using: 0 HPUs\n",
      "LOCAL_RANK: 0 - CUDA_VISIBLE_DEVICES: [0]\n",
      "\n",
      "  | Name             | Type                   | Params\n",
      "------------------------------------------------------------\n",
      "0 | model            | GenericNetwork         | 56.6 M\n",
      "1 | loss_fn          | CrossEntropyLoss       | 0     \n",
      "2 | accuracy         | BinaryAccuracy         | 0     \n",
      "3 | f1_score         | BinaryF1Score          | 0     \n",
      "4 | mcc              | BinaryMatthewsCorrCoef | 0     \n",
      "5 | conf_matrix      | BinaryConfusionMatrix  | 0     \n",
      "6 | conf_matrix_pred | BinaryConfusionMatrix  | 0     \n",
      "------------------------------------------------------------\n",
      "56.6 M    Trainable params\n",
      "0         Non-trainable params\n",
      "56.6 M    Total params\n",
      "226.515   Total estimated model params size (MB)\n"
     ]
    },
    {
     "name": "stdout",
     "output_type": "stream",
     "text": [
      "Sanity Checking: |          | 0/? [00:00<?, ?it/s]"
     ]
    },
    {
     "name": "stderr",
     "output_type": "stream",
     "text": [
      "c:\\Users\\andre\\anaconda3\\envs\\deeplearning\\Lib\\site-packages\\pytorch_lightning\\trainer\\connectors\\data_connector.py:436: Consider setting `persistent_workers=True` in 'val_dataloader' to speed up the dataloader worker initialization.\n"
     ]
    },
    {
     "name": "stdout",
     "output_type": "stream",
     "text": [
      "                                                                           \r"
     ]
    },
    {
     "name": "stderr",
     "output_type": "stream",
     "text": [
      "c:\\Users\\andre\\anaconda3\\envs\\deeplearning\\Lib\\site-packages\\pytorch_lightning\\trainer\\connectors\\data_connector.py:436: Consider setting `persistent_workers=True` in 'train_dataloader' to speed up the dataloader worker initialization.\n"
     ]
    },
    {
     "name": "stdout",
     "output_type": "stream",
     "text": [
      "Epoch 8: 100%|██████████| 1126/1126 [00:36<00:00, 31.05it/s, v_num=14, train_loss=0.491, train_accuracy=0.732, train_f1_score=0.524, train_mcc=0.517]\n"
     ]
    },
    {
     "name": "stderr",
     "output_type": "stream",
     "text": [
      "LOCAL_RANK: 0 - CUDA_VISIBLE_DEVICES: [0]\n"
     ]
    },
    {
     "name": "stdout",
     "output_type": "stream",
     "text": [
      "Validation DataLoader 0: 100%|██████████| 1126/1126 [00:08<00:00, 139.32it/s]\n",
      "────────────────────────────────────────────────────────────────────────────────────────────────────────────────────────\n",
      "     Validate metric           DataLoader 0\n",
      "────────────────────────────────────────────────────────────────────────────────────────────────────────────────────────\n",
      "        val_loss             0.357930451631546\n",
      "────────────────────────────────────────────────────────────────────────────────────────────────────────────────────────\n"
     ]
    },
    {
     "name": "stderr",
     "output_type": "stream",
     "text": [
      "LOCAL_RANK: 0 - CUDA_VISIBLE_DEVICES: [0]\n",
      "c:\\Users\\andre\\anaconda3\\envs\\deeplearning\\Lib\\site-packages\\pytorch_lightning\\trainer\\connectors\\data_connector.py:436: Consider setting `persistent_workers=True` in 'test_dataloader' to speed up the dataloader worker initialization.\n"
     ]
    },
    {
     "name": "stdout",
     "output_type": "stream",
     "text": [
      "Testing DataLoader 0: 100%|██████████| 133/133 [00:01<00:00, 103.93it/s]\n",
      "────────────────────────────────────────────────────────────────────────────────────────────────────────────────────────\n",
      "       Test metric             DataLoader 0\n",
      "────────────────────────────────────────────────────────────────────────────────────────────────────────────────────────\n",
      "      test_accuracy         0.9171375036239624\n",
      "      test_f1_score                 0.0\n",
      "        test_loss           0.4665336310863495\n",
      "        test_mcc            0.8395189046859741\n",
      "────────────────────────────────────────────────────────────────────────────────────────────────────────────────────────\n"
     ]
    },
    {
     "name": "stderr",
     "output_type": "stream",
     "text": [
      "Seed set to 7\n",
      "GPU available: True (cuda), used: True\n",
      "TPU available: False, using: 0 TPU cores\n",
      "IPU available: False, using: 0 IPUs\n",
      "HPU available: False, using: 0 HPUs\n",
      "LOCAL_RANK: 0 - CUDA_VISIBLE_DEVICES: [0]\n",
      "\n",
      "  | Name             | Type                   | Params\n",
      "------------------------------------------------------------\n",
      "0 | model            | GenericNetwork         | 4.7 M \n",
      "1 | loss_fn          | CrossEntropyLoss       | 0     \n",
      "2 | accuracy         | BinaryAccuracy         | 0     \n",
      "3 | f1_score         | BinaryF1Score          | 0     \n",
      "4 | mcc              | BinaryMatthewsCorrCoef | 0     \n",
      "5 | conf_matrix      | BinaryConfusionMatrix  | 0     \n",
      "6 | conf_matrix_pred | BinaryConfusionMatrix  | 0     \n",
      "------------------------------------------------------------\n",
      "4.7 M     Trainable params\n",
      "0         Non-trainable params\n",
      "4.7 M     Total params\n",
      "18.900    Total estimated model params size (MB)\n"
     ]
    },
    {
     "name": "stdout",
     "output_type": "stream",
     "text": [
      "Training time: 359.4480559825897\n",
      "Accuracy: 0.9171375036239624\n",
      "F1 score: 0.0\n",
      "MCC: 0.8395189046859741\n",
      "Fitness: 0.5855521361033121\n",
      "********\n",
      "chromosome: ['Ldo2agn1', 'Pa', 'Leo3k4s1p2arn1', 'Pa', 'HC'], fitness: 0.5855521361033121\n",
      "\n",
      "Architecture: Lco3k3s2p1arn1EPMELne5arn1EPMELco4k3s1p1agn1EPaEHCEE\n",
      "Chromosome: ['Lco3k3s2p1arn1', 'PM', 'Lne5arn1', 'PM', 'Lco4k3s1p1agn1', 'Pa', 'HC']\n",
      "\n",
      "\n",
      "***\n",
      "\n",
      "[{'layer_type': 'ConvBnAct', 'out_channels_coefficient': 3, 'kernel_size': 3, 'stride': 2, 'padding': 1, 'activation': 'ReLU', 'num_blocks': 1}, {'layer_type': 'MaxPool'}, {'layer_type': 'MBConvNoRes', 'expansion_factor': 5, 'activation': 'ReLU', 'num_blocks': 1}, {'layer_type': 'MaxPool'}, {'layer_type': 'ConvBnAct', 'out_channels_coefficient': 4, 'kernel_size': 3, 'stride': 1, 'padding': 1, 'activation': 'GELU', 'num_blocks': 1}, {'layer_type': 'AvgPool'}, {'layer_type': 'ClassificationHead'}]\n",
      "***\n",
      "\n",
      "\n",
      "Sanity Checking: |          | 0/? [00:00<?, ?it/s]"
     ]
    },
    {
     "name": "stderr",
     "output_type": "stream",
     "text": [
      "c:\\Users\\andre\\anaconda3\\envs\\deeplearning\\Lib\\site-packages\\pytorch_lightning\\trainer\\connectors\\data_connector.py:436: Consider setting `persistent_workers=True` in 'val_dataloader' to speed up the dataloader worker initialization.\n"
     ]
    },
    {
     "name": "stdout",
     "output_type": "stream",
     "text": [
      "                                                                           \r"
     ]
    },
    {
     "name": "stderr",
     "output_type": "stream",
     "text": [
      "c:\\Users\\andre\\anaconda3\\envs\\deeplearning\\Lib\\site-packages\\pytorch_lightning\\trainer\\connectors\\data_connector.py:436: Consider setting `persistent_workers=True` in 'train_dataloader' to speed up the dataloader worker initialization.\n"
     ]
    },
    {
     "name": "stdout",
     "output_type": "stream",
     "text": [
      "Epoch 10: 100%|██████████| 1126/1126 [00:17<00:00, 64.37it/s, v_num=15, train_loss=0.0377, train_accuracy=0.990, train_f1_score=0.921, train_mcc=0.982]\n"
     ]
    },
    {
     "name": "stderr",
     "output_type": "stream",
     "text": [
      "LOCAL_RANK: 0 - CUDA_VISIBLE_DEVICES: [0]\n"
     ]
    },
    {
     "name": "stdout",
     "output_type": "stream",
     "text": [
      "Validation DataLoader 0: 100%|██████████| 1126/1126 [00:08<00:00, 130.79it/s]\n",
      "────────────────────────────────────────────────────────────────────────────────────────────────────────────────────────\n",
      "     Validate metric           DataLoader 0\n",
      "────────────────────────────────────────────────────────────────────────────────────────────────────────────────────────\n",
      "        val_loss            0.04431994631886482\n",
      "────────────────────────────────────────────────────────────────────────────────────────────────────────────────────────\n"
     ]
    },
    {
     "name": "stderr",
     "output_type": "stream",
     "text": [
      "LOCAL_RANK: 0 - CUDA_VISIBLE_DEVICES: [0]\n",
      "c:\\Users\\andre\\anaconda3\\envs\\deeplearning\\Lib\\site-packages\\pytorch_lightning\\trainer\\connectors\\data_connector.py:436: Consider setting `persistent_workers=True` in 'test_dataloader' to speed up the dataloader worker initialization.\n"
     ]
    },
    {
     "name": "stdout",
     "output_type": "stream",
     "text": [
      "Testing DataLoader 0: 100%|██████████| 133/133 [00:01<00:00, 87.26it/s]\n",
      "────────────────────────────────────────────────────────────────────────────────────────────────────────────────────────\n",
      "       Test metric             DataLoader 0\n",
      "────────────────────────────────────────────────────────────────────────────────────────────────────────────────────────\n",
      "      test_accuracy          0.887005627155304\n",
      "      test_f1_score        0.006026365328580141\n",
      "        test_loss           0.6272942423820496\n",
      "        test_mcc            0.7827513217926025\n",
      "────────────────────────────────────────────────────────────────────────────────────────────────────────────────────────\n"
     ]
    },
    {
     "name": "stderr",
     "output_type": "stream",
     "text": [
      "Seed set to 7\n",
      "GPU available: True (cuda), used: True\n",
      "TPU available: False, using: 0 TPU cores\n",
      "IPU available: False, using: 0 IPUs\n",
      "HPU available: False, using: 0 HPUs\n",
      "LOCAL_RANK: 0 - CUDA_VISIBLE_DEVICES: [0]\n",
      "\n",
      "  | Name             | Type                   | Params\n",
      "------------------------------------------------------------\n",
      "0 | model            | GenericNetwork         | 6.3 M \n",
      "1 | loss_fn          | CrossEntropyLoss       | 0     \n",
      "2 | accuracy         | BinaryAccuracy         | 0     \n",
      "3 | f1_score         | BinaryF1Score          | 0     \n",
      "4 | mcc              | BinaryMatthewsCorrCoef | 0     \n",
      "5 | conf_matrix      | BinaryConfusionMatrix  | 0     \n",
      "6 | conf_matrix_pred | BinaryConfusionMatrix  | 0     \n",
      "------------------------------------------------------------\n",
      "6.3 M     Trainable params\n",
      "0         Non-trainable params\n",
      "6.3 M     Total params\n",
      "25.186    Total estimated model params size (MB)\n"
     ]
    },
    {
     "name": "stdout",
     "output_type": "stream",
     "text": [
      "Training time: 189.1379120349884\n",
      "Accuracy: 0.887005627155304\n",
      "F1 score: 0.006026365328580141\n",
      "MCC: 0.7827513217926025\n",
      "Fitness: 0.5585944380921622\n",
      "********\n",
      "chromosome: ['Lco3k3s2p1arn1', 'PM', 'Lne5arn1', 'PM', 'Lco4k3s1p1agn1', 'Pa', 'HC'], fitness: 0.5585944380921622\n",
      "\n",
      "Architecture: Lme6arn1EPMELdo3arn1EPMELme6agn1EPaEHCEE\n",
      "Chromosome: ['Lme6arn1', 'PM', 'Ldo3arn1', 'PM', 'Lme6agn1', 'Pa', 'HC']\n",
      "\n",
      "\n",
      "***\n",
      "\n",
      "[{'layer_type': 'MBConv', 'expansion_factor': 6, 'activation': 'ReLU', 'num_blocks': 1}, {'layer_type': 'MaxPool'}, {'layer_type': 'DenseNetBlock', 'out_channels_coefficient': 3, 'activation': 'ReLU', 'num_blocks': 1}, {'layer_type': 'MaxPool'}, {'layer_type': 'MBConv', 'expansion_factor': 6, 'activation': 'GELU', 'num_blocks': 1}, {'layer_type': 'AvgPool'}, {'layer_type': 'ClassificationHead'}]\n",
      "***\n",
      "\n",
      "\n",
      "Sanity Checking: |          | 0/? [00:00<?, ?it/s]"
     ]
    },
    {
     "name": "stderr",
     "output_type": "stream",
     "text": [
      "c:\\Users\\andre\\anaconda3\\envs\\deeplearning\\Lib\\site-packages\\pytorch_lightning\\trainer\\connectors\\data_connector.py:436: Consider setting `persistent_workers=True` in 'val_dataloader' to speed up the dataloader worker initialization.\n"
     ]
    },
    {
     "name": "stdout",
     "output_type": "stream",
     "text": [
      "                                                                           \r"
     ]
    },
    {
     "name": "stderr",
     "output_type": "stream",
     "text": [
      "c:\\Users\\andre\\anaconda3\\envs\\deeplearning\\Lib\\site-packages\\pytorch_lightning\\trainer\\connectors\\data_connector.py:436: Consider setting `persistent_workers=True` in 'train_dataloader' to speed up the dataloader worker initialization.\n"
     ]
    },
    {
     "name": "stdout",
     "output_type": "stream",
     "text": [
      "Epoch 7: 100%|██████████| 1126/1126 [00:17<00:00, 62.90it/s, v_num=16, train_loss=0.146, train_accuracy=0.953, train_f1_score=0.880, train_mcc=0.919]\n"
     ]
    },
    {
     "name": "stderr",
     "output_type": "stream",
     "text": [
      "LOCAL_RANK: 0 - CUDA_VISIBLE_DEVICES: [0]\n"
     ]
    },
    {
     "name": "stdout",
     "output_type": "stream",
     "text": [
      "Validation DataLoader 0: 100%|██████████| 1126/1126 [00:08<00:00, 139.47it/s]\n",
      "────────────────────────────────────────────────────────────────────────────────────────────────────────────────────────\n",
      "     Validate metric           DataLoader 0\n",
      "────────────────────────────────────────────────────────────────────────────────────────────────────────────────────────\n",
      "        val_loss            0.17701630294322968\n",
      "────────────────────────────────────────────────────────────────────────────────────────────────────────────────────────\n"
     ]
    },
    {
     "name": "stderr",
     "output_type": "stream",
     "text": [
      "LOCAL_RANK: 0 - CUDA_VISIBLE_DEVICES: [0]\n",
      "c:\\Users\\andre\\anaconda3\\envs\\deeplearning\\Lib\\site-packages\\pytorch_lightning\\trainer\\connectors\\data_connector.py:436: Consider setting `persistent_workers=True` in 'test_dataloader' to speed up the dataloader worker initialization.\n"
     ]
    },
    {
     "name": "stdout",
     "output_type": "stream",
     "text": [
      "Testing DataLoader 0: 100%|██████████| 133/133 [00:01<00:00, 89.61it/s]\n",
      "────────────────────────────────────────────────────────────────────────────────────────────────────────────────────────\n",
      "       Test metric             DataLoader 0\n",
      "────────────────────────────────────────────────────────────────────────────────────────────────────────────────────────\n",
      "      test_accuracy         0.8192090392112732\n",
      "      test_f1_score         0.01286880113184452\n",
      "        test_loss           0.7446826696395874\n",
      "        test_mcc            0.6613016128540039\n",
      "────────────────────────────────────────────────────────────────────────────────────────────────────────────────────────\n"
     ]
    },
    {
     "name": "stderr",
     "output_type": "stream",
     "text": [
      "Seed set to 7\n",
      "GPU available: True (cuda), used: True\n",
      "TPU available: False, using: 0 TPU cores\n",
      "IPU available: False, using: 0 IPUs\n",
      "HPU available: False, using: 0 HPUs\n",
      "LOCAL_RANK: 0 - CUDA_VISIBLE_DEVICES: [0]\n",
      "\n",
      "  | Name             | Type                   | Params\n",
      "------------------------------------------------------------\n",
      "0 | model            | GenericNetwork         | 3.7 M \n",
      "1 | loss_fn          | CrossEntropyLoss       | 0     \n",
      "2 | accuracy         | BinaryAccuracy         | 0     \n",
      "3 | f1_score         | BinaryF1Score          | 0     \n",
      "4 | mcc              | BinaryMatthewsCorrCoef | 0     \n",
      "5 | conf_matrix      | BinaryConfusionMatrix  | 0     \n",
      "6 | conf_matrix_pred | BinaryConfusionMatrix  | 0     \n",
      "------------------------------------------------------------\n",
      "3.7 M     Trainable params\n",
      "0         Non-trainable params\n",
      "3.7 M     Total params\n",
      "14.998    Total estimated model params size (MB)\n"
     ]
    },
    {
     "name": "stdout",
     "output_type": "stream",
     "text": [
      "Training time: 147.89202737808228\n",
      "Accuracy: 0.8192090392112732\n",
      "F1 score: 0.01286880113184452\n",
      "MCC: 0.6613016128540039\n",
      "Fitness: 0.4977931510657072\n",
      "********\n",
      "chromosome: ['Lme6arn1', 'PM', 'Ldo3arn1', 'PM', 'Lme6agn1', 'Pa', 'HC'], fitness: 0.4977931510657072\n",
      "\n",
      "Architecture: Leo3k5s1p0arn1EPMELbo4k3s1p0agn1EPMELRr2agn1EPaELco4k5s2p1agn1EPMEHCEE\n",
      "Chromosome: ['Leo3k5s1p0arn1', 'PM', 'Lbo4k3s1p0agn1', 'PM', 'LRr2agn1', 'Pa', 'Lco4k5s2p1agn1', 'PM', 'HC']\n",
      "\n",
      "\n",
      "***\n",
      "\n",
      "[{'layer_type': 'ConvSE', 'out_channels_coefficient': 3, 'kernel_size': 5, 'stride': 1, 'padding': 0, 'activation': 'ReLU', 'num_blocks': 1}, {'layer_type': 'MaxPool'}, {'layer_type': 'ConvAct', 'out_channels_coefficient': 4, 'kernel_size': 3, 'stride': 1, 'padding': 0, 'activation': 'GELU', 'num_blocks': 1}, {'layer_type': 'MaxPool'}, {'layer_type': 'ResNetBlock', 'reduction_factor': 2, 'activation': 'GELU', 'num_blocks': 1}, {'layer_type': 'AvgPool'}, {'layer_type': 'ConvBnAct', 'out_channels_coefficient': 4, 'kernel_size': 5, 'stride': 2, 'padding': 1, 'activation': 'GELU', 'num_blocks': 1}, {'layer_type': 'MaxPool'}, {'layer_type': 'ClassificationHead'}]\n",
      "***\n",
      "\n",
      "\n",
      "Sanity Checking: |          | 0/? [00:00<?, ?it/s]"
     ]
    },
    {
     "name": "stderr",
     "output_type": "stream",
     "text": [
      "c:\\Users\\andre\\anaconda3\\envs\\deeplearning\\Lib\\site-packages\\pytorch_lightning\\trainer\\connectors\\data_connector.py:436: Consider setting `persistent_workers=True` in 'val_dataloader' to speed up the dataloader worker initialization.\n"
     ]
    },
    {
     "name": "stdout",
     "output_type": "stream",
     "text": [
      "                                                                           \r"
     ]
    },
    {
     "name": "stderr",
     "output_type": "stream",
     "text": [
      "c:\\Users\\andre\\anaconda3\\envs\\deeplearning\\Lib\\site-packages\\pytorch_lightning\\trainer\\connectors\\data_connector.py:436: Consider setting `persistent_workers=True` in 'train_dataloader' to speed up the dataloader worker initialization.\n"
     ]
    },
    {
     "name": "stdout",
     "output_type": "stream",
     "text": [
      "Epoch 15: 100%|██████████| 1126/1126 [00:17<00:00, 65.00it/s, v_num=17, train_loss=0.116, train_accuracy=0.965, train_f1_score=0.898, train_mcc=0.939] \n"
     ]
    },
    {
     "name": "stderr",
     "output_type": "stream",
     "text": [
      "LOCAL_RANK: 0 - CUDA_VISIBLE_DEVICES: [0]\n"
     ]
    },
    {
     "name": "stdout",
     "output_type": "stream",
     "text": [
      "Validation DataLoader 0: 100%|██████████| 1126/1126 [00:07<00:00, 144.64it/s]\n",
      "────────────────────────────────────────────────────────────────────────────────────────────────────────────────────────\n",
      "     Validate metric           DataLoader 0\n",
      "────────────────────────────────────────────────────────────────────────────────────────────────────────────────────────\n",
      "        val_loss            0.05385661870241165\n",
      "────────────────────────────────────────────────────────────────────────────────────────────────────────────────────────\n"
     ]
    },
    {
     "name": "stderr",
     "output_type": "stream",
     "text": [
      "LOCAL_RANK: 0 - CUDA_VISIBLE_DEVICES: [0]\n",
      "c:\\Users\\andre\\anaconda3\\envs\\deeplearning\\Lib\\site-packages\\pytorch_lightning\\trainer\\connectors\\data_connector.py:436: Consider setting `persistent_workers=True` in 'test_dataloader' to speed up the dataloader worker initialization.\n"
     ]
    },
    {
     "name": "stdout",
     "output_type": "stream",
     "text": [
      "Testing DataLoader 0: 100%|██████████| 133/133 [00:01<00:00, 90.88it/s]\n",
      "────────────────────────────────────────────────────────────────────────────────────────────────────────────────────────\n",
      "       Test metric             DataLoader 0\n",
      "────────────────────────────────────────────────────────────────────────────────────────────────────────────────────────\n",
      "      test_accuracy         0.8926553726196289\n",
      "      test_f1_score        0.009039548225700855\n",
      "        test_loss           0.7086282968521118\n",
      "        test_mcc            0.7969639897346497\n",
      "────────────────────────────────────────────────────────────────────────────────────────────────────────────────────────\n"
     ]
    },
    {
     "name": "stderr",
     "output_type": "stream",
     "text": [
      "Seed set to 7\n",
      "GPU available: True (cuda), used: True\n",
      "TPU available: False, using: 0 TPU cores\n",
      "IPU available: False, using: 0 IPUs\n",
      "HPU available: False, using: 0 HPUs\n",
      "LOCAL_RANK: 0 - CUDA_VISIBLE_DEVICES: [0]\n",
      "\n",
      "  | Name             | Type                   | Params\n",
      "------------------------------------------------------------\n",
      "0 | model            | GenericNetwork         | 2.8 M \n",
      "1 | loss_fn          | CrossEntropyLoss       | 0     \n",
      "2 | accuracy         | BinaryAccuracy         | 0     \n",
      "3 | f1_score         | BinaryF1Score          | 0     \n",
      "4 | mcc              | BinaryMatthewsCorrCoef | 0     \n",
      "5 | conf_matrix      | BinaryConfusionMatrix  | 0     \n",
      "6 | conf_matrix_pred | BinaryConfusionMatrix  | 0     \n",
      "------------------------------------------------------------\n",
      "2.8 M     Trainable params\n",
      "0         Non-trainable params\n",
      "2.8 M     Total params\n",
      "11.157    Total estimated model params size (MB)\n"
     ]
    },
    {
     "name": "stdout",
     "output_type": "stream",
     "text": [
      "Training time: 283.75891375541687\n",
      "Accuracy: 0.8926553726196289\n",
      "F1 score: 0.009039548225700855\n",
      "MCC: 0.7969639897346497\n",
      "Fitness: 0.5662196368599931\n",
      "********\n",
      "chromosome: ['Leo3k5s1p0arn1', 'PM', 'Lbo4k3s1p0agn1', 'PM', 'LRr2agn1', 'Pa', 'Lco4k5s2p1agn1', 'PM', 'HC'], fitness: 0.5662196368599931\n",
      "\n",
      "For generation 1, the best fitness of the population is 0.5855521361033121.\n",
      "The best historical fitness is 0.5855521361033121,with the most fit individual having the following genes: ['Ldo2agn1', 'Pa', 'Leo3k4s1p2arn1', 'Pa', 'HC'].\n",
      "Text file saved: ./logs/GA_logs\\GA_generation_1.txt\n",
      "*** GENERATION 2 ***\n",
      "Architecture: Ldo2agn1EPaELeo3k4s1p2arn1EPMELRr2agn1EPaELco4k5s2p1agn1EPMEHCEE\n",
      "Chromosome: ['Ldo2agn1', 'Pa', 'Leo3k4s1p2arn1', 'PM', 'LRr2agn1', 'Pa', 'Lco4k5s2p1agn1', 'PM', 'HC']\n",
      "\n",
      "\n",
      "***\n",
      "\n",
      "[{'layer_type': 'DenseNetBlock', 'out_channels_coefficient': 2, 'activation': 'GELU', 'num_blocks': 1}, {'layer_type': 'AvgPool'}, {'layer_type': 'ConvSE', 'out_channels_coefficient': 3, 'kernel_size': 4, 'stride': 1, 'padding': 2, 'activation': 'ReLU', 'num_blocks': 1}, {'layer_type': 'MaxPool'}, {'layer_type': 'ResNetBlock', 'reduction_factor': 2, 'activation': 'GELU', 'num_blocks': 1}, {'layer_type': 'AvgPool'}, {'layer_type': 'ConvBnAct', 'out_channels_coefficient': 4, 'kernel_size': 5, 'stride': 2, 'padding': 1, 'activation': 'GELU', 'num_blocks': 1}, {'layer_type': 'MaxPool'}, {'layer_type': 'ClassificationHead'}]\n",
      "***\n",
      "\n",
      "\n",
      "Sanity Checking: |          | 0/? [00:00<?, ?it/s]"
     ]
    },
    {
     "name": "stderr",
     "output_type": "stream",
     "text": [
      "c:\\Users\\andre\\anaconda3\\envs\\deeplearning\\Lib\\site-packages\\pytorch_lightning\\trainer\\connectors\\data_connector.py:436: Consider setting `persistent_workers=True` in 'val_dataloader' to speed up the dataloader worker initialization.\n"
     ]
    },
    {
     "name": "stdout",
     "output_type": "stream",
     "text": [
      "                                                                           \r"
     ]
    },
    {
     "name": "stderr",
     "output_type": "stream",
     "text": [
      "c:\\Users\\andre\\anaconda3\\envs\\deeplearning\\Lib\\site-packages\\pytorch_lightning\\trainer\\connectors\\data_connector.py:436: Consider setting `persistent_workers=True` in 'train_dataloader' to speed up the dataloader worker initialization.\n"
     ]
    },
    {
     "name": "stdout",
     "output_type": "stream",
     "text": [
      "Epoch 14: 100%|██████████| 1126/1126 [00:18<00:00, 62.40it/s, v_num=18, train_loss=0.105, train_accuracy=0.970, train_f1_score=0.899, train_mcc=0.948] \n"
     ]
    },
    {
     "name": "stderr",
     "output_type": "stream",
     "text": [
      "LOCAL_RANK: 0 - CUDA_VISIBLE_DEVICES: [0]\n"
     ]
    },
    {
     "name": "stdout",
     "output_type": "stream",
     "text": [
      "Validation DataLoader 0: 100%|██████████| 1126/1126 [00:07<00:00, 141.05it/s]\n",
      "────────────────────────────────────────────────────────────────────────────────────────────────────────────────────────\n",
      "     Validate metric           DataLoader 0\n",
      "────────────────────────────────────────────────────────────────────────────────────────────────────────────────────────\n",
      "        val_loss           0.047457627952098846\n",
      "────────────────────────────────────────────────────────────────────────────────────────────────────────────────────────\n"
     ]
    },
    {
     "name": "stderr",
     "output_type": "stream",
     "text": [
      "LOCAL_RANK: 0 - CUDA_VISIBLE_DEVICES: [0]\n",
      "c:\\Users\\andre\\anaconda3\\envs\\deeplearning\\Lib\\site-packages\\pytorch_lightning\\trainer\\connectors\\data_connector.py:436: Consider setting `persistent_workers=True` in 'test_dataloader' to speed up the dataloader worker initialization.\n"
     ]
    },
    {
     "name": "stdout",
     "output_type": "stream",
     "text": [
      "Testing DataLoader 0: 100%|██████████| 133/133 [00:01<00:00, 88.49it/s]\n",
      "────────────────────────────────────────────────────────────────────────────────────────────────────────────────────────\n",
      "       Test metric             DataLoader 0\n",
      "────────────────────────────────────────────────────────────────────────────────────────────────────────────────────────\n",
      "      test_accuracy         0.8549906015396118\n",
      "      test_f1_score         0.01387319527566433\n",
      "        test_loss           0.6253976821899414\n",
      "        test_mcc            0.7264553308486938\n",
      "────────────────────────────────────────────────────────────────────────────────────────────────────────────────────────\n"
     ]
    },
    {
     "name": "stderr",
     "output_type": "stream",
     "text": [
      "Seed set to 7\n"
     ]
    },
    {
     "name": "stdout",
     "output_type": "stream",
     "text": [
      "Training time: 275.44203209877014\n",
      "Accuracy: 0.8549906015396118\n",
      "F1 score: 0.01387319527566433\n",
      "MCC: 0.7264553308486938\n",
      "Fitness: 0.5317730425546566\n",
      "********\n",
      "chromosome: ['Ldo2agn1', 'Pa', 'Leo3k4s1p2arn1', 'PM', 'LRr2agn1', 'Pa', 'Lco4k5s2p1agn1', 'PM', 'HC'], fitness: 0.5317730425546566\n",
      "\n",
      "Architecture: Lco4k3s1p1agn1EPMELbo4k3s1p0agn1EPaEHCEE\n",
      "Chromosome: ['Lco4k3s1p1agn1', 'PM', 'Lbo4k3s1p0agn1', 'Pa', 'HC']\n",
      "\n",
      "\n",
      "***\n",
      "\n",
      "[{'layer_type': 'ConvBnAct', 'out_channels_coefficient': 4, 'kernel_size': 3, 'stride': 1, 'padding': 1, 'activation': 'GELU', 'num_blocks': 1}, {'layer_type': 'MaxPool'}, {'layer_type': 'ConvAct', 'out_channels_coefficient': 4, 'kernel_size': 3, 'stride': 1, 'padding': 0, 'activation': 'GELU', 'num_blocks': 1}, {'layer_type': 'AvgPool'}, {'layer_type': 'ClassificationHead'}]\n",
      "***\n",
      "\n",
      "\n"
     ]
    },
    {
     "name": "stderr",
     "output_type": "stream",
     "text": [
      "GPU available: True (cuda), used: True\n",
      "TPU available: False, using: 0 TPU cores\n",
      "IPU available: False, using: 0 IPUs\n",
      "HPU available: False, using: 0 HPUs\n",
      "LOCAL_RANK: 0 - CUDA_VISIBLE_DEVICES: [0]\n",
      "\n",
      "  | Name             | Type                   | Params\n",
      "------------------------------------------------------------\n",
      "0 | model            | GenericNetwork         | 97.5 M\n",
      "1 | loss_fn          | CrossEntropyLoss       | 0     \n",
      "2 | accuracy         | BinaryAccuracy         | 0     \n",
      "3 | f1_score         | BinaryF1Score          | 0     \n",
      "4 | mcc              | BinaryMatthewsCorrCoef | 0     \n",
      "5 | conf_matrix      | BinaryConfusionMatrix  | 0     \n",
      "6 | conf_matrix_pred | BinaryConfusionMatrix  | 0     \n",
      "------------------------------------------------------------\n",
      "97.5 M    Trainable params\n",
      "0         Non-trainable params\n",
      "97.5 M    Total params\n",
      "390.197   Total estimated model params size (MB)\n"
     ]
    },
    {
     "name": "stdout",
     "output_type": "stream",
     "text": [
      "Sanity Checking: |          | 0/? [00:00<?, ?it/s]"
     ]
    },
    {
     "name": "stderr",
     "output_type": "stream",
     "text": [
      "c:\\Users\\andre\\anaconda3\\envs\\deeplearning\\Lib\\site-packages\\pytorch_lightning\\trainer\\connectors\\data_connector.py:436: Consider setting `persistent_workers=True` in 'val_dataloader' to speed up the dataloader worker initialization.\n"
     ]
    },
    {
     "name": "stdout",
     "output_type": "stream",
     "text": [
      "                                                                           \r"
     ]
    },
    {
     "name": "stderr",
     "output_type": "stream",
     "text": [
      "c:\\Users\\andre\\anaconda3\\envs\\deeplearning\\Lib\\site-packages\\pytorch_lightning\\trainer\\connectors\\data_connector.py:436: Consider setting `persistent_workers=True` in 'train_dataloader' to speed up the dataloader worker initialization.\n"
     ]
    },
    {
     "name": "stdout",
     "output_type": "stream",
     "text": [
      "Epoch 3: 100%|██████████| 1126/1126 [00:51<00:00, 22.05it/s, v_num=19, train_loss=0.524, train_accuracy=0.800, train_f1_score=0.700, train_mcc=0.633]\n"
     ]
    },
    {
     "name": "stderr",
     "output_type": "stream",
     "text": [
      "LOCAL_RANK: 0 - CUDA_VISIBLE_DEVICES: [0]\n"
     ]
    },
    {
     "name": "stdout",
     "output_type": "stream",
     "text": [
      "Validation DataLoader 0: 100%|██████████| 1126/1126 [00:08<00:00, 127.48it/s]\n",
      "────────────────────────────────────────────────────────────────────────────────────────────────────────────────────────\n",
      "     Validate metric           DataLoader 0\n",
      "────────────────────────────────────────────────────────────────────────────────────────────────────────────────────────\n",
      "        val_loss            0.1434527486562729\n",
      "────────────────────────────────────────────────────────────────────────────────────────────────────────────────────────\n"
     ]
    },
    {
     "name": "stderr",
     "output_type": "stream",
     "text": [
      "LOCAL_RANK: 0 - CUDA_VISIBLE_DEVICES: [0]\n",
      "c:\\Users\\andre\\anaconda3\\envs\\deeplearning\\Lib\\site-packages\\pytorch_lightning\\trainer\\connectors\\data_connector.py:436: Consider setting `persistent_workers=True` in 'test_dataloader' to speed up the dataloader worker initialization.\n"
     ]
    },
    {
     "name": "stdout",
     "output_type": "stream",
     "text": [
      "Testing DataLoader 0: 100%|██████████| 133/133 [00:01<00:00, 90.06it/s]\n",
      "────────────────────────────────────────────────────────────────────────────────────────────────────────────────────────\n",
      "       Test metric             DataLoader 0\n",
      "────────────────────────────────────────────────────────────────────────────────────────────────────────────────────────\n",
      "      test_accuracy         0.8587570786476135\n",
      "      test_f1_score        0.0030131826642900705\n",
      "        test_loss           0.4293068051338196\n",
      "        test_mcc            0.7268367409706116\n",
      "────────────────────────────────────────────────────────────────────────────────────────────────────────────────────────\n"
     ]
    },
    {
     "name": "stderr",
     "output_type": "stream",
     "text": [
      "Seed set to 7\n",
      "GPU available: True (cuda), used: True\n",
      "TPU available: False, using: 0 TPU cores\n",
      "IPU available: False, using: 0 IPUs\n",
      "HPU available: False, using: 0 HPUs\n",
      "LOCAL_RANK: 0 - CUDA_VISIBLE_DEVICES: [0]\n",
      "\n",
      "  | Name             | Type                   | Params\n",
      "------------------------------------------------------------\n",
      "0 | model            | GenericNetwork         | 1.8 M \n",
      "1 | loss_fn          | CrossEntropyLoss       | 0     \n",
      "2 | accuracy         | BinaryAccuracy         | 0     \n",
      "3 | f1_score         | BinaryF1Score          | 0     \n",
      "4 | mcc              | BinaryMatthewsCorrCoef | 0     \n",
      "5 | conf_matrix      | BinaryConfusionMatrix  | 0     \n",
      "6 | conf_matrix_pred | BinaryConfusionMatrix  | 0     \n",
      "------------------------------------------------------------\n",
      "1.8 M     Trainable params\n",
      "0         Non-trainable params\n",
      "1.8 M     Total params\n",
      "7.339     Total estimated model params size (MB)\n"
     ]
    },
    {
     "name": "stdout",
     "output_type": "stream",
     "text": [
      "Training time: 210.63107323646545\n",
      "Accuracy: 0.8587570786476135\n",
      "F1 score: 0.0030131826642900705\n",
      "MCC: 0.7268367409706116\n",
      "Fitness: 0.529535667427505\n",
      "********\n",
      "chromosome: ['Lco4k3s1p1agn1', 'PM', 'Lbo4k3s1p0agn1', 'Pa', 'HC'], fitness: 0.529535667427505\n",
      "\n",
      "Architecture: Lco3k3s2p1arn1EPMELbo4k3s1p0agn1EPMELco2k3s2p0arn1EPaEHCEE\n",
      "Chromosome: ['Lco3k3s2p1arn1', 'PM', 'Lbo4k3s1p0agn1', 'PM', 'Lco2k3s2p0arn1', 'Pa', 'HC']\n",
      "\n",
      "\n",
      "***\n",
      "\n",
      "[{'layer_type': 'ConvBnAct', 'out_channels_coefficient': 3, 'kernel_size': 3, 'stride': 2, 'padding': 1, 'activation': 'ReLU', 'num_blocks': 1}, {'layer_type': 'MaxPool'}, {'layer_type': 'ConvAct', 'out_channels_coefficient': 4, 'kernel_size': 3, 'stride': 1, 'padding': 0, 'activation': 'GELU', 'num_blocks': 1}, {'layer_type': 'MaxPool'}, {'layer_type': 'ConvBnAct', 'out_channels_coefficient': 2, 'kernel_size': 3, 'stride': 2, 'padding': 0, 'activation': 'ReLU', 'num_blocks': 1}, {'layer_type': 'AvgPool'}, {'layer_type': 'ClassificationHead'}]\n",
      "***\n",
      "\n",
      "\n",
      "Sanity Checking: |          | 0/? [00:00<?, ?it/s]"
     ]
    },
    {
     "name": "stderr",
     "output_type": "stream",
     "text": [
      "c:\\Users\\andre\\anaconda3\\envs\\deeplearning\\Lib\\site-packages\\pytorch_lightning\\trainer\\connectors\\data_connector.py:436: Consider setting `persistent_workers=True` in 'val_dataloader' to speed up the dataloader worker initialization.\n"
     ]
    },
    {
     "name": "stdout",
     "output_type": "stream",
     "text": [
      "                                                                           \r"
     ]
    },
    {
     "name": "stderr",
     "output_type": "stream",
     "text": [
      "c:\\Users\\andre\\anaconda3\\envs\\deeplearning\\Lib\\site-packages\\pytorch_lightning\\trainer\\connectors\\data_connector.py:436: Consider setting `persistent_workers=True` in 'train_dataloader' to speed up the dataloader worker initialization.\n"
     ]
    },
    {
     "name": "stdout",
     "output_type": "stream",
     "text": [
      "Epoch 21: 100%|██████████| 1126/1126 [00:15<00:00, 71.95it/s, v_num=20, train_loss=0.0504, train_accuracy=0.984, train_f1_score=0.931, train_mcc=0.973]\n"
     ]
    },
    {
     "name": "stderr",
     "output_type": "stream",
     "text": [
      "LOCAL_RANK: 0 - CUDA_VISIBLE_DEVICES: [0]\n"
     ]
    },
    {
     "name": "stdout",
     "output_type": "stream",
     "text": [
      "Validation DataLoader 0: 100%|██████████| 1126/1126 [00:08<00:00, 138.75it/s]\n",
      "────────────────────────────────────────────────────────────────────────────────────────────────────────────────────────\n",
      "     Validate metric           DataLoader 0\n",
      "────────────────────────────────────────────────────────────────────────────────────────────────────────────────────────\n",
      "        val_loss           0.0031534249428659678\n",
      "────────────────────────────────────────────────────────────────────────────────────────────────────────────────────────\n"
     ]
    },
    {
     "name": "stderr",
     "output_type": "stream",
     "text": [
      "LOCAL_RANK: 0 - CUDA_VISIBLE_DEVICES: [0]\n",
      "c:\\Users\\andre\\anaconda3\\envs\\deeplearning\\Lib\\site-packages\\pytorch_lightning\\trainer\\connectors\\data_connector.py:436: Consider setting `persistent_workers=True` in 'test_dataloader' to speed up the dataloader worker initialization.\n"
     ]
    },
    {
     "name": "stdout",
     "output_type": "stream",
     "text": [
      "Testing DataLoader 0: 100%|██████████| 133/133 [00:01<00:00, 92.41it/s]\n",
      "────────────────────────────────────────────────────────────────────────────────────────────────────────────────────────\n",
      "       Test metric             DataLoader 0\n",
      "────────────────────────────────────────────────────────────────────────────────────────────────────────────────────────\n",
      "      test_accuracy          0.887005627155304\n",
      "      test_f1_score                 0.0\n",
      "        test_loss            1.631838083267212\n",
      "        test_mcc            0.7839165329933167\n",
      "────────────────────────────────────────────────────────────────────────────────────────────────────────────────────────\n",
      "Training time: 351.9678964614868\n",
      "Accuracy: 0.887005627155304\n",
      "F1 score: 0.0\n",
      "MCC: 0.7839165329933167\n",
      "Fitness: 0.5569740533828735\n",
      "********\n",
      "chromosome: ['Lco3k3s2p1arn1', 'PM', 'Lbo4k3s1p0agn1', 'PM', 'Lco2k3s2p0arn1', 'Pa', 'HC'], fitness: 0.5569740533828735\n",
      "\n",
      "Architecture: Leo3k5s1p0arn1EPMELne5arn1EPMELco4k3s1p1agn1EPaEHCEE\n",
      "Chromosome: ['Leo3k5s1p0arn1', 'PM', 'Lne5arn1', 'PM', 'Lco4k3s1p1agn1', 'Pa', 'HC']\n"
     ]
    },
    {
     "name": "stderr",
     "output_type": "stream",
     "text": [
      "Seed set to 7\n",
      "GPU available: True (cuda), used: True\n",
      "TPU available: False, using: 0 TPU cores\n",
      "IPU available: False, using: 0 IPUs\n",
      "HPU available: False, using: 0 HPUs\n",
      "LOCAL_RANK: 0 - CUDA_VISIBLE_DEVICES: [0]\n"
     ]
    },
    {
     "name": "stdout",
     "output_type": "stream",
     "text": [
      "\n",
      "\n",
      "***\n",
      "\n",
      "[{'layer_type': 'ConvSE', 'out_channels_coefficient': 3, 'kernel_size': 5, 'stride': 1, 'padding': 0, 'activation': 'ReLU', 'num_blocks': 1}, {'layer_type': 'MaxPool'}, {'layer_type': 'MBConvNoRes', 'expansion_factor': 5, 'activation': 'ReLU', 'num_blocks': 1}, {'layer_type': 'MaxPool'}, {'layer_type': 'ConvBnAct', 'out_channels_coefficient': 4, 'kernel_size': 3, 'stride': 1, 'padding': 1, 'activation': 'GELU', 'num_blocks': 1}, {'layer_type': 'AvgPool'}, {'layer_type': 'ClassificationHead'}]\n",
      "***\n",
      "\n",
      "\n"
     ]
    },
    {
     "name": "stderr",
     "output_type": "stream",
     "text": [
      "\n",
      "  | Name             | Type                   | Params\n",
      "------------------------------------------------------------\n",
      "0 | model            | GenericNetwork         | 17.7 M\n",
      "1 | loss_fn          | CrossEntropyLoss       | 0     \n",
      "2 | accuracy         | BinaryAccuracy         | 0     \n",
      "3 | f1_score         | BinaryF1Score          | 0     \n",
      "4 | mcc              | BinaryMatthewsCorrCoef | 0     \n",
      "5 | conf_matrix      | BinaryConfusionMatrix  | 0     \n",
      "6 | conf_matrix_pred | BinaryConfusionMatrix  | 0     \n",
      "------------------------------------------------------------\n",
      "17.7 M    Trainable params\n",
      "0         Non-trainable params\n",
      "17.7 M    Total params\n",
      "70.880    Total estimated model params size (MB)\n"
     ]
    },
    {
     "name": "stdout",
     "output_type": "stream",
     "text": [
      "Sanity Checking: |          | 0/? [00:00<?, ?it/s]"
     ]
    },
    {
     "name": "stderr",
     "output_type": "stream",
     "text": [
      "c:\\Users\\andre\\anaconda3\\envs\\deeplearning\\Lib\\site-packages\\pytorch_lightning\\trainer\\connectors\\data_connector.py:436: Consider setting `persistent_workers=True` in 'val_dataloader' to speed up the dataloader worker initialization.\n"
     ]
    },
    {
     "name": "stdout",
     "output_type": "stream",
     "text": [
      "                                                                           \r"
     ]
    },
    {
     "name": "stderr",
     "output_type": "stream",
     "text": [
      "c:\\Users\\andre\\anaconda3\\envs\\deeplearning\\Lib\\site-packages\\pytorch_lightning\\trainer\\connectors\\data_connector.py:436: Consider setting `persistent_workers=True` in 'train_dataloader' to speed up the dataloader worker initialization.\n"
     ]
    },
    {
     "name": "stdout",
     "output_type": "stream",
     "text": [
      "Epoch 9: 100%|██████████| 1126/1126 [00:21<00:00, 53.55it/s, v_num=21, train_loss=0.0709, train_accuracy=0.980, train_f1_score=0.926, train_mcc=0.967]\n"
     ]
    },
    {
     "name": "stderr",
     "output_type": "stream",
     "text": [
      "LOCAL_RANK: 0 - CUDA_VISIBLE_DEVICES: [0]\n"
     ]
    },
    {
     "name": "stdout",
     "output_type": "stream",
     "text": [
      "Validation DataLoader 0: 100%|██████████| 1126/1126 [00:08<00:00, 128.39it/s]\n",
      "────────────────────────────────────────────────────────────────────────────────────────────────────────────────────────\n",
      "     Validate metric           DataLoader 0\n",
      "────────────────────────────────────────────────────────────────────────────────────────────────────────────────────────\n",
      "        val_loss           0.019468387588858604\n",
      "────────────────────────────────────────────────────────────────────────────────────────────────────────────────────────\n"
     ]
    },
    {
     "name": "stderr",
     "output_type": "stream",
     "text": [
      "LOCAL_RANK: 0 - CUDA_VISIBLE_DEVICES: [0]\n",
      "c:\\Users\\andre\\anaconda3\\envs\\deeplearning\\Lib\\site-packages\\pytorch_lightning\\trainer\\connectors\\data_connector.py:436: Consider setting `persistent_workers=True` in 'test_dataloader' to speed up the dataloader worker initialization.\n"
     ]
    },
    {
     "name": "stdout",
     "output_type": "stream",
     "text": [
      "Testing DataLoader 0: 100%|██████████| 133/133 [00:01<00:00, 85.44it/s]\n",
      "────────────────────────────────────────────────────────────────────────────────────────────────────────────────────────\n",
      "       Test metric             DataLoader 0\n",
      "────────────────────────────────────────────────────────────────────────────────────────────────────────────────────────\n",
      "      test_accuracy          0.909604549407959\n",
      "      test_f1_score        0.006026365328580141\n",
      "        test_loss           0.6045240759849548\n",
      "        test_mcc            0.8256184458732605\n",
      "────────────────────────────────────────────────────────────────────────────────────────────────────────────────────────\n"
     ]
    },
    {
     "name": "stderr",
     "output_type": "stream",
     "text": [
      "Seed set to 7\n"
     ]
    },
    {
     "name": "stdout",
     "output_type": "stream",
     "text": [
      "Training time: 210.98937106132507\n",
      "Accuracy: 0.909604549407959\n",
      "F1 score: 0.006026365328580141\n",
      "MCC: 0.8256184458732605\n",
      "Fitness: 0.5804164535365999\n",
      "********\n",
      "chromosome: ['Leo3k5s1p0arn1', 'PM', 'Lne5arn1', 'PM', 'Lco4k3s1p1agn1', 'Pa', 'HC'], fitness: 0.5804164535365999\n",
      "\n",
      "THE LAST GENERATION (2):\n",
      "For generation 2, the best fitness of the population is 0.5804164535365999.\n",
      "The best historical fitness is 0.5855521361033121,with the most fit individual having the following genes: ['Ldo2agn1', 'Pa', 'Leo3k4s1p2arn1', 'Pa', 'HC'].\n",
      "Text file saved: ./logs/GA_logs\\GA_generation_2.txt\n",
      "NAS completed. Best architecture: Ldo2agn1EPaELeo3k4s1p2arn1EPaEHCEE\n",
      "\n",
      "*** Hyperparameter Tuning ***\n",
      "\n",
      "HT Layers: [{'layer_type': 'DenseNetBlock', 'out_channels_coefficient': 2, 'activation': 'GELU', 'num_blocks': 1}, {'layer_type': 'AvgPool'}, {'layer_type': 'ConvSE', 'out_channels_coefficient': 3, 'kernel_size': 4, 'stride': 1, 'padding': 2, 'activation': 'ReLU', 'num_blocks': 1}, {'layer_type': 'AvgPool'}, {'layer_type': 'ClassificationHead'}]\n",
      "Search space: {'DenseNetBlock_0_out_channels_coefficient': (2.0, 4.0), 'ConvSE_2_out_channels_coefficient': (2.0, 4.0), 'ConvSE_2_kernel_size': (3.0, 5.0), 'ConvSE_2_stride': (1.0, 2.0), 'ConvSE_2_padding': (0.0, 2.0), 'log_learning_rate': (-5.0, 0.0), 'batch_size': (1.0, 64.0)}\n",
      "['DenseNetBlock_0_out_channels_coefficient', 'ConvSE_2_out_channels_coefficient', 'ConvSE_2_kernel_size', 'ConvSE_2_stride', 'ConvSE_2_padding', 'log_learning_rate', 'batch_size']\n",
      "START:\n",
      "\n",
      "\n",
      "***\n",
      "\n",
      "[{'layer_type': 'DenseNetBlock', 'out_channels_coefficient': 4, 'activation': 'GELU', 'num_blocks': 1}, {'layer_type': 'AvgPool'}, {'layer_type': 'ConvSE', 'out_channels_coefficient': 4, 'kernel_size': 4, 'stride': 1, 'padding': 1, 'activation': 'ReLU', 'num_blocks': 1}, {'layer_type': 'AvgPool'}, {'layer_type': 'ClassificationHead'}]\n",
      "***\n",
      "\n",
      "\n"
     ]
    },
    {
     "name": "stderr",
     "output_type": "stream",
     "text": [
      "GPU available: True (cuda), used: True\n",
      "TPU available: False, using: 0 TPU cores\n",
      "IPU available: False, using: 0 IPUs\n",
      "HPU available: False, using: 0 HPUs\n",
      "LOCAL_RANK: 0 - CUDA_VISIBLE_DEVICES: [0]\n",
      "\n",
      "  | Name             | Type                   | Params\n",
      "------------------------------------------------------------\n",
      "0 | model            | GenericNetwork         | 121 M \n",
      "1 | loss_fn          | CrossEntropyLoss       | 0     \n",
      "2 | accuracy         | BinaryAccuracy         | 0     \n",
      "3 | f1_score         | BinaryF1Score          | 0     \n",
      "4 | mcc              | BinaryMatthewsCorrCoef | 0     \n",
      "5 | conf_matrix      | BinaryConfusionMatrix  | 0     \n",
      "6 | conf_matrix_pred | BinaryConfusionMatrix  | 0     \n",
      "------------------------------------------------------------\n",
      "121 M     Trainable params\n",
      "0         Non-trainable params\n",
      "121 M     Total params\n",
      "487.778   Total estimated model params size (MB)\n"
     ]
    },
    {
     "name": "stdout",
     "output_type": "stream",
     "text": [
      "Sanity Checking: |          | 0/? [00:00<?, ?it/s]"
     ]
    },
    {
     "name": "stderr",
     "output_type": "stream",
     "text": [
      "c:\\Users\\andre\\anaconda3\\envs\\deeplearning\\Lib\\site-packages\\pytorch_lightning\\trainer\\connectors\\data_connector.py:436: Consider setting `persistent_workers=True` in 'val_dataloader' to speed up the dataloader worker initialization.\n"
     ]
    },
    {
     "name": "stdout",
     "output_type": "stream",
     "text": [
      "                                                                           \r"
     ]
    },
    {
     "name": "stderr",
     "output_type": "stream",
     "text": [
      "c:\\Users\\andre\\anaconda3\\envs\\deeplearning\\Lib\\site-packages\\pytorch_lightning\\trainer\\connectors\\data_connector.py:436: Consider setting `persistent_workers=True` in 'train_dataloader' to speed up the dataloader worker initialization.\n"
     ]
    },
    {
     "name": "stdout",
     "output_type": "stream",
     "text": [
      "Epoch 7: 100%|██████████| 91/91 [00:15<00:00,  5.93it/s, v_num=22, train_loss=0.153, train_accuracy=0.943, train_f1_score=0.943, train_mcc=0.887]\n"
     ]
    },
    {
     "name": "stderr",
     "output_type": "stream",
     "text": [
      "LOCAL_RANK: 0 - CUDA_VISIBLE_DEVICES: [0]\n"
     ]
    },
    {
     "name": "stdout",
     "output_type": "stream",
     "text": [
      "Validation DataLoader 0: 100%|██████████| 91/91 [00:04<00:00, 22.26it/s]\n",
      "────────────────────────────────────────────────────────────────────────────────────────────────────────────────────────\n",
      "     Validate metric           DataLoader 0\n",
      "────────────────────────────────────────────────────────────────────────────────────────────────────────────────────────\n",
      "        val_loss            0.07661617547273636\n",
      "────────────────────────────────────────────────────────────────────────────────────────────────────────────────────────\n"
     ]
    },
    {
     "name": "stderr",
     "output_type": "stream",
     "text": [
      "LOCAL_RANK: 0 - CUDA_VISIBLE_DEVICES: [0]\n",
      "c:\\Users\\andre\\anaconda3\\envs\\deeplearning\\Lib\\site-packages\\pytorch_lightning\\trainer\\connectors\\data_connector.py:436: Consider setting `persistent_workers=True` in 'test_dataloader' to speed up the dataloader worker initialization.\n"
     ]
    },
    {
     "name": "stdout",
     "output_type": "stream",
     "text": [
      "Testing DataLoader 0: 100%|██████████| 11/11 [00:00<00:00, 17.48it/s]\n",
      "────────────────────────────────────────────────────────────────────────────────────────────────────────────────────────\n",
      "       Test metric             DataLoader 0\n",
      "────────────────────────────────────────────────────────────────────────────────────────────────────────────────────────\n",
      "      test_accuracy         0.8757061958312988\n",
      "      test_f1_score        0.010302426293492317\n",
      "        test_loss           0.36891722679138184\n",
      "        test_mcc            0.41010186076164246\n",
      "────────────────────────────────────────────────────────────────────────────────────────────────────────────────────────\n"
     ]
    },
    {
     "name": "stderr",
     "output_type": "stream",
     "text": [
      "Seed set to 7\n"
     ]
    },
    {
     "name": "stdout",
     "output_type": "stream",
     "text": [
      "Training time: 128.0166618824005\n",
      "Accuracy: 0.8757061958312988\n",
      "F1 score: 0.010302426293492317\n",
      "MCC: 0.41010186076164246\n",
      "Fitness: 0.4320368276288112\n",
      "********\n",
      "position: [3.6888437030500962, 3.515908805880605, 3.84114316166169, 1.2589167502929635, 1.022549442737217, -2.9753293127479283, 50.379311109190674]\n",
      "fitness: 0.4320368276288112 \n",
      "\n",
      "\n",
      "\n",
      "***\n",
      "\n",
      "[{'layer_type': 'DenseNetBlock', 'out_channels_coefficient': 4, 'activation': 'GELU', 'num_blocks': 1}, {'layer_type': 'AvgPool'}, {'layer_type': 'ConvSE', 'out_channels_coefficient': 4, 'kernel_size': 3, 'stride': 1, 'padding': 2, 'activation': 'ReLU', 'num_blocks': 1}, {'layer_type': 'AvgPool'}, {'layer_type': 'ClassificationHead'}]\n",
      "***\n",
      "\n",
      "\n"
     ]
    },
    {
     "name": "stderr",
     "output_type": "stream",
     "text": [
      "GPU available: True (cuda), used: True\n",
      "TPU available: False, using: 0 TPU cores\n",
      "IPU available: False, using: 0 IPUs\n",
      "HPU available: False, using: 0 HPUs\n",
      "LOCAL_RANK: 0 - CUDA_VISIBLE_DEVICES: [0]\n",
      "\n",
      "  | Name             | Type                   | Params\n",
      "------------------------------------------------------------\n",
      "0 | model            | GenericNetwork         | 129 M \n",
      "1 | loss_fn          | CrossEntropyLoss       | 0     \n",
      "2 | accuracy         | BinaryAccuracy         | 0     \n",
      "3 | f1_score         | BinaryF1Score          | 0     \n",
      "4 | mcc              | BinaryMatthewsCorrCoef | 0     \n",
      "5 | conf_matrix      | BinaryConfusionMatrix  | 0     \n",
      "6 | conf_matrix_pred | BinaryConfusionMatrix  | 0     \n",
      "------------------------------------------------------------\n",
      "129 M     Trainable params\n",
      "0         Non-trainable params\n",
      "129 M     Total params\n",
      "519.210   Total estimated model params size (MB)\n"
     ]
    },
    {
     "name": "stdout",
     "output_type": "stream",
     "text": [
      "Sanity Checking: |          | 0/? [00:00<?, ?it/s]"
     ]
    },
    {
     "name": "stderr",
     "output_type": "stream",
     "text": [
      "c:\\Users\\andre\\anaconda3\\envs\\deeplearning\\Lib\\site-packages\\pytorch_lightning\\trainer\\connectors\\data_connector.py:436: Consider setting `persistent_workers=True` in 'val_dataloader' to speed up the dataloader worker initialization.\n"
     ]
    },
    {
     "name": "stdout",
     "output_type": "stream",
     "text": [
      "                                                                           \r"
     ]
    },
    {
     "name": "stderr",
     "output_type": "stream",
     "text": [
      "c:\\Users\\andre\\anaconda3\\envs\\deeplearning\\Lib\\site-packages\\pytorch_lightning\\trainer\\connectors\\data_connector.py:436: Consider setting `persistent_workers=True` in 'train_dataloader' to speed up the dataloader worker initialization.\n"
     ]
    },
    {
     "name": "stdout",
     "output_type": "stream",
     "text": [
      "Epoch 22: 100%|██████████| 105/105 [00:16<00:00,  6.51it/s, v_num=23, train_loss=0.306, train_accuracy=0.806, train_f1_score=0.775, train_mcc=0.658]\n"
     ]
    },
    {
     "name": "stderr",
     "output_type": "stream",
     "text": [
      "LOCAL_RANK: 0 - CUDA_VISIBLE_DEVICES: [0]\n"
     ]
    },
    {
     "name": "stdout",
     "output_type": "stream",
     "text": [
      "Validation DataLoader 0: 100%|██████████| 105/105 [00:04<00:00, 21.62it/s]\n",
      "────────────────────────────────────────────────────────────────────────────────────────────────────────────────────────\n",
      "     Validate metric           DataLoader 0\n",
      "────────────────────────────────────────────────────────────────────────────────────────────────────────────────────────\n",
      "        val_loss            0.19819945096969604\n",
      "────────────────────────────────────────────────────────────────────────────────────────────────────────────────────────\n"
     ]
    },
    {
     "name": "stderr",
     "output_type": "stream",
     "text": [
      "LOCAL_RANK: 0 - CUDA_VISIBLE_DEVICES: [0]\n",
      "c:\\Users\\andre\\anaconda3\\envs\\deeplearning\\Lib\\site-packages\\pytorch_lightning\\trainer\\connectors\\data_connector.py:436: Consider setting `persistent_workers=True` in 'test_dataloader' to speed up the dataloader worker initialization.\n"
     ]
    },
    {
     "name": "stdout",
     "output_type": "stream",
     "text": [
      "Testing DataLoader 0: 100%|██████████| 13/13 [00:00<00:00, 16.78it/s]\n",
      "────────────────────────────────────────────────────────────────────────────────────────────────────────────────────────\n",
      "       Test metric             DataLoader 0\n",
      "────────────────────────────────────────────────────────────────────────────────────────────────────────────────────────\n",
      "      test_accuracy         0.8945385813713074\n",
      "      test_f1_score        0.024656103923916817\n",
      "        test_loss           0.4977527856826782\n",
      "        test_mcc            0.5840666890144348\n",
      "────────────────────────────────────────────────────────────────────────────────────────────────────────────────────────\n"
     ]
    },
    {
     "name": "stderr",
     "output_type": "stream",
     "text": [
      "Seed set to 7\n",
      "GPU available: True (cuda), used: True\n",
      "TPU available: False, using: 0 TPU cores\n",
      "IPU available: False, using: 0 IPUs\n",
      "HPU available: False, using: 0 HPUs\n",
      "LOCAL_RANK: 0 - CUDA_VISIBLE_DEVICES: [0]\n",
      "\n",
      "  | Name             | Type                   | Params\n",
      "------------------------------------------------------------\n",
      "0 | model            | GenericNetwork         | 35.4 M\n",
      "1 | loss_fn          | CrossEntropyLoss       | 0     \n",
      "2 | accuracy         | BinaryAccuracy         | 0     \n",
      "3 | f1_score         | BinaryF1Score          | 0     \n",
      "4 | mcc              | BinaryMatthewsCorrCoef | 0     \n",
      "5 | conf_matrix      | BinaryConfusionMatrix  | 0     \n",
      "6 | conf_matrix_pred | BinaryConfusionMatrix  | 0     \n",
      "------------------------------------------------------------\n",
      "35.4 M    Trainable params\n",
      "0         Non-trainable params\n",
      "35.4 M    Total params\n",
      "141.723   Total estimated model params size (MB)\n"
     ]
    },
    {
     "name": "stdout",
     "output_type": "stream",
     "text": [
      "Training time: 374.72835874557495\n",
      "Accuracy: 0.8945385813713074\n",
      "F1 score: 0.024656103923916817\n",
      "MCC: 0.5840666890144348\n",
      "Fitness: 0.5010871247698864\n",
      "********\n",
      "position: [3.9120685437784988, 3.895654974118699, 3.1131027354536176, 1.0848719951589216, 1.6709977562588991, -1.3201500546573834, 43.19301529073392]\n",
      "fitness: 0.5010871247698864 \n",
      "\n",
      "\n",
      "\n",
      "***\n",
      "\n",
      "[{'layer_type': 'DenseNetBlock', 'out_channels_coefficient': 2, 'activation': 'GELU', 'num_blocks': 1}, {'layer_type': 'AvgPool'}, {'layer_type': 'ConvSE', 'out_channels_coefficient': 2, 'kernel_size': 4, 'stride': 1, 'padding': 0, 'activation': 'ReLU', 'num_blocks': 1}, {'layer_type': 'AvgPool'}, {'layer_type': 'ClassificationHead'}]\n",
      "***\n",
      "\n",
      "\n",
      "Sanity Checking: |          | 0/? [00:00<?, ?it/s]"
     ]
    },
    {
     "name": "stderr",
     "output_type": "stream",
     "text": [
      "c:\\Users\\andre\\anaconda3\\envs\\deeplearning\\Lib\\site-packages\\pytorch_lightning\\trainer\\connectors\\data_connector.py:436: Consider setting `persistent_workers=True` in 'val_dataloader' to speed up the dataloader worker initialization.\n"
     ]
    },
    {
     "name": "stdout",
     "output_type": "stream",
     "text": [
      "                                                                           \r"
     ]
    },
    {
     "name": "stderr",
     "output_type": "stream",
     "text": [
      "c:\\Users\\andre\\anaconda3\\envs\\deeplearning\\Lib\\site-packages\\pytorch_lightning\\trainer\\connectors\\data_connector.py:436: Consider setting `persistent_workers=True` in 'train_dataloader' to speed up the dataloader worker initialization.\n"
     ]
    },
    {
     "name": "stdout",
     "output_type": "stream",
     "text": [
      "Epoch 10: 100%|██████████| 77/77 [00:09<00:00,  8.21it/s, v_num=24, train_loss=0.0464, train_accuracy=0.987, train_f1_score=0.987, train_mcc=0.974]\n"
     ]
    },
    {
     "name": "stderr",
     "output_type": "stream",
     "text": [
      "LOCAL_RANK: 0 - CUDA_VISIBLE_DEVICES: [0]\n"
     ]
    },
    {
     "name": "stdout",
     "output_type": "stream",
     "text": [
      "Validation DataLoader 0: 100%|██████████| 77/77 [00:04<00:00, 18.51it/s]\n",
      "────────────────────────────────────────────────────────────────────────────────────────────────────────────────────────\n",
      "     Validate metric           DataLoader 0\n",
      "────────────────────────────────────────────────────────────────────────────────────────────────────────────────────────\n",
      "        val_loss           0.019533665850758553\n",
      "────────────────────────────────────────────────────────────────────────────────────────────────────────────────────────\n"
     ]
    },
    {
     "name": "stderr",
     "output_type": "stream",
     "text": [
      "LOCAL_RANK: 0 - CUDA_VISIBLE_DEVICES: [0]\n",
      "c:\\Users\\andre\\anaconda3\\envs\\deeplearning\\Lib\\site-packages\\pytorch_lightning\\trainer\\connectors\\data_connector.py:436: Consider setting `persistent_workers=True` in 'test_dataloader' to speed up the dataloader worker initialization.\n"
     ]
    },
    {
     "name": "stdout",
     "output_type": "stream",
     "text": [
      "Testing DataLoader 0: 100%|██████████| 9/9 [00:00<00:00, 13.10it/s]\n",
      "────────────────────────────────────────────────────────────────────────────────────────────────────────────────────────\n",
      "       Test metric             DataLoader 0\n",
      "────────────────────────────────────────────────────────────────────────────────────────────────────────────────────────\n",
      "      test_accuracy         0.8983050584793091\n",
      "      test_f1_score         0.00634920597076416\n",
      "        test_loss           0.3800422251224518\n",
      "        test_mcc             0.599600076675415\n",
      "────────────────────────────────────────────────────────────────────────────────────────────────────────────────────────\n"
     ]
    },
    {
     "name": "stderr",
     "output_type": "stream",
     "text": [
      "Seed set to 7\n"
     ]
    },
    {
     "name": "stdout",
     "output_type": "stream",
     "text": [
      "Training time: 107.59668612480164\n",
      "Accuracy: 0.8983050584793091\n",
      "F1 score: 0.00634920597076416\n",
      "MCC: 0.599600076675415\n",
      "Fitness: 0.5014181137084961\n",
      "********\n",
      "position: [2.4720961794748693, 2.206332068461432, 3.792116485221362, 1.1549722708024102, 0.13303019135917982, -2.992044927574626, 58.831167714526295]\n",
      "fitness: 0.5014181137084961 \n",
      "\n",
      "Text file saved: ./logs/GWO_logs\\iteration_0.txt\n",
      "Iter = 1 best fitness = 0.501\n",
      "\n",
      "\n",
      "***\n",
      "\n",
      "[{'layer_type': 'DenseNetBlock', 'out_channels_coefficient': 3, 'activation': 'GELU', 'num_blocks': 1}, {'layer_type': 'AvgPool'}, {'layer_type': 'ConvSE', 'out_channels_coefficient': 3, 'kernel_size': 3, 'stride': 1, 'padding': 1, 'activation': 'ReLU', 'num_blocks': 1}, {'layer_type': 'AvgPool'}, {'layer_type': 'ClassificationHead'}]\n",
      "***\n",
      "\n",
      "\n"
     ]
    },
    {
     "name": "stderr",
     "output_type": "stream",
     "text": [
      "GPU available: True (cuda), used: True\n",
      "TPU available: False, using: 0 TPU cores\n",
      "IPU available: False, using: 0 IPUs\n",
      "HPU available: False, using: 0 HPUs\n",
      "LOCAL_RANK: 0 - CUDA_VISIBLE_DEVICES: [0]\n",
      "\n",
      "  | Name             | Type                   | Params\n",
      "------------------------------------------------------------\n",
      "0 | model            | GenericNetwork         | 75.5 M\n",
      "1 | loss_fn          | CrossEntropyLoss       | 0     \n",
      "2 | accuracy         | BinaryAccuracy         | 0     \n",
      "3 | f1_score         | BinaryF1Score          | 0     \n",
      "4 | mcc              | BinaryMatthewsCorrCoef | 0     \n",
      "5 | conf_matrix      | BinaryConfusionMatrix  | 0     \n",
      "6 | conf_matrix_pred | BinaryConfusionMatrix  | 0     \n",
      "------------------------------------------------------------\n",
      "75.5 M    Trainable params\n",
      "0         Non-trainable params\n",
      "75.5 M    Total params\n",
      "302.014   Total estimated model params size (MB)\n"
     ]
    },
    {
     "name": "stdout",
     "output_type": "stream",
     "text": [
      "Sanity Checking: |          | 0/? [00:00<?, ?it/s]"
     ]
    },
    {
     "name": "stderr",
     "output_type": "stream",
     "text": [
      "c:\\Users\\andre\\anaconda3\\envs\\deeplearning\\Lib\\site-packages\\pytorch_lightning\\trainer\\connectors\\data_connector.py:436: Consider setting `persistent_workers=True` in 'val_dataloader' to speed up the dataloader worker initialization.\n"
     ]
    },
    {
     "name": "stdout",
     "output_type": "stream",
     "text": [
      "                                                                           \r"
     ]
    },
    {
     "name": "stderr",
     "output_type": "stream",
     "text": [
      "c:\\Users\\andre\\anaconda3\\envs\\deeplearning\\Lib\\site-packages\\pytorch_lightning\\trainer\\connectors\\data_connector.py:436: Consider setting `persistent_workers=True` in 'train_dataloader' to speed up the dataloader worker initialization.\n"
     ]
    },
    {
     "name": "stdout",
     "output_type": "stream",
     "text": [
      "Epoch 6: 100%|██████████| 105/105 [00:12<00:00,  8.52it/s, v_num=25, train_loss=0.0832, train_accuracy=0.974, train_f1_score=0.974, train_mcc=0.948]\n"
     ]
    },
    {
     "name": "stderr",
     "output_type": "stream",
     "text": [
      "LOCAL_RANK: 0 - CUDA_VISIBLE_DEVICES: [0]\n"
     ]
    },
    {
     "name": "stdout",
     "output_type": "stream",
     "text": [
      "Validation DataLoader 0: 100%|██████████| 105/105 [00:04<00:00, 25.43it/s]\n",
      "────────────────────────────────────────────────────────────────────────────────────────────────────────────────────────\n",
      "     Validate metric           DataLoader 0\n",
      "────────────────────────────────────────────────────────────────────────────────────────────────────────────────────────\n",
      "        val_loss            0.02046051248908043\n",
      "────────────────────────────────────────────────────────────────────────────────────────────────────────────────────────\n"
     ]
    },
    {
     "name": "stderr",
     "output_type": "stream",
     "text": [
      "LOCAL_RANK: 0 - CUDA_VISIBLE_DEVICES: [0]\n",
      "c:\\Users\\andre\\anaconda3\\envs\\deeplearning\\Lib\\site-packages\\pytorch_lightning\\trainer\\connectors\\data_connector.py:436: Consider setting `persistent_workers=True` in 'test_dataloader' to speed up the dataloader worker initialization.\n"
     ]
    },
    {
     "name": "stdout",
     "output_type": "stream",
     "text": [
      "Testing DataLoader 0: 100%|██████████| 13/13 [00:00<00:00, 18.14it/s]\n",
      "────────────────────────────────────────────────────────────────────────────────────────────────────────────────────────\n",
      "       Test metric             DataLoader 0\n",
      "────────────────────────────────────────────────────────────────────────────────────────────────────────────────────────\n",
      "      test_accuracy         0.9077212810516357\n",
      "      test_f1_score        0.0035310734529048204\n",
      "        test_loss            0.357107549905777\n",
      "        test_mcc            0.6863729357719421\n",
      "────────────────────────────────────────────────────────────────────────────────────────────────────────────────────────\n"
     ]
    },
    {
     "name": "stderr",
     "output_type": "stream",
     "text": [
      "Seed set to 7\n"
     ]
    },
    {
     "name": "stdout",
     "output_type": "stream",
     "text": [
      "Training time: 90.29453015327454\n",
      "Accuracy: 0.9077212810516357\n",
      "F1 score: 0.0035310734529048204\n",
      "MCC: 0.6863729357719421\n",
      "Fitness: 0.5325417634254942\n",
      "********\n",
      "This wolf found the scent!\n",
      "\n",
      "\n",
      "***\n",
      "\n",
      "[{'layer_type': 'DenseNetBlock', 'out_channels_coefficient': 4, 'activation': 'GELU', 'num_blocks': 1}, {'layer_type': 'AvgPool'}, {'layer_type': 'ConvSE', 'out_channels_coefficient': 4, 'kernel_size': 4, 'stride': 1, 'padding': 1, 'activation': 'ReLU', 'num_blocks': 1}, {'layer_type': 'AvgPool'}, {'layer_type': 'ClassificationHead'}]\n",
      "***\n",
      "\n",
      "\n"
     ]
    },
    {
     "name": "stderr",
     "output_type": "stream",
     "text": [
      "GPU available: True (cuda), used: True\n",
      "TPU available: False, using: 0 TPU cores\n",
      "IPU available: False, using: 0 IPUs\n",
      "HPU available: False, using: 0 HPUs\n",
      "LOCAL_RANK: 0 - CUDA_VISIBLE_DEVICES: [0]\n",
      "\n",
      "  | Name             | Type                   | Params\n",
      "------------------------------------------------------------\n",
      "0 | model            | GenericNetwork         | 121 M \n",
      "1 | loss_fn          | CrossEntropyLoss       | 0     \n",
      "2 | accuracy         | BinaryAccuracy         | 0     \n",
      "3 | f1_score         | BinaryF1Score          | 0     \n",
      "4 | mcc              | BinaryMatthewsCorrCoef | 0     \n",
      "5 | conf_matrix      | BinaryConfusionMatrix  | 0     \n",
      "6 | conf_matrix_pred | BinaryConfusionMatrix  | 0     \n",
      "------------------------------------------------------------\n",
      "121 M     Trainable params\n",
      "0         Non-trainable params\n",
      "121 M     Total params\n",
      "487.778   Total estimated model params size (MB)\n"
     ]
    },
    {
     "name": "stdout",
     "output_type": "stream",
     "text": [
      "Sanity Checking: |          | 0/? [00:00<?, ?it/s]"
     ]
    },
    {
     "name": "stderr",
     "output_type": "stream",
     "text": [
      "c:\\Users\\andre\\anaconda3\\envs\\deeplearning\\Lib\\site-packages\\pytorch_lightning\\trainer\\connectors\\data_connector.py:436: Consider setting `persistent_workers=True` in 'val_dataloader' to speed up the dataloader worker initialization.\n"
     ]
    },
    {
     "name": "stdout",
     "output_type": "stream",
     "text": [
      "                                                                           \r"
     ]
    },
    {
     "name": "stderr",
     "output_type": "stream",
     "text": [
      "c:\\Users\\andre\\anaconda3\\envs\\deeplearning\\Lib\\site-packages\\pytorch_lightning\\trainer\\connectors\\data_connector.py:436: Consider setting `persistent_workers=True` in 'train_dataloader' to speed up the dataloader worker initialization.\n"
     ]
    },
    {
     "name": "stdout",
     "output_type": "stream",
     "text": [
      "Epoch 9: 100%|██████████| 92/92 [00:15<00:00,  5.90it/s, v_num=26, train_loss=0.148, train_accuracy=0.933, train_f1_score=0.934, train_mcc=0.867]\n"
     ]
    },
    {
     "name": "stderr",
     "output_type": "stream",
     "text": [
      "LOCAL_RANK: 0 - CUDA_VISIBLE_DEVICES: [0]\n"
     ]
    },
    {
     "name": "stdout",
     "output_type": "stream",
     "text": [
      "Validation DataLoader 0: 100%|██████████| 92/92 [00:04<00:00, 18.66it/s]\n",
      "────────────────────────────────────────────────────────────────────────────────────────────────────────────────────────\n",
      "     Validate metric           DataLoader 0\n",
      "────────────────────────────────────────────────────────────────────────────────────────────────────────────────────────\n",
      "        val_loss            0.04594529792666435\n",
      "────────────────────────────────────────────────────────────────────────────────────────────────────────────────────────\n"
     ]
    },
    {
     "name": "stderr",
     "output_type": "stream",
     "text": [
      "LOCAL_RANK: 0 - CUDA_VISIBLE_DEVICES: [0]\n",
      "c:\\Users\\andre\\anaconda3\\envs\\deeplearning\\Lib\\site-packages\\pytorch_lightning\\trainer\\connectors\\data_connector.py:436: Consider setting `persistent_workers=True` in 'test_dataloader' to speed up the dataloader worker initialization.\n"
     ]
    },
    {
     "name": "stdout",
     "output_type": "stream",
     "text": [
      "Testing DataLoader 0: 100%|██████████| 11/11 [00:00<00:00, 15.26it/s]\n",
      "────────────────────────────────────────────────────────────────────────────────────────────────────────────────────────\n",
      "       Test metric             DataLoader 0\n",
      "────────────────────────────────────────────────────────────────────────────────────────────────────────────────────────\n",
      "      test_accuracy         0.8983050584793091\n",
      "      test_f1_score        0.004289600532501936\n",
      "        test_loss            0.375470370054245\n",
      "        test_mcc            0.6637763977050781\n",
      "────────────────────────────────────────────────────────────────────────────────────────────────────────────────────────\n"
     ]
    },
    {
     "name": "stderr",
     "output_type": "stream",
     "text": [
      "Seed set to 7\n"
     ]
    },
    {
     "name": "stdout",
     "output_type": "stream",
     "text": [
      "Training time: 159.6502869129181\n",
      "Accuracy: 0.8983050584793091\n",
      "F1 score: 0.004289600532501936\n",
      "MCC: 0.6637763977050781\n",
      "Fitness: 0.5221236855722964\n",
      "********\n",
      "This wolf found the scent!\n",
      "\n",
      "\n",
      "***\n",
      "\n",
      "[{'layer_type': 'DenseNetBlock', 'out_channels_coefficient': 3, 'activation': 'GELU', 'num_blocks': 1}, {'layer_type': 'AvgPool'}, {'layer_type': 'ConvSE', 'out_channels_coefficient': 3, 'kernel_size': 3, 'stride': 1, 'padding': 1, 'activation': 'ReLU', 'num_blocks': 1}, {'layer_type': 'AvgPool'}, {'layer_type': 'ClassificationHead'}]\n",
      "***\n",
      "\n",
      "\n"
     ]
    },
    {
     "name": "stderr",
     "output_type": "stream",
     "text": [
      "GPU available: True (cuda), used: True\n",
      "TPU available: False, using: 0 TPU cores\n",
      "IPU available: False, using: 0 IPUs\n",
      "HPU available: False, using: 0 HPUs\n",
      "LOCAL_RANK: 0 - CUDA_VISIBLE_DEVICES: [0]\n",
      "\n",
      "  | Name             | Type                   | Params\n",
      "------------------------------------------------------------\n",
      "0 | model            | GenericNetwork         | 75.5 M\n",
      "1 | loss_fn          | CrossEntropyLoss       | 0     \n",
      "2 | accuracy         | BinaryAccuracy         | 0     \n",
      "3 | f1_score         | BinaryF1Score          | 0     \n",
      "4 | mcc              | BinaryMatthewsCorrCoef | 0     \n",
      "5 | conf_matrix      | BinaryConfusionMatrix  | 0     \n",
      "6 | conf_matrix_pred | BinaryConfusionMatrix  | 0     \n",
      "------------------------------------------------------------\n",
      "75.5 M    Trainable params\n",
      "0         Non-trainable params\n",
      "75.5 M    Total params\n",
      "302.014   Total estimated model params size (MB)\n"
     ]
    },
    {
     "name": "stdout",
     "output_type": "stream",
     "text": [
      "Sanity Checking: |          | 0/? [00:00<?, ?it/s]"
     ]
    },
    {
     "name": "stderr",
     "output_type": "stream",
     "text": [
      "c:\\Users\\andre\\anaconda3\\envs\\deeplearning\\Lib\\site-packages\\pytorch_lightning\\trainer\\connectors\\data_connector.py:436: Consider setting `persistent_workers=True` in 'val_dataloader' to speed up the dataloader worker initialization.\n"
     ]
    },
    {
     "name": "stdout",
     "output_type": "stream",
     "text": [
      "                                                                           \r"
     ]
    },
    {
     "name": "stderr",
     "output_type": "stream",
     "text": [
      "c:\\Users\\andre\\anaconda3\\envs\\deeplearning\\Lib\\site-packages\\pytorch_lightning\\trainer\\connectors\\data_connector.py:436: Consider setting `persistent_workers=True` in 'train_dataloader' to speed up the dataloader worker initialization.\n"
     ]
    },
    {
     "name": "stdout",
     "output_type": "stream",
     "text": [
      "Epoch 9: 100%|██████████| 110/110 [00:12<00:00,  8.74it/s, v_num=27, train_loss=0.0671, train_accuracy=0.978, train_f1_score=0.978, train_mcc=0.956]\n"
     ]
    },
    {
     "name": "stderr",
     "output_type": "stream",
     "text": [
      "LOCAL_RANK: 0 - CUDA_VISIBLE_DEVICES: [0]\n"
     ]
    },
    {
     "name": "stdout",
     "output_type": "stream",
     "text": [
      "Validation DataLoader 0: 100%|██████████| 110/110 [00:06<00:00, 17.43it/s]\n",
      "────────────────────────────────────────────────────────────────────────────────────────────────────────────────────────\n",
      "     Validate metric           DataLoader 0\n",
      "────────────────────────────────────────────────────────────────────────────────────────────────────────────────────────\n",
      "        val_loss           0.028148815035820007\n",
      "────────────────────────────────────────────────────────────────────────────────────────────────────────────────────────\n"
     ]
    },
    {
     "name": "stderr",
     "output_type": "stream",
     "text": [
      "LOCAL_RANK: 0 - CUDA_VISIBLE_DEVICES: [0]\n",
      "c:\\Users\\andre\\anaconda3\\envs\\deeplearning\\Lib\\site-packages\\pytorch_lightning\\trainer\\connectors\\data_connector.py:436: Consider setting `persistent_workers=True` in 'test_dataloader' to speed up the dataloader worker initialization.\n"
     ]
    },
    {
     "name": "stdout",
     "output_type": "stream",
     "text": [
      "Testing DataLoader 0: 100%|██████████| 13/13 [00:00<00:00, 16.36it/s]\n",
      "────────────────────────────────────────────────────────────────────────────────────────────────────────────────────────\n",
      "       Test metric             DataLoader 0\n",
      "────────────────────────────────────────────────────────────────────────────────────────────────────────────────────────\n",
      "      test_accuracy         0.8888888955116272\n",
      "      test_f1_score        0.004196933005005121\n",
      "        test_loss           0.3659764528274536\n",
      "        test_mcc            0.6668022871017456\n",
      "────────────────────────────────────────────────────────────────────────────────────────────────────────────────────────\n"
     ]
    },
    {
     "name": "stderr",
     "output_type": "stream",
     "text": [
      "Seed set to 7\n"
     ]
    },
    {
     "name": "stdout",
     "output_type": "stream",
     "text": [
      "Training time: 128.33336186408997\n",
      "Accuracy: 0.8888888955116272\n",
      "F1 score: 0.004196933005005121\n",
      "MCC: 0.6668022871017456\n",
      "Fitness: 0.519962705206126\n",
      "********\n",
      "This wolf found the scent!\n",
      "Text file saved: ./logs/GWO_logs\\iteration_1.txt\n",
      "Iter = 2 best fitness = 0.533\n",
      "\n",
      "\n",
      "***\n",
      "\n",
      "[{'layer_type': 'DenseNetBlock', 'out_channels_coefficient': 3, 'activation': 'GELU', 'num_blocks': 1}, {'layer_type': 'AvgPool'}, {'layer_type': 'ConvSE', 'out_channels_coefficient': 3, 'kernel_size': 3, 'stride': 1, 'padding': 1, 'activation': 'ReLU', 'num_blocks': 1}, {'layer_type': 'AvgPool'}, {'layer_type': 'ClassificationHead'}]\n",
      "***\n",
      "\n",
      "\n"
     ]
    },
    {
     "name": "stderr",
     "output_type": "stream",
     "text": [
      "GPU available: True (cuda), used: True\n",
      "TPU available: False, using: 0 TPU cores\n",
      "IPU available: False, using: 0 IPUs\n",
      "HPU available: False, using: 0 HPUs\n",
      "LOCAL_RANK: 0 - CUDA_VISIBLE_DEVICES: [0]\n",
      "\n",
      "  | Name             | Type                   | Params\n",
      "------------------------------------------------------------\n",
      "0 | model            | GenericNetwork         | 75.5 M\n",
      "1 | loss_fn          | CrossEntropyLoss       | 0     \n",
      "2 | accuracy         | BinaryAccuracy         | 0     \n",
      "3 | f1_score         | BinaryF1Score          | 0     \n",
      "4 | mcc              | BinaryMatthewsCorrCoef | 0     \n",
      "5 | conf_matrix      | BinaryConfusionMatrix  | 0     \n",
      "6 | conf_matrix_pred | BinaryConfusionMatrix  | 0     \n",
      "------------------------------------------------------------\n",
      "75.5 M    Trainable params\n",
      "0         Non-trainable params\n",
      "75.5 M    Total params\n",
      "302.014   Total estimated model params size (MB)\n"
     ]
    },
    {
     "name": "stdout",
     "output_type": "stream",
     "text": [
      "Sanity Checking: |          | 0/? [00:00<?, ?it/s]"
     ]
    },
    {
     "name": "stderr",
     "output_type": "stream",
     "text": [
      "c:\\Users\\andre\\anaconda3\\envs\\deeplearning\\Lib\\site-packages\\pytorch_lightning\\trainer\\connectors\\data_connector.py:436: Consider setting `persistent_workers=True` in 'val_dataloader' to speed up the dataloader worker initialization.\n"
     ]
    },
    {
     "name": "stdout",
     "output_type": "stream",
     "text": [
      "                                                                           \r"
     ]
    },
    {
     "name": "stderr",
     "output_type": "stream",
     "text": [
      "c:\\Users\\andre\\anaconda3\\envs\\deeplearning\\Lib\\site-packages\\pytorch_lightning\\trainer\\connectors\\data_connector.py:436: Consider setting `persistent_workers=True` in 'train_dataloader' to speed up the dataloader worker initialization.\n"
     ]
    },
    {
     "name": "stdout",
     "output_type": "stream",
     "text": [
      "Epoch 9: 100%|██████████| 103/103 [00:12<00:00,  8.38it/s, v_num=28, train_loss=0.259, train_accuracy=0.873, train_f1_score=0.858, train_mcc=0.758] \n"
     ]
    },
    {
     "name": "stderr",
     "output_type": "stream",
     "text": [
      "LOCAL_RANK: 0 - CUDA_VISIBLE_DEVICES: [0]\n"
     ]
    },
    {
     "name": "stdout",
     "output_type": "stream",
     "text": [
      "Validation DataLoader 0: 100%|██████████| 103/103 [00:06<00:00, 15.56it/s]\n",
      "────────────────────────────────────────────────────────────────────────────────────────────────────────────────────────\n",
      "     Validate metric           DataLoader 0\n",
      "────────────────────────────────────────────────────────────────────────────────────────────────────────────────────────\n",
      "        val_loss            0.3019222915172577\n",
      "────────────────────────────────────────────────────────────────────────────────────────────────────────────────────────\n"
     ]
    },
    {
     "name": "stderr",
     "output_type": "stream",
     "text": [
      "LOCAL_RANK: 0 - CUDA_VISIBLE_DEVICES: [0]\n",
      "c:\\Users\\andre\\anaconda3\\envs\\deeplearning\\Lib\\site-packages\\pytorch_lightning\\trainer\\connectors\\data_connector.py:436: Consider setting `persistent_workers=True` in 'test_dataloader' to speed up the dataloader worker initialization.\n"
     ]
    },
    {
     "name": "stdout",
     "output_type": "stream",
     "text": [
      "Testing DataLoader 0: 100%|██████████| 13/13 [00:00<00:00, 14.54it/s]\n",
      "────────────────────────────────────────────────────────────────────────────────────────────────────────────────────────\n",
      "       Test metric             DataLoader 0\n",
      "────────────────────────────────────────────────────────────────────────────────────────────────────────────────────────\n",
      "      test_accuracy         0.8757061958312988\n",
      "      test_f1_score        0.009748532436788082\n",
      "        test_loss           0.43154120445251465\n",
      "        test_mcc            0.5529931783676147\n",
      "────────────────────────────────────────────────────────────────────────────────────────────────────────────────────────\n"
     ]
    },
    {
     "name": "stderr",
     "output_type": "stream",
     "text": [
      "Seed set to 7\n"
     ]
    },
    {
     "name": "stdout",
     "output_type": "stream",
     "text": [
      "Training time: 128.35647058486938\n",
      "Accuracy: 0.8757061958312988\n",
      "F1 score: 0.009748532436788082\n",
      "MCC: 0.5529931783676147\n",
      "Fitness: 0.4794826355452339\n",
      "********\n",
      "This wolf still searches...\n",
      "\n",
      "\n",
      "***\n",
      "\n",
      "[{'layer_type': 'DenseNetBlock', 'out_channels_coefficient': 3, 'activation': 'GELU', 'num_blocks': 1}, {'layer_type': 'AvgPool'}, {'layer_type': 'ConvSE', 'out_channels_coefficient': 3, 'kernel_size': 3, 'stride': 1, 'padding': 1, 'activation': 'ReLU', 'num_blocks': 1}, {'layer_type': 'AvgPool'}, {'layer_type': 'ClassificationHead'}]\n",
      "***\n",
      "\n",
      "\n"
     ]
    },
    {
     "name": "stderr",
     "output_type": "stream",
     "text": [
      "GPU available: True (cuda), used: True\n",
      "TPU available: False, using: 0 TPU cores\n",
      "IPU available: False, using: 0 IPUs\n",
      "HPU available: False, using: 0 HPUs\n",
      "LOCAL_RANK: 0 - CUDA_VISIBLE_DEVICES: [0]\n",
      "\n",
      "  | Name             | Type                   | Params\n",
      "------------------------------------------------------------\n",
      "0 | model            | GenericNetwork         | 75.5 M\n",
      "1 | loss_fn          | CrossEntropyLoss       | 0     \n",
      "2 | accuracy         | BinaryAccuracy         | 0     \n",
      "3 | f1_score         | BinaryF1Score          | 0     \n",
      "4 | mcc              | BinaryMatthewsCorrCoef | 0     \n",
      "5 | conf_matrix      | BinaryConfusionMatrix  | 0     \n",
      "6 | conf_matrix_pred | BinaryConfusionMatrix  | 0     \n",
      "------------------------------------------------------------\n",
      "75.5 M    Trainable params\n",
      "0         Non-trainable params\n",
      "75.5 M    Total params\n",
      "302.014   Total estimated model params size (MB)\n"
     ]
    },
    {
     "name": "stdout",
     "output_type": "stream",
     "text": [
      "Sanity Checking: |          | 0/? [00:00<?, ?it/s]"
     ]
    },
    {
     "name": "stderr",
     "output_type": "stream",
     "text": [
      "c:\\Users\\andre\\anaconda3\\envs\\deeplearning\\Lib\\site-packages\\pytorch_lightning\\trainer\\connectors\\data_connector.py:436: Consider setting `persistent_workers=True` in 'val_dataloader' to speed up the dataloader worker initialization.\n"
     ]
    },
    {
     "name": "stdout",
     "output_type": "stream",
     "text": [
      "                                                                           \r"
     ]
    },
    {
     "name": "stderr",
     "output_type": "stream",
     "text": [
      "c:\\Users\\andre\\anaconda3\\envs\\deeplearning\\Lib\\site-packages\\pytorch_lightning\\trainer\\connectors\\data_connector.py:436: Consider setting `persistent_workers=True` in 'train_dataloader' to speed up the dataloader worker initialization.\n"
     ]
    },
    {
     "name": "stdout",
     "output_type": "stream",
     "text": [
      "Epoch 7: 100%|██████████| 103/103 [00:12<00:00,  8.51it/s, v_num=29, train_loss=0.068, train_accuracy=0.976, train_f1_score=0.975, train_mcc=0.953] \n"
     ]
    },
    {
     "name": "stderr",
     "output_type": "stream",
     "text": [
      "LOCAL_RANK: 0 - CUDA_VISIBLE_DEVICES: [0]\n"
     ]
    },
    {
     "name": "stdout",
     "output_type": "stream",
     "text": [
      "Validation DataLoader 0: 100%|██████████| 103/103 [00:05<00:00, 17.91it/s]\n",
      "────────────────────────────────────────────────────────────────────────────────────────────────────────────────────────\n",
      "     Validate metric           DataLoader 0\n",
      "────────────────────────────────────────────────────────────────────────────────────────────────────────────────────────\n",
      "        val_loss           0.004188500810414553\n",
      "────────────────────────────────────────────────────────────────────────────────────────────────────────────────────────\n"
     ]
    },
    {
     "name": "stderr",
     "output_type": "stream",
     "text": [
      "LOCAL_RANK: 0 - CUDA_VISIBLE_DEVICES: [0]\n",
      "c:\\Users\\andre\\anaconda3\\envs\\deeplearning\\Lib\\site-packages\\pytorch_lightning\\trainer\\connectors\\data_connector.py:436: Consider setting `persistent_workers=True` in 'test_dataloader' to speed up the dataloader worker initialization.\n"
     ]
    },
    {
     "name": "stdout",
     "output_type": "stream",
     "text": [
      "Testing DataLoader 0: 100%|██████████| 13/13 [00:00<00:00, 15.99it/s]\n",
      "────────────────────────────────────────────────────────────────────────────────────────────────────────────────────────\n",
      "       Test metric             DataLoader 0\n",
      "────────────────────────────────────────────────────────────────────────────────────────────────────────────────────────\n",
      "      test_accuracy         0.9340866208076477\n",
      "      test_f1_score                 0.0\n",
      "        test_loss           0.4114975929260254\n",
      "        test_mcc            0.8917851448059082\n",
      "────────────────────────────────────────────────────────────────────────────────────────────────────────────────────────\n"
     ]
    },
    {
     "name": "stderr",
     "output_type": "stream",
     "text": [
      "c:\\Users\\andre\\anaconda3\\envs\\deeplearning\\Lib\\site-packages\\torchmetrics\\utilities\\plot.py:245: RuntimeWarning: More than 20 figures have been opened. Figures created through the pyplot interface (`matplotlib.pyplot.figure`) are retained until explicitly closed and may consume too much memory. (To control this warning, see the rcParam `figure.max_open_warning`). Consider using `matplotlib.pyplot.close()`.\n",
      "  fig, axs = plt.subplots(nrows=rows, ncols=cols) if ax is None else (ax.get_figure(), ax)\n",
      "Seed set to 7\n"
     ]
    },
    {
     "name": "stdout",
     "output_type": "stream",
     "text": [
      "Training time: 101.76286625862122\n",
      "Accuracy: 0.9340866208076477\n",
      "F1 score: 0.0\n",
      "MCC: 0.8917851448059082\n",
      "Fitness: 0.6086239218711853\n",
      "********\n",
      "This wolf found the scent!\n",
      "\n",
      "\n",
      "***\n",
      "\n",
      "[{'layer_type': 'DenseNetBlock', 'out_channels_coefficient': 3, 'activation': 'GELU', 'num_blocks': 1}, {'layer_type': 'AvgPool'}, {'layer_type': 'ConvSE', 'out_channels_coefficient': 3, 'kernel_size': 3, 'stride': 1, 'padding': 1, 'activation': 'ReLU', 'num_blocks': 1}, {'layer_type': 'AvgPool'}, {'layer_type': 'ClassificationHead'}]\n",
      "***\n",
      "\n",
      "\n"
     ]
    },
    {
     "name": "stderr",
     "output_type": "stream",
     "text": [
      "GPU available: True (cuda), used: True\n",
      "TPU available: False, using: 0 TPU cores\n",
      "IPU available: False, using: 0 IPUs\n",
      "HPU available: False, using: 0 HPUs\n",
      "LOCAL_RANK: 0 - CUDA_VISIBLE_DEVICES: [0]\n",
      "\n",
      "  | Name             | Type                   | Params\n",
      "------------------------------------------------------------\n",
      "0 | model            | GenericNetwork         | 75.5 M\n",
      "1 | loss_fn          | CrossEntropyLoss       | 0     \n",
      "2 | accuracy         | BinaryAccuracy         | 0     \n",
      "3 | f1_score         | BinaryF1Score          | 0     \n",
      "4 | mcc              | BinaryMatthewsCorrCoef | 0     \n",
      "5 | conf_matrix      | BinaryConfusionMatrix  | 0     \n",
      "6 | conf_matrix_pred | BinaryConfusionMatrix  | 0     \n",
      "------------------------------------------------------------\n",
      "75.5 M    Trainable params\n",
      "0         Non-trainable params\n",
      "75.5 M    Total params\n",
      "302.014   Total estimated model params size (MB)\n"
     ]
    },
    {
     "name": "stdout",
     "output_type": "stream",
     "text": [
      "Sanity Checking: |          | 0/? [00:00<?, ?it/s]"
     ]
    },
    {
     "name": "stderr",
     "output_type": "stream",
     "text": [
      "c:\\Users\\andre\\anaconda3\\envs\\deeplearning\\Lib\\site-packages\\pytorch_lightning\\trainer\\connectors\\data_connector.py:436: Consider setting `persistent_workers=True` in 'val_dataloader' to speed up the dataloader worker initialization.\n"
     ]
    },
    {
     "name": "stdout",
     "output_type": "stream",
     "text": [
      "                                                                           \r"
     ]
    },
    {
     "name": "stderr",
     "output_type": "stream",
     "text": [
      "c:\\Users\\andre\\anaconda3\\envs\\deeplearning\\Lib\\site-packages\\pytorch_lightning\\trainer\\connectors\\data_connector.py:436: Consider setting `persistent_workers=True` in 'train_dataloader' to speed up the dataloader worker initialization.\n"
     ]
    },
    {
     "name": "stdout",
     "output_type": "stream",
     "text": [
      "Epoch 7: 100%|██████████| 105/105 [00:12<00:00,  8.44it/s, v_num=30, train_loss=0.0685, train_accuracy=0.978, train_f1_score=0.976, train_mcc=0.956]\n"
     ]
    },
    {
     "name": "stderr",
     "output_type": "stream",
     "text": [
      "LOCAL_RANK: 0 - CUDA_VISIBLE_DEVICES: [0]\n"
     ]
    },
    {
     "name": "stdout",
     "output_type": "stream",
     "text": [
      "Validation DataLoader 0: 100%|██████████| 105/105 [00:06<00:00, 16.57it/s]\n",
      "────────────────────────────────────────────────────────────────────────────────────────────────────────────────────────\n",
      "     Validate metric           DataLoader 0\n",
      "────────────────────────────────────────────────────────────────────────────────────────────────────────────────────────\n",
      "        val_loss           0.036051660776138306\n",
      "────────────────────────────────────────────────────────────────────────────────────────────────────────────────────────\n"
     ]
    },
    {
     "name": "stderr",
     "output_type": "stream",
     "text": [
      "LOCAL_RANK: 0 - CUDA_VISIBLE_DEVICES: [0]\n",
      "c:\\Users\\andre\\anaconda3\\envs\\deeplearning\\Lib\\site-packages\\pytorch_lightning\\trainer\\connectors\\data_connector.py:436: Consider setting `persistent_workers=True` in 'test_dataloader' to speed up the dataloader worker initialization.\n"
     ]
    },
    {
     "name": "stdout",
     "output_type": "stream",
     "text": [
      "Testing DataLoader 0: 100%|██████████| 13/13 [00:00<00:00, 15.48it/s]\n",
      "────────────────────────────────────────────────────────────────────────────────────────────────────────────────────────\n",
      "       Test metric             DataLoader 0\n",
      "────────────────────────────────────────────────────────────────────────────────────────────────────────────────────────\n",
      "      test_accuracy          0.903954803943634\n",
      "      test_f1_score        0.0035310734529048204\n",
      "        test_loss           0.31239768862724304\n",
      "        test_mcc            0.6517924070358276\n",
      "────────────────────────────────────────────────────────────────────────────────────────────────────────────────────────\n"
     ]
    },
    {
     "name": "stderr",
     "output_type": "stream",
     "text": [
      "Seed set to 7\n"
     ]
    },
    {
     "name": "stdout",
     "output_type": "stream",
     "text": [
      "Training time: 103.64914011955261\n",
      "Accuracy: 0.903954803943634\n",
      "F1 score: 0.0035310734529048204\n",
      "MCC: 0.6517924070358276\n",
      "Fitness: 0.5197594281441221\n",
      "********\n",
      "This wolf still searches...\n",
      "Text file saved: ./logs/GWO_logs\\iteration_2.txt\n",
      "\n",
      "RUN COMPLETED! The best fit is: {'position': [3.195116896734707, 3.045349993997758, 3.2614412193060214, 1.0933410756683077, 0.8803987768792679, -2.9747662491900626, 44.2544063369585], 'fitness': 0.6086239218711853, 'parsed_layers': [{'layer_type': 'DenseNetBlock', 'out_channels_coefficient': 3, 'activation': 'GELU', 'num_blocks': 1}, {'layer_type': 'AvgPool'}, {'layer_type': 'ConvSE', 'out_channels_coefficient': 3, 'kernel_size': 3, 'stride': 1, 'padding': 1, 'activation': 'ReLU', 'num_blocks': 1}, {'layer_type': 'AvgPool'}, {'layer_type': 'ClassificationHead'}], 'log_learning_rate': -2.9747662491900626, 'batch_size': 44.2544063369585}\n",
      "DenseNetBlock_0_out_channels_coefficient: 3\n",
      "ConvSE_2_out_channels_coefficient: 3\n",
      "ConvSE_2_kernel_size: 3\n",
      "ConvSE_2_stride: 1\n",
      "ConvSE_2_padding: 1\n",
      "log_learning_rate: -3\n",
      "batch_size: 44\n",
      "Final text file saved: ./logs/GWO_logs\\Ldo2agn1EPaELeo3k4s1p2arn1EPaEHCEE_iteration_optim_1_iteration_2.txt\n",
      "HT completed. Final best architecture starting from Ldo2agn1EPaELeo3k4s1p2arn1EPaEHCEE is Ldo3agn1EPaELeo3k3s1p1arn1EPaEHCEE.\n",
      "Process finished in 5345.810121536255 s. Starting final run...\n",
      "\n",
      "\n",
      "***\n",
      "\n",
      "[{'layer_type': 'DenseNetBlock', 'out_channels_coefficient': 3, 'activation': 'GELU', 'num_blocks': 1}, {'layer_type': 'AvgPool'}, {'layer_type': 'ConvSE', 'out_channels_coefficient': 3, 'kernel_size': 3, 'stride': 1, 'padding': 1, 'activation': 'ReLU', 'num_blocks': 1}, {'layer_type': 'AvgPool'}, {'layer_type': 'ClassificationHead'}]\n",
      "***\n",
      "\n",
      "\n"
     ]
    },
    {
     "name": "stderr",
     "output_type": "stream",
     "text": [
      "GPU available: True (cuda), used: True\n",
      "TPU available: False, using: 0 TPU cores\n",
      "IPU available: False, using: 0 IPUs\n",
      "HPU available: False, using: 0 HPUs\n",
      "LOCAL_RANK: 0 - CUDA_VISIBLE_DEVICES: [0]\n",
      "\n",
      "  | Name             | Type                   | Params\n",
      "------------------------------------------------------------\n",
      "0 | model            | GenericNetwork         | 75.5 M\n",
      "1 | loss_fn          | CrossEntropyLoss       | 0     \n",
      "2 | accuracy         | BinaryAccuracy         | 0     \n",
      "3 | f1_score         | BinaryF1Score          | 0     \n",
      "4 | mcc              | BinaryMatthewsCorrCoef | 0     \n",
      "5 | conf_matrix      | BinaryConfusionMatrix  | 0     \n",
      "6 | conf_matrix_pred | BinaryConfusionMatrix  | 0     \n",
      "------------------------------------------------------------\n",
      "75.5 M    Trainable params\n",
      "0         Non-trainable params\n",
      "75.5 M    Total params\n",
      "302.014   Total estimated model params size (MB)\n"
     ]
    },
    {
     "name": "stdout",
     "output_type": "stream",
     "text": [
      "Sanity Checking: |          | 0/? [00:00<?, ?it/s]"
     ]
    },
    {
     "name": "stderr",
     "output_type": "stream",
     "text": [
      "c:\\Users\\andre\\anaconda3\\envs\\deeplearning\\Lib\\site-packages\\pytorch_lightning\\trainer\\connectors\\data_connector.py:436: Consider setting `persistent_workers=True` in 'val_dataloader' to speed up the dataloader worker initialization.\n"
     ]
    },
    {
     "name": "stdout",
     "output_type": "stream",
     "text": [
      "                                                                           \r"
     ]
    },
    {
     "name": "stderr",
     "output_type": "stream",
     "text": [
      "c:\\Users\\andre\\anaconda3\\envs\\deeplearning\\Lib\\site-packages\\pytorch_lightning\\trainer\\connectors\\data_connector.py:436: Consider setting `persistent_workers=True` in 'train_dataloader' to speed up the dataloader worker initialization.\n"
     ]
    },
    {
     "name": "stdout",
     "output_type": "stream",
     "text": [
      "Epoch 3: 100%|██████████| 1126/1126 [00:43<00:00, 25.62it/s, v_num=31, train_loss=0.664, train_accuracy=0.552, train_f1_score=0.489, train_mcc=0.129]\n"
     ]
    },
    {
     "name": "stderr",
     "output_type": "stream",
     "text": [
      "LOCAL_RANK: 0 - CUDA_VISIBLE_DEVICES: [0]\n"
     ]
    },
    {
     "name": "stdout",
     "output_type": "stream",
     "text": [
      "Validation DataLoader 0: 100%|██████████| 1126/1126 [00:08<00:00, 131.35it/s]\n",
      "────────────────────────────────────────────────────────────────────────────────────────────────────────────────────────\n",
      "     Validate metric           DataLoader 0\n",
      "────────────────────────────────────────────────────────────────────────────────────────────────────────────────────────\n",
      "        val_loss            0.6214942932128906\n",
      "────────────────────────────────────────────────────────────────────────────────────────────────────────────────────────\n"
     ]
    },
    {
     "name": "stderr",
     "output_type": "stream",
     "text": [
      "LOCAL_RANK: 0 - CUDA_VISIBLE_DEVICES: [0]\n",
      "c:\\Users\\andre\\anaconda3\\envs\\deeplearning\\Lib\\site-packages\\pytorch_lightning\\trainer\\connectors\\data_connector.py:436: Consider setting `persistent_workers=True` in 'test_dataloader' to speed up the dataloader worker initialization.\n"
     ]
    },
    {
     "name": "stdout",
     "output_type": "stream",
     "text": [
      "Testing DataLoader 0: 100%|██████████| 133/133 [00:01<00:00, 95.20it/s]\n",
      "────────────────────────────────────────────────────────────────────────────────────────────────────────────────────────\n",
      "       Test metric             DataLoader 0\n",
      "────────────────────────────────────────────────────────────────────────────────────────────────────────────────────────\n",
      "      test_accuracy         0.9171375036239624\n",
      "      test_f1_score        0.0028248587623238564\n",
      "        test_loss            0.650133490562439\n",
      "        test_mcc            0.8361824154853821\n",
      "────────────────────────────────────────────────────────────────────────────────────────────────────────────────────────\n",
      "Training time: 178.78181648254395\n",
      "Accuracy: 0.9171375036239624\n",
      "F1 score: 0.0028248587623238564\n",
      "MCC: 0.8361824154853821\n",
      "Fitness: 0.5853815926238894\n",
      "********\n"
     ]
    },
    {
     "data": {
      "image/png": "[encoded data removed]",
      "text/plain": [
       "<Figure size 640x480 with 1 Axes>"
      ]
     },
     "metadata": {},
     "output_type": "display_data"
    },
    {
     "data": {
      "image/png": "[encoded data removed]",
      "text/plain": [
       "<Figure size 640x480 with 1 Axes>"
      ]
     },
     "metadata": {},
     "output_type": "display_data"
    },
    {
     "data": {
      "image/png": "[encoded data removed]",
      "text/plain": [
       "<Figure size 640x480 with 1 Axes>"
      ]
     },
     "metadata": {},
     "output_type": "display_data"
    },
    {
     "data": {
      "image/png": "[encoded data removed]",
      "text/plain": [
       "<Figure size 640x480 with 1 Axes>"
      ]
     },
     "metadata": {},
     "output_type": "display_data"
    },
    {
     "data": {
      "image/png": "[encoded data removed]",
      "text/plain": [
       "<Figure size 640x480 with 1 Axes>"
      ]
     },
     "metadata": {},
     "output_type": "display_data"
    },
    {
     "data": {
      "image/png": "[encoded data removed]",
      "text/plain": [
       "<Figure size 640x480 with 1 Axes>"
      ]
     },
     "metadata": {},
     "output_type": "display_data"
    },
    {
     "data": {
      "image/png": "[encoded data removed]",
      "text/plain": [
       "<Figure size 640x480 with 1 Axes>"
      ]
     },
     "metadata": {},
     "output_type": "display_data"
    },
    {
     "data": {
      "image/png": "[encoded data removed]",
      "text/plain": [
       "<Figure size 640x480 with 1 Axes>"
      ]
     },
     "metadata": {},
     "output_type": "display_data"
    },
    {
     "data": {
      "image/png": "[encoded data removed]",
      "text/plain": [
       "<Figure size 640x480 with 1 Axes>"
      ]
     },
     "metadata": {},
     "output_type": "display_data"
    },
    {
     "data": {
      "image/png": "[encoded data removed]",
      "text/plain": [
       "<Figure size 640x480 with 1 Axes>"
      ]
     },
     "metadata": {},
     "output_type": "display_data"
    },
    {
     "data": {
      "image/png": "[encoded data removed]",
      "text/plain": [
       "<Figure size 640x480 with 1 Axes>"
      ]
     },
     "metadata": {},
     "output_type": "display_data"
    },
    {
     "data": {
      "image/png": "[encoded data removed]",
      "text/plain": [
       "<Figure size 640x480 with 1 Axes>"
      ]
     },
     "metadata": {},
     "output_type": "display_data"
    },
    {
     "data": {
      "image/png": "[encoded data removed]",
      "text/plain": [
       "<Figure size 1200x800 with 1 Axes>"
      ]
     },
     "metadata": {},
     "output_type": "display_data"
    },
    {
     "data": {
      "image/png": "[encoded data removed]",
      "text/plain": [
       "<Figure size 640x480 with 1 Axes>"
      ]
     },
     "metadata": {},
     "output_type": "display_data"
    },
    {
     "data": {
      "image/png": "[encoded data removed]",
      "text/plain": [
       "<Figure size 640x480 with 1 Axes>"
      ]
     },
     "metadata": {},
     "output_type": "display_data"
    },
    {
     "data": {
      "image/png": "[encoded data removed]",
      "text/plain": [
       "<Figure size 640x480 with 1 Axes>"
      ]
     },
     "metadata": {},
     "output_type": "display_data"
    },
    {
     "data": {
      "image/png": "[encoded data removed]",
      "text/plain": [
       "<Figure size 640x480 with 1 Axes>"
      ]
     },
     "metadata": {},
     "output_type": "display_data"
    },
    {
     "data": {
      "image/png": "[encoded data removed]",
      "text/plain": [
       "<Figure size 640x480 with 1 Axes>"
      ]
     },
     "metadata": {},
     "output_type": "display_data"
    },
    {
     "data": {
      "image/png": "[encoded data removed]",
      "text/plain": [
       "<Figure size 640x480 with 1 Axes>"
      ]
     },
     "metadata": {},
     "output_type": "display_data"
    },
    {
     "data": {
      "image/png": "[encoded data removed]",
      "text/plain": [
       "<Figure size 640x480 with 1 Axes>"
      ]
     },
     "metadata": {},
     "output_type": "display_data"
    },
    {
     "data": {
      "image/png": "[encoded data removed]",
      "text/plain": [
       "<Figure size 640x480 with 1 Axes>"
      ]
     },
     "metadata": {},
     "output_type": "display_data"
    },
    {
     "data": {
      "image/png": "[encoded data removed]",
      "text/plain": [
       "<Figure size 640x480 with 1 Axes>"
      ]
     },
     "metadata": {},
     "output_type": "display_data"
    },
    {
     "data": {
      "image/png": "[encoded data removed]",
      "text/plain": [
       "<Figure size 1200x800 with 1 Axes>"
      ]
     },
     "metadata": {},
     "output_type": "display_data"
    },
    {
     "data": {
      "image/png": "[encoded data removed]",
      "text/plain": [
       "<Figure size 640x480 with 1 Axes>"
      ]
     },
     "metadata": {},
     "output_type": "display_data"
    }
   ],
   "source": [
    "%run main.py"
   ]
  }
 ],
 "metadata": {
  "kernelspec": {
   "display_name": "torch",
   "language": "python",
   "name": "python3"
  },
  "language_info": {
   "codemirror_mode": {
    "name": "ipython",
    "version": 3
   },
   "file_extension": ".py",
   "mimetype": "text/x-python",
   "name": "python",
   "nbconvert_exporter": "python",
   "pygments_lexer": "ipython3",
   "version": "3.11.5"
  }
 },
 "nbformat": 4,
 "nbformat_minor": 2
}
