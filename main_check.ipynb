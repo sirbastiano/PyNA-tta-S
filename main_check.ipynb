{
 "cells": [
  {
   "cell_type": "code",
   "execution_count": 1,
   "metadata": {},
   "outputs": [],
   "source": [
    "%load_ext autoreload\n",
    "%autoreload 2"
   ]
  },
  {
   "cell_type": "code",
   "execution_count": 2,
   "metadata": {},
   "outputs": [
    {
     "name": "stdout",
     "output_type": "stream",
     "text": [
      "Task: C\n"
     ]
    }
   ],
   "source": [
    "import os\n",
    "os.environ[\"PYTORCH_CUDA_ALLOC_CONF\"] = \"max_split_size_mb:128\"\n",
    "\n",
    "# Imports\n",
    "import configparser\n",
    "import pynattas as pnas\n",
    "from datetime import datetime\n",
    "import time\n",
    "\n",
    "config = configparser.ConfigParser()\n",
    "config.read('config.ini')\n",
    "\n",
    "\n",
    "nas_check = config.getboolean(section='Mode', option='network_architecture_search')\n",
    "ht_check = config.getboolean(section='Mode', option='hyperparameter_tuning')\n",
    "\n",
    "\n",
    "task = config['Mode']['task']\n",
    "if task not in ['C','D']:\n",
    "    print(f\"Error: Selected Task {task} is not available. Check config_optimizer.ini for verification.\")\n",
    "    exit()\n",
    "else:\n",
    "    print(f\"Task: {task}\")"
   ]
  },
  {
   "cell_type": "code",
   "execution_count": 3,
   "metadata": {},
   "outputs": [
    {
     "name": "stdout",
     "output_type": "stream",
     "text": [
      "Max Layers: 10\n",
      "Max Iterations: 4\n",
      "Population Size: 8\n",
      "Log Path: ./logs/GA_logs\n",
      "Mating Pool Cutoff: 0.8\n",
      "Mutation Probability: 0.1\n"
     ]
    }
   ],
   "source": [
    "# Define NAS parameters and run GA\n",
    "max_layers = config.getint('NAS', 'max_layers')\n",
    "max_iterations = int(config['GA']['max_iterations'])\n",
    "population_size = int(config['GA']['population_size'])\n",
    "log_path = str(config['GA']['logs_dir_GA'])\n",
    "mating_pool_cutoff = float(config['GA']['mating_pool_cutoff'])\n",
    "mutation_probability = float(config['GA']['mutation_probability'])\n",
    "############################################\n",
    "print(f\"Max Layers: {max_layers}\")\n",
    "print(f\"Max Iterations: {max_iterations}\")\n",
    "print(f\"Population Size: {population_size}\")\n",
    "print(f\"Log Path: {log_path}\")\n",
    "print(f\"Mating Pool Cutoff: {mating_pool_cutoff}\")\n",
    "print(f\"Mutation Probability: {mutation_probability}\")"
   ]
  },
  {
   "cell_type": "code",
   "execution_count": 4,
   "metadata": {},
   "outputs": [
    {
     "name": "stdout",
     "output_type": "stream",
     "text": [
      "Initial Population: 8\n",
      "Current Generation: 0\n"
     ]
    },
    {
     "data": {
      "text/plain": [
       "['LOaln1|Pa|Ldo2agn1|PM|LRr3aln1|PM|Ldo3arn1|PM|Leo2k3s1p0aln1|PI|Lne6aln1|PM|LPe4aln1|PI|Ldo3aln1|PI|Ldo2agn1|Pa|Lne6aln1|Pa|HC||',\n",
       " 'Lbo2k4s2p2aln1|PM|LPe3agn1|PI|Leo4k3s1p1aln1|PI|LPe3aln1|PM|LRr3aln1|Pa|Lne4agn1|PI|LPe3aln1|Pa|Leo4k3s2p0agn1|PI|Lco3k3s1p0agn1|PI|HC||',\n",
       " 'Ldo4arn1|PM|LRr4agn1|PI|Ldo2agn1|Pa|Leo2k4s2p0aln1|Pa|LPe3aln1|PI|LOagn1|PM|LRr3agn1|Pa|Ldo2arn1|Pa|Leo3k5s2p0agn1|PI|Leo3k3s1p0arn1|PM|HC||',\n",
       " 'LPe4aln1|PM|Lco3k5s2p1arn1|PI|LRr3agn1|PM|LOaln1|PM|Ldo4arn1|Pa|HC||',\n",
       " 'Ldo2agn1|Pa|Leo2k5s2p0agn1|PM|Lne6aln1|PM|Lne3arn1|PI|HC||',\n",
       " 'LPe4aln1|Pa|Lco3k3s2p2agn1|Pa|Ldo2agn1|PI|Lco2k3s1p1aln1|PM|Ldo2arn1|Pa|Ldo3arn1|Pa|Lme6aln1|Pa|HC||',\n",
       " 'Leo4k5s1p2arn1|Pa|Lco3k4s2p0agn1|PI|Lme3arn1|PM|Lco3k5s1p2arn1|PI|Ldo4agn1|PM|Lme4aln1|PM|Lne5arn1|Pa|Lme5arn1|PM|LRr3arn1|Pa|Ldo2aln1|PM|HC||',\n",
       " 'LRr3aln1|Pa|LPe3agn1|PI|Lme3aln1|Pa|HC||']"
      ]
     },
     "execution_count": 4,
     "metadata": {},
     "output_type": "execute_result"
    }
   ],
   "source": [
    "# Define population\n",
    "from pynattas.builder.population import Population\n",
    "\n",
    "pop = Population(max_layers=max_layers, n_individuals=population_size)\n",
    "print(f\"Initial Population: {len(pop.population)}\")\n",
    "print(f\"Current Generation: {pop.iteration}\")\n",
    "\n",
    "[x.architecture for x in pop.population]"
   ]
  },
  {
   "cell_type": "code",
   "execution_count": 9,
   "metadata": {},
   "outputs": [
    {
     "data": {
      "text/plain": [
       "[{'layer_type': 'DenseNetBlock',\n",
       "  'out_channels_coefficient': '4',\n",
       "  'activation': 'ReLU',\n",
       "  'num_blocks': '1'},\n",
       " {'layer_type': 'MaxPool'},\n",
       " {'layer_type': 'ResNetBlock',\n",
       "  'reduction_factor': '4',\n",
       "  'activation': 'GELU',\n",
       "  'num_blocks': '1'},\n",
       " {'layer_type': 'Identity'},\n",
       " {'layer_type': 'DenseNetBlock',\n",
       "  'out_channels_coefficient': '2',\n",
       "  'activation': 'GELU',\n",
       "  'num_blocks': '1'},\n",
       " {'layer_type': 'AvgPool'},\n",
       " {'layer_type': 'ConvSE',\n",
       "  'out_channels_coefficient': '2',\n",
       "  'kernel_size': '4',\n",
       "  'stride': '2',\n",
       "  'padding': '0',\n",
       "  'activation': 'LeakyReLU',\n",
       "  'num_blocks': '1'},\n",
       " {'layer_type': 'AvgPool'},\n",
       " {'layer_type': 'CSPMBConvBlock',\n",
       "  'expansion_factor': '3',\n",
       "  'activation': 'LeakyReLU',\n",
       "  'num_blocks': '1'},\n",
       " {'layer_type': 'Identity'},\n",
       " {'layer_type': 'CSPConvBlock', 'activation': 'GELU', 'num_blocks': '1'},\n",
       " {'layer_type': 'MaxPool'},\n",
       " {'layer_type': 'ResNetBlock',\n",
       "  'reduction_factor': '3',\n",
       "  'activation': 'GELU',\n",
       "  'num_blocks': '1'},\n",
       " {'layer_type': 'AvgPool'},\n",
       " {'layer_type': 'DenseNetBlock',\n",
       "  'out_channels_coefficient': '2',\n",
       "  'activation': 'ReLU',\n",
       "  'num_blocks': '1'},\n",
       " {'layer_type': 'AvgPool'},\n",
       " {'layer_type': 'ConvSE',\n",
       "  'out_channels_coefficient': '3',\n",
       "  'kernel_size': '5',\n",
       "  'stride': '2',\n",
       "  'padding': '0',\n",
       "  'activation': 'GELU',\n",
       "  'num_blocks': '1'},\n",
       " {'layer_type': 'Identity'},\n",
       " {'layer_type': 'ConvSE',\n",
       "  'out_channels_coefficient': '3',\n",
       "  'kernel_size': '3',\n",
       "  'stride': '1',\n",
       "  'padding': '0',\n",
       "  'activation': 'ReLU',\n",
       "  'num_blocks': '1'},\n",
       " {'layer_type': 'MaxPool'},\n",
       " {'layer_type': 'ClassificationHead'}]"
      ]
     },
     "execution_count": 9,
     "metadata": {},
     "output_type": "execute_result"
    }
   ],
   "source": [
    "from pynattas.builder.netBuilder import GenericNetwork \n",
    "from pynattas.utils import layerCoder\n",
    "\n",
    "idx = 2\n",
    "parsed_layers = layerCoder.parse_architecture_code(pop.population[idx].architecture)\n",
    "parsed_layers"
   ]
  },
  {
   "cell_type": "code",
   "execution_count": 10,
   "metadata": {},
   "outputs": [
    {
     "ename": "AttributeError",
     "evalue": "'GenericNetwork' object has no attribute 'outchannels'",
     "output_type": "error",
     "traceback": [
      "\u001b[0;31m---------------------------------------------------------------------------\u001b[0m",
      "\u001b[0;31mAttributeError\u001b[0m                            Traceback (most recent call last)",
      "Cell \u001b[0;32mIn[10], line 6\u001b[0m\n\u001b[1;32m      3\u001b[0m input_width \u001b[38;5;241m=\u001b[39m \u001b[38;5;241m224\u001b[39m\n\u001b[1;32m      4\u001b[0m num_classes \u001b[38;5;241m=\u001b[39m \u001b[38;5;241m2\u001b[39m\n\u001b[0;32m----> 6\u001b[0m Net \u001b[38;5;241m=\u001b[39m \u001b[43mGenericNetwork\u001b[49m\u001b[43m(\u001b[49m\n\u001b[1;32m      7\u001b[0m \u001b[43m        \u001b[49m\u001b[43mparsed_layers\u001b[49m\u001b[43m,\u001b[49m\u001b[43m \u001b[49m\n\u001b[1;32m      8\u001b[0m \u001b[43m        \u001b[49m\u001b[43minput_channels\u001b[49m\u001b[43m,\u001b[49m\n\u001b[1;32m      9\u001b[0m \u001b[43m        \u001b[49m\u001b[43minput_height\u001b[49m\u001b[43m,\u001b[49m\n\u001b[1;32m     10\u001b[0m \u001b[43m        \u001b[49m\u001b[43minput_width\u001b[49m\u001b[43m,\u001b[49m\n\u001b[1;32m     11\u001b[0m \u001b[43m        \u001b[49m\u001b[43mnum_classes\u001b[49m\u001b[43m,\u001b[49m\n\u001b[1;32m     12\u001b[0m \u001b[43m)\u001b[49m\n",
      "File \u001b[0;32m~/Desktop/PyNAS/PyNA-tta-S/pynattas/builder/netBuilder.py:410\u001b[0m, in \u001b[0;36mGenericNetwork.__init__\u001b[0;34m(self, parsed_layers, input_channels, input_height, input_width, num_classes)\u001b[0m\n\u001b[1;32m    407\u001b[0m \u001b[38;5;28;01melse\u001b[39;00m:\n\u001b[1;32m    408\u001b[0m     \u001b[38;5;28;01mraise\u001b[39;00m \u001b[38;5;167;01mValueError\u001b[39;00m(\u001b[38;5;124mf\u001b[39m\u001b[38;5;124m\"\u001b[39m\u001b[38;5;124mUnknown layer type: \u001b[39m\u001b[38;5;132;01m{\u001b[39;00mlayer_type\u001b[38;5;132;01m}\u001b[39;00m\u001b[38;5;124m\"\u001b[39m)\n\u001b[0;32m--> 410\u001b[0m \u001b[38;5;28;01mif\u001b[39;00m layer_idx \u001b[38;5;129;01min\u001b[39;00m \u001b[38;5;28;43mself\u001b[39;49m\u001b[38;5;241;43m.\u001b[39;49m\u001b[43moutchannels\u001b[49m:\n\u001b[1;32m    411\u001b[0m     \u001b[38;5;28mself\u001b[39m\u001b[38;5;241m.\u001b[39moutchannels_size\u001b[38;5;241m.\u001b[39mappend(current_channels)\n\u001b[1;32m    413\u001b[0m \u001b[38;5;28mself\u001b[39m\u001b[38;5;241m.\u001b[39mlayers\u001b[38;5;241m.\u001b[39mappend(layer)\n",
      "File \u001b[0;32m/opt/anaconda3/envs/pynatas/lib/python3.10/site-packages/torch/nn/modules/module.py:1729\u001b[0m, in \u001b[0;36mModule.__getattr__\u001b[0;34m(self, name)\u001b[0m\n\u001b[1;32m   1727\u001b[0m     \u001b[38;5;28;01mif\u001b[39;00m name \u001b[38;5;129;01min\u001b[39;00m modules:\n\u001b[1;32m   1728\u001b[0m         \u001b[38;5;28;01mreturn\u001b[39;00m modules[name]\n\u001b[0;32m-> 1729\u001b[0m \u001b[38;5;28;01mraise\u001b[39;00m \u001b[38;5;167;01mAttributeError\u001b[39;00m(\u001b[38;5;124mf\u001b[39m\u001b[38;5;124m\"\u001b[39m\u001b[38;5;124m'\u001b[39m\u001b[38;5;132;01m{\u001b[39;00m\u001b[38;5;28mtype\u001b[39m(\u001b[38;5;28mself\u001b[39m)\u001b[38;5;241m.\u001b[39m\u001b[38;5;18m__name__\u001b[39m\u001b[38;5;132;01m}\u001b[39;00m\u001b[38;5;124m'\u001b[39m\u001b[38;5;124m object has no attribute \u001b[39m\u001b[38;5;124m'\u001b[39m\u001b[38;5;132;01m{\u001b[39;00mname\u001b[38;5;132;01m}\u001b[39;00m\u001b[38;5;124m'\u001b[39m\u001b[38;5;124m\"\u001b[39m)\n",
      "\u001b[0;31mAttributeError\u001b[0m: 'GenericNetwork' object has no attribute 'outchannels'"
     ]
    }
   ],
   "source": [
    "input_channels = 3\n",
    "input_height = 224\n",
    "input_width = 224\n",
    "num_classes = 2\n",
    "\n",
    "Net = GenericNetwork(\n",
    "        parsed_layers, \n",
    "        input_channels,\n",
    "        input_height,\n",
    "        input_width,\n",
    "        num_classes,\n",
    ")"
   ]
  },
  {
   "cell_type": "code",
   "execution_count": null,
   "metadata": {},
   "outputs": [],
   "source": []
  },
  {
   "cell_type": "code",
   "execution_count": null,
   "metadata": {},
   "outputs": [],
   "source": []
  },
  {
   "cell_type": "code",
   "execution_count": null,
   "metadata": {},
   "outputs": [],
   "source": []
  },
  {
   "cell_type": "code",
   "execution_count": 41,
   "metadata": {},
   "outputs": [],
   "source": [
    "import re\n",
    "\n",
    "segment = 'Lco3k4s2p1agn1'\n",
    "##########################\n",
    "params = segment[2:]  # Parameters portion of the segment\n",
    "\n",
    "# Extract alphanumeric pairs, keeping in mind cases like 'agn1'\n",
    "param_pairs = re.findall(r'[a-zA-Z]+[0-9]*', params)\n",
    "\n",
    "segment_info = {}\n",
    "for pair in param_pairs:\n",
    "    # Special case for 'agn1': manually split 'a:g' and 'n:1'\n",
    "    if pair.startswith('a'):\n",
    "        key_value_pairs = [(pair[0], pair[1]), (pair[2], pair[3])]\n",
    "    else:\n",
    "        key_value_pairs = [(pair[0], pair[1:])]\n",
    "\n",
    "    segment_info.update({key: value for key, value in key_value_pairs})"
   ]
  },
  {
   "cell_type": "code",
   "execution_count": null,
   "metadata": {},
   "outputs": [],
   "source": []
  },
  {
   "cell_type": "code",
   "execution_count": null,
   "metadata": {},
   "outputs": [],
   "source": []
  },
  {
   "cell_type": "code",
   "execution_count": null,
   "metadata": {},
   "outputs": [],
   "source": []
  },
  {
   "cell_type": "code",
   "execution_count": 6,
   "metadata": {},
   "outputs": [],
   "source": [
    "# from pynattas.optimizers import ga"
   ]
  },
  {
   "cell_type": "code",
   "execution_count": 4,
   "metadata": {},
   "outputs": [
    {
     "ename": "AttributeError",
     "evalue": "module 'pynattas.optimizers' has no attribute 'ga'",
     "output_type": "error",
     "traceback": [
      "\u001b[0;31m---------------------------------------------------------------------------\u001b[0m",
      "\u001b[0;31mAttributeError\u001b[0m                            Traceback (most recent call last)",
      "Cell \u001b[0;32mIn[4], line 1\u001b[0m\n\u001b[0;32m----> 1\u001b[0m nas_result \u001b[38;5;241m=\u001b[39m \u001b[43mpnas\u001b[49m\u001b[38;5;241;43m.\u001b[39;49m\u001b[43moptimizers\u001b[49m\u001b[38;5;241;43m.\u001b[39;49m\u001b[43mga\u001b[49m\u001b[38;5;241m.\u001b[39mga_optimizer(\n\u001b[1;32m      2\u001b[0m     max_layers\u001b[38;5;241m=\u001b[39mmax_layers,\n\u001b[1;32m      3\u001b[0m     max_iter\u001b[38;5;241m=\u001b[39mmax_iterations,\n\u001b[1;32m      4\u001b[0m     n_individuals\u001b[38;5;241m=\u001b[39mpopulation_size,\n\u001b[1;32m      5\u001b[0m     mating_pool_cutoff\u001b[38;5;241m=\u001b[39mmating_pool_cutoff,\n\u001b[1;32m      6\u001b[0m     mutation_probability\u001b[38;5;241m=\u001b[39mmutation_probability,\n\u001b[1;32m      7\u001b[0m     logs_directory\u001b[38;5;241m=\u001b[39mlog_path,\n\u001b[1;32m      8\u001b[0m     task\u001b[38;5;241m=\u001b[39mtask,\n\u001b[1;32m      9\u001b[0m )\n",
      "\u001b[0;31mAttributeError\u001b[0m: module 'pynattas.optimizers' has no attribute 'ga'"
     ]
    }
   ],
   "source": [
    "# nas_result = pnas.optimizers.ga.ga_optimizer(\n",
    "#     max_layers=max_layers,\n",
    "#     max_iter=max_iterations,\n",
    "#     n_individuals=population_size,\n",
    "#     mating_pool_cutoff=mating_pool_cutoff,\n",
    "#     mutation_probability=mutation_probability,\n",
    "#     logs_directory=log_path,\n",
    "#     task=task,\n",
    "# )"
   ]
  },
  {
   "cell_type": "code",
   "execution_count": null,
   "metadata": {},
   "outputs": [],
   "source": []
  }
 ],
 "metadata": {
  "kernelspec": {
   "display_name": "pynatas",
   "language": "python",
   "name": "python3"
  },
  "language_info": {
   "codemirror_mode": {
    "name": "ipython",
    "version": 3
   },
   "file_extension": ".py",
   "mimetype": "text/x-python",
   "name": "python",
   "nbconvert_exporter": "python",
   "pygments_lexer": "ipython3",
   "version": "3.10.15"
  }
 },
 "nbformat": 4,
 "nbformat_minor": 2
}
